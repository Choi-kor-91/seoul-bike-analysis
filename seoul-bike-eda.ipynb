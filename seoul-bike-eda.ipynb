{
 "cells": [
  {
   "cell_type": "markdown",
   "metadata": {},
   "source": [
    "# 서울특별시 공공자전거 따릉이 대여이력 분석\n",
    "* [miningful/seoulbike: 따릉이 따세권EDA](https://github.com/miningful/seoulbike)에서 흥미를 얻어 분석을 시작하게 됨\n",
    "\n",
    "## 데이터 출처 :\n",
    "* 서울특별시 공공자전거 대여이력 정보\n",
    "http://data.seoul.go.kr/dataList/datasetView.do?infId=OA-15182&srvType=F&serviceKind=1&currentPageNo=1\n",
    "\n",
    "* `(이달의주요공개정보)_서울_공공자전거(따릉이)_이용현황 자료(161021).xlsx (1.24MB)`\n",
    "https://opengov.seoul.go.kr/anspruch/10045476\n",
    "\n",
    "\n",
    "## 관련자료 \n",
    "* [(석간) 서울시 따릉이 회원 62만 돌파 출 퇴근시간 38% 집중](http://spp.seoul.go.kr/main/news/news_report.jsp#view/253821)\n",
    "* [공공자전거 따릉이 인기 따라 '따세권' 형성…소외지역도 :: 공감언론 뉴시스통신사 ::](http://www.newsis.com/view/?id=NISX20180706_0000356247&cID=10201&pID=10200)\n",
    "* [서울특별시 빅데이터 캠퍼스 > 분석결과/사례공유 > 서울시 분석사례 > 서울시 자전거 이동경로 분석](https://bigdata.seoul.go.kr/noti/selectNoti.do?r_id=P430&bbs_seq=229&sch_type=&sch_text=&currentPage=1)\n",
    "* [따릉이 편리하게 이용하기 위한 14가지 | 서울시 정보소통광장(정보공개)](https://opengov.seoul.go.kr/mediahub/15085803)"
   ]
  },
  {
   "cell_type": "code",
   "execution_count": 1,
   "metadata": {},
   "outputs": [],
   "source": [
    "# 노트북이 간결해 보이도록 경고 문구는 출력되지 않도록 함\n",
    "# 프로그래밍에 익숙하다면 경고 문구도 출력해서 보도록 한다. \n",
    "# 하지만 익숙하지 않다면 당황하지 않기 위해 경고 메시지는 찍히지 않도록 한다.\n",
    "import warnings\n",
    "warnings.simplefilter(action='ignore', category=FutureWarning)"
   ]
  },
  {
   "cell_type": "markdown",
   "metadata": {},
   "source": [
    "## 사용할 도구 가져오기"
   ]
  },
  {
   "cell_type": "code",
   "execution_count": 2,
   "metadata": {},
   "outputs": [],
   "source": [
    "import pandas as pd\n",
    "import numpy as np\n",
    "from plotnine import *\n",
    "\n",
    "\n",
    "# 그래프가 노트북 안에 보이게 하기 위해\n",
    "%matplotlib inline"
   ]
  },
  {
   "cell_type": "markdown",
   "metadata": {},
   "source": [
    "## 데이터 불러오기\n",
    "* 서울시정보소통광장에서 다운로드 받은 csv파일과 크롤링해온 대여소 정보가 있다.\n",
    "* 이 노트북에서는 전체 데이터 중 일부 데이터만을 사용해서 특정 시기의 데이터만 분석해 보고 점점 더 큰 데이터를 불러와 보도록 한다."
   ]
  },
  {
   "cell_type": "code",
   "execution_count": 3,
   "metadata": {},
   "outputs": [
    {
     "name": "stdout",
     "output_type": "stream",
     "text": [
      "bike_rent_station.csv\n",
      "bike_rent_station_gu.csv\n",
      "seoul-bike-2016.csv\n",
      "seoul-bike-2017.csv\n",
      "seoul-bike-2018.csv\n",
      "서울_공공자전거_따릉이_이용현황자료_20161026.xlsx\n",
      "서울특별시 공공자전거 대여이력 정보_2015년.csv\n",
      "서울특별시 공공자전거 대여이력 정보_2016년_1.csv\n",
      "서울특별시 공공자전거 대여이력 정보_2016년_2.csv\n",
      "서울특별시 공공자전거 대여이력 정보_2016년_3.csv\n",
      "서울특별시 공공자전거 대여이력 정보_2017년_1.csv\n",
      "서울특별시 공공자전거 대여이력 정보_2017년_2분기_1.csv\n",
      "서울특별시 공공자전거 대여이력 정보_2017년_2분기_2.csv\n",
      "서울특별시 공공자전거 대여이력 정보_2017년_3분기_1.csv\n",
      "서울특별시 공공자전거 대여이력 정보_2017년_3분기_2.csv\n",
      "서울특별시 공공자전거 대여이력 정보_2017년_4분기_1.csv\n",
      "서울특별시 공공자전거 대여이력 정보_2017년_4분기_2.csv\n",
      "서울특별시 공공자전거 대여이력 정보_2018년_1분기1.csv\n",
      "서울특별시 공공자전거 대여이력 정보_2018년_2분기_1.csv\n",
      "서울특별시 공공자전거 대여이력 정보_2018년_2분기_2.csv\n",
      "서울특별시 공공자전거 대여이력 정보_2018년_2분기_3.csv\n",
      "서울특별시 공공자전거 대여이력 정보_2018년_2분기_4.csv\n"
     ]
    }
   ],
   "source": [
    "%ls data/"
   ]
  },
  {
   "cell_type": "code",
   "execution_count": 4,
   "metadata": {},
   "outputs": [
    {
     "data": {
      "text/plain": [
       "(586304, 11)"
      ]
     },
     "execution_count": 4,
     "metadata": {},
     "output_type": "execute_result"
    }
   ],
   "source": [
    "df = pd.read_csv('data/서울특별시 공공자전거 대여이력 정보_2018년_2분기_4.csv', encoding='cp949')\n",
    "# 2018년 2분기까지의 데이터를 보고 싶다면 아래 파일을 불러온다.\n",
    "# %time df = pd.read_csv('data/seoul-bike-2018.csv')\n",
    "df.shape"
   ]
  },
  {
   "cell_type": "markdown",
   "metadata": {},
   "source": [
    "## 데이터 미리보기 및 요약하기\n",
    "* head와 tail을 통해 데이터 미리보기를 해볼 수 있다.\n",
    "* head는 데이터의 윗부분을 tail은 데이터의 하단부를 미리보기 해준다. \n",
    "* 괄호안에 숫자를 넣어주면 해당 숫자만큼의 데이터를 가져온다. 기본값은 5이다."
   ]
  },
  {
   "cell_type": "code",
   "execution_count": 5,
   "metadata": {},
   "outputs": [
    {
     "data": {
      "text/html": [
       "<div>\n",
       "<style scoped>\n",
       "    .dataframe tbody tr th:only-of-type {\n",
       "        vertical-align: middle;\n",
       "    }\n",
       "\n",
       "    .dataframe tbody tr th {\n",
       "        vertical-align: top;\n",
       "    }\n",
       "\n",
       "    .dataframe thead th {\n",
       "        text-align: right;\n",
       "    }\n",
       "</style>\n",
       "<table border=\"1\" class=\"dataframe\">\n",
       "  <thead>\n",
       "    <tr style=\"text-align: right;\">\n",
       "      <th></th>\n",
       "      <th>'자전거번호'</th>\n",
       "      <th>'대여일시'</th>\n",
       "      <th>'대여대여소번호'</th>\n",
       "      <th>'대여대여소명'</th>\n",
       "      <th>'대여거치대'</th>\n",
       "      <th>'반납일시'</th>\n",
       "      <th>'반납대여소번호'</th>\n",
       "      <th>'반납대여소명'</th>\n",
       "      <th>'반납거치대'</th>\n",
       "      <th>'이용시간(분)'</th>\n",
       "      <th>'이용거리(M)'</th>\n",
       "    </tr>\n",
       "  </thead>\n",
       "  <tbody>\n",
       "    <tr>\n",
       "      <th>0</th>\n",
       "      <td>'SPB-11906'</td>\n",
       "      <td>'2018-06-16 00:00:07'</td>\n",
       "      <td>'932'</td>\n",
       "      <td>' 예일여중'</td>\n",
       "      <td>1</td>\n",
       "      <td>'2018-06-16 00:16:41'</td>\n",
       "      <td>'934'</td>\n",
       "      <td>' 신사동 성당'</td>\n",
       "      <td>11</td>\n",
       "      <td>15</td>\n",
       "      <td>2160</td>\n",
       "    </tr>\n",
       "    <tr>\n",
       "      <th>1</th>\n",
       "      <td>'SPB-16954'</td>\n",
       "      <td>'2018-06-16 00:00:07'</td>\n",
       "      <td>'272'</td>\n",
       "      <td>' 당산육갑문'</td>\n",
       "      <td>16</td>\n",
       "      <td>'2018-06-16 02:00:36'</td>\n",
       "      <td>'1827'</td>\n",
       "      <td>' 독산보도육교 앞 자전거 보관소'</td>\n",
       "      <td>9</td>\n",
       "      <td>120</td>\n",
       "      <td>18100</td>\n",
       "    </tr>\n",
       "    <tr>\n",
       "      <th>2</th>\n",
       "      <td>'SPB-09676'</td>\n",
       "      <td>'2018-06-16 00:00:11'</td>\n",
       "      <td>'1036'</td>\n",
       "      <td>' 고덕동 주양쇼핑'</td>\n",
       "      <td>7</td>\n",
       "      <td>'2018-06-16 00:24:05'</td>\n",
       "      <td>'1038'</td>\n",
       "      <td>' 강일 다솜 어린이 공원'</td>\n",
       "      <td>9</td>\n",
       "      <td>23</td>\n",
       "      <td>3350</td>\n",
       "    </tr>\n",
       "    <tr>\n",
       "      <th>3</th>\n",
       "      <td>'SPB-07143'</td>\n",
       "      <td>'2018-06-16 00:00:15'</td>\n",
       "      <td>'1726'</td>\n",
       "      <td>' 삼익세라믹아파트교차로'</td>\n",
       "      <td>7</td>\n",
       "      <td>'2018-06-16 00:15:31'</td>\n",
       "      <td>'1706'</td>\n",
       "      <td>' 기업은행 앞'</td>\n",
       "      <td>9</td>\n",
       "      <td>14</td>\n",
       "      <td>1480</td>\n",
       "    </tr>\n",
       "    <tr>\n",
       "      <th>4</th>\n",
       "      <td>'SPB-13007'</td>\n",
       "      <td>'2018-06-16 00:00:16'</td>\n",
       "      <td>'2058'</td>\n",
       "      <td>' 노량진동 맥도널드앞'</td>\n",
       "      <td>10</td>\n",
       "      <td>'2018-06-16 00:14:25'</td>\n",
       "      <td>'258'</td>\n",
       "      <td>' 신길역3번출구'</td>\n",
       "      <td>8</td>\n",
       "      <td>13</td>\n",
       "      <td>2920</td>\n",
       "    </tr>\n",
       "  </tbody>\n",
       "</table>\n",
       "</div>"
      ],
      "text/plain": [
       "       '자전거번호'                 '대여일시' '대여대여소번호'        '대여대여소명'  '대여거치대'  \\\n",
       "0  'SPB-11906'  '2018-06-16 00:00:07'     '932'         ' 예일여중'        1   \n",
       "1  'SPB-16954'  '2018-06-16 00:00:07'     '272'        ' 당산육갑문'       16   \n",
       "2  'SPB-09676'  '2018-06-16 00:00:11'    '1036'     ' 고덕동 주양쇼핑'        7   \n",
       "3  'SPB-07143'  '2018-06-16 00:00:15'    '1726'  ' 삼익세라믹아파트교차로'        7   \n",
       "4  'SPB-13007'  '2018-06-16 00:00:16'    '2058'   ' 노량진동 맥도널드앞'       10   \n",
       "\n",
       "                  '반납일시' '반납대여소번호'             '반납대여소명'  '반납거치대'  '이용시간(분)'  \\\n",
       "0  '2018-06-16 00:16:41'     '934'            ' 신사동 성당'       11         15   \n",
       "1  '2018-06-16 02:00:36'    '1827'  ' 독산보도육교 앞 자전거 보관소'        9        120   \n",
       "2  '2018-06-16 00:24:05'    '1038'      ' 강일 다솜 어린이 공원'        9         23   \n",
       "3  '2018-06-16 00:15:31'    '1706'            ' 기업은행 앞'        9         14   \n",
       "4  '2018-06-16 00:14:25'     '258'           ' 신길역3번출구'        8         13   \n",
       "\n",
       "   '이용거리(M)'  \n",
       "0       2160  \n",
       "1      18100  \n",
       "2       3350  \n",
       "3       1480  \n",
       "4       2920  "
      ]
     },
     "execution_count": 5,
     "metadata": {},
     "output_type": "execute_result"
    }
   ],
   "source": [
    "df.head()"
   ]
  },
  {
   "cell_type": "code",
   "execution_count": 6,
   "metadata": {},
   "outputs": [
    {
     "data": {
      "text/html": [
       "<div>\n",
       "<style scoped>\n",
       "    .dataframe tbody tr th:only-of-type {\n",
       "        vertical-align: middle;\n",
       "    }\n",
       "\n",
       "    .dataframe tbody tr th {\n",
       "        vertical-align: top;\n",
       "    }\n",
       "\n",
       "    .dataframe thead th {\n",
       "        text-align: right;\n",
       "    }\n",
       "</style>\n",
       "<table border=\"1\" class=\"dataframe\">\n",
       "  <thead>\n",
       "    <tr style=\"text-align: right;\">\n",
       "      <th></th>\n",
       "      <th>'자전거번호'</th>\n",
       "      <th>'대여일시'</th>\n",
       "      <th>'대여대여소번호'</th>\n",
       "      <th>'대여대여소명'</th>\n",
       "      <th>'대여거치대'</th>\n",
       "      <th>'반납일시'</th>\n",
       "      <th>'반납대여소번호'</th>\n",
       "      <th>'반납대여소명'</th>\n",
       "      <th>'반납거치대'</th>\n",
       "      <th>'이용시간(분)'</th>\n",
       "      <th>'이용거리(M)'</th>\n",
       "    </tr>\n",
       "  </thead>\n",
       "  <tbody>\n",
       "    <tr>\n",
       "      <th>586299</th>\n",
       "      <td>'SPB-15985'</td>\n",
       "      <td>'2018-06-30 23:59:55'</td>\n",
       "      <td>'505'</td>\n",
       "      <td>' 자양사거리 광진아크로텔 앞'</td>\n",
       "      <td>9</td>\n",
       "      <td>'2018-07-01 00:09:38'</td>\n",
       "      <td>'593'</td>\n",
       "      <td>'자양중앙나들목'</td>\n",
       "      <td>5</td>\n",
       "      <td>9</td>\n",
       "      <td>1230</td>\n",
       "    </tr>\n",
       "    <tr>\n",
       "      <th>586300</th>\n",
       "      <td>'SPB-15081'</td>\n",
       "      <td>'2018-06-30 23:59:55'</td>\n",
       "      <td>'1328'</td>\n",
       "      <td>' 월곡역 3번출구'</td>\n",
       "      <td>7</td>\n",
       "      <td>'2018-07-01 00:18:02'</td>\n",
       "      <td>'647'</td>\n",
       "      <td>' 신이문역 1번출구'</td>\n",
       "      <td>7</td>\n",
       "      <td>17</td>\n",
       "      <td>3600</td>\n",
       "    </tr>\n",
       "    <tr>\n",
       "      <th>586301</th>\n",
       "      <td>'SPB-13677'</td>\n",
       "      <td>'2018-06-30 23:59:57'</td>\n",
       "      <td>'2376'</td>\n",
       "      <td>' 수서역 6번출구 앞'</td>\n",
       "      <td>2</td>\n",
       "      <td>'2018-07-01 00:20:38'</td>\n",
       "      <td>'2387'</td>\n",
       "      <td>' 래미안강남힐즈 사거리'</td>\n",
       "      <td>5</td>\n",
       "      <td>20</td>\n",
       "      <td>2590</td>\n",
       "    </tr>\n",
       "    <tr>\n",
       "      <th>586302</th>\n",
       "      <td>'SPB-06577'</td>\n",
       "      <td>'2018-06-30 23:59:57'</td>\n",
       "      <td>'1251'</td>\n",
       "      <td>' 석촌역 2번출구'</td>\n",
       "      <td>2</td>\n",
       "      <td>'2018-07-01 00:57:29'</td>\n",
       "      <td>'1245'</td>\n",
       "      <td>' 문정 법조단지9'</td>\n",
       "      <td>4</td>\n",
       "      <td>57</td>\n",
       "      <td>6640</td>\n",
       "    </tr>\n",
       "    <tr>\n",
       "      <th>586303</th>\n",
       "      <td>'SPB-03842'</td>\n",
       "      <td>'2018-06-30 23:59:58'</td>\n",
       "      <td>'2169'</td>\n",
       "      <td>' 봉천역 2번출구'</td>\n",
       "      <td>6</td>\n",
       "      <td>'2018-07-01 00:08:05'</td>\n",
       "      <td>'2112'</td>\n",
       "      <td>' 서울대입구역 마에스트로'</td>\n",
       "      <td>7</td>\n",
       "      <td>7</td>\n",
       "      <td>910</td>\n",
       "    </tr>\n",
       "  </tbody>\n",
       "</table>\n",
       "</div>"
      ],
      "text/plain": [
       "            '자전거번호'                 '대여일시' '대여대여소번호'           '대여대여소명'  \\\n",
       "586299  'SPB-15985'  '2018-06-30 23:59:55'     '505'  ' 자양사거리 광진아크로텔 앞'   \n",
       "586300  'SPB-15081'  '2018-06-30 23:59:55'    '1328'        ' 월곡역 3번출구'   \n",
       "586301  'SPB-13677'  '2018-06-30 23:59:57'    '2376'      ' 수서역 6번출구 앞'   \n",
       "586302  'SPB-06577'  '2018-06-30 23:59:57'    '1251'        ' 석촌역 2번출구'   \n",
       "586303  'SPB-03842'  '2018-06-30 23:59:58'    '2169'        ' 봉천역 2번출구'   \n",
       "\n",
       "        '대여거치대'                 '반납일시' '반납대여소번호'         '반납대여소명'  '반납거치대'  \\\n",
       "586299        9  '2018-07-01 00:09:38'     '593'        '자양중앙나들목'        5   \n",
       "586300        7  '2018-07-01 00:18:02'     '647'     ' 신이문역 1번출구'        7   \n",
       "586301        2  '2018-07-01 00:20:38'    '2387'   ' 래미안강남힐즈 사거리'        5   \n",
       "586302        2  '2018-07-01 00:57:29'    '1245'      ' 문정 법조단지9'        4   \n",
       "586303        6  '2018-07-01 00:08:05'    '2112'  ' 서울대입구역 마에스트로'        7   \n",
       "\n",
       "        '이용시간(분)'  '이용거리(M)'  \n",
       "586299          9       1230  \n",
       "586300         17       3600  \n",
       "586301         20       2590  \n",
       "586302         57       6640  \n",
       "586303          7        910  "
      ]
     },
     "execution_count": 6,
     "metadata": {},
     "output_type": "execute_result"
    }
   ],
   "source": [
    "df.tail()"
   ]
  },
  {
   "cell_type": "markdown",
   "metadata": {},
   "source": [
    "* info를 사용하면 해당 데이터의 요약정보를 볼 수 있다.\n",
    "* 데이터의 갯수와 데이터의 타입, 크기 등을 볼 수 있다."
   ]
  },
  {
   "cell_type": "code",
   "execution_count": 7,
   "metadata": {},
   "outputs": [
    {
     "name": "stdout",
     "output_type": "stream",
     "text": [
      "<class 'pandas.core.frame.DataFrame'>\n",
      "RangeIndex: 586304 entries, 0 to 586303\n",
      "Data columns (total 11 columns):\n",
      "'자전거번호'      586304 non-null object\n",
      "'대여일시'       586304 non-null object\n",
      "'대여대여소번호'    586304 non-null object\n",
      "'대여대여소명'     586304 non-null object\n",
      "'대여거치대'      586304 non-null int64\n",
      "'반납일시'       586304 non-null object\n",
      "'반납대여소번호'    586304 non-null object\n",
      "'반납대여소명'     586304 non-null object\n",
      "'반납거치대'      586304 non-null int64\n",
      "'이용시간(분)'    586304 non-null int64\n",
      "'이용거리(M)'    586304 non-null int64\n",
      "dtypes: int64(4), object(7)\n",
      "memory usage: 49.2+ MB\n"
     ]
    }
   ],
   "source": [
    "df.info()"
   ]
  },
  {
   "cell_type": "code",
   "execution_count": 8,
   "metadata": {},
   "outputs": [
    {
     "data": {
      "text/html": [
       "<div>\n",
       "<style scoped>\n",
       "    .dataframe tbody tr th:only-of-type {\n",
       "        vertical-align: middle;\n",
       "    }\n",
       "\n",
       "    .dataframe tbody tr th {\n",
       "        vertical-align: top;\n",
       "    }\n",
       "\n",
       "    .dataframe thead th {\n",
       "        text-align: right;\n",
       "    }\n",
       "</style>\n",
       "<table border=\"1\" class=\"dataframe\">\n",
       "  <thead>\n",
       "    <tr style=\"text-align: right;\">\n",
       "      <th></th>\n",
       "      <th>'대여거치대'</th>\n",
       "      <th>'반납거치대'</th>\n",
       "      <th>'이용시간(분)'</th>\n",
       "      <th>'이용거리(M)'</th>\n",
       "    </tr>\n",
       "  </thead>\n",
       "  <tbody>\n",
       "    <tr>\n",
       "      <th>count</th>\n",
       "      <td>586304.000000</td>\n",
       "      <td>586304.000000</td>\n",
       "      <td>586304.000000</td>\n",
       "      <td>586304.000000</td>\n",
       "    </tr>\n",
       "    <tr>\n",
       "      <th>mean</th>\n",
       "      <td>6.981460</td>\n",
       "      <td>6.939248</td>\n",
       "      <td>28.922530</td>\n",
       "      <td>4712.563602</td>\n",
       "    </tr>\n",
       "    <tr>\n",
       "      <th>std</th>\n",
       "      <td>5.217671</td>\n",
       "      <td>5.196975</td>\n",
       "      <td>30.866556</td>\n",
       "      <td>9003.052657</td>\n",
       "    </tr>\n",
       "    <tr>\n",
       "      <th>min</th>\n",
       "      <td>1.000000</td>\n",
       "      <td>1.000000</td>\n",
       "      <td>2.000000</td>\n",
       "      <td>0.000000</td>\n",
       "    </tr>\n",
       "    <tr>\n",
       "      <th>25%</th>\n",
       "      <td>3.000000</td>\n",
       "      <td>3.000000</td>\n",
       "      <td>9.000000</td>\n",
       "      <td>1320.000000</td>\n",
       "    </tr>\n",
       "    <tr>\n",
       "      <th>50%</th>\n",
       "      <td>6.000000</td>\n",
       "      <td>6.000000</td>\n",
       "      <td>18.000000</td>\n",
       "      <td>2530.000000</td>\n",
       "    </tr>\n",
       "    <tr>\n",
       "      <th>75%</th>\n",
       "      <td>10.000000</td>\n",
       "      <td>10.000000</td>\n",
       "      <td>40.000000</td>\n",
       "      <td>5290.000000</td>\n",
       "    </tr>\n",
       "    <tr>\n",
       "      <th>max</th>\n",
       "      <td>40.000000</td>\n",
       "      <td>40.000000</td>\n",
       "      <td>4320.000000</td>\n",
       "      <td>255070.000000</td>\n",
       "    </tr>\n",
       "  </tbody>\n",
       "</table>\n",
       "</div>"
      ],
      "text/plain": [
       "             '대여거치대'        '반납거치대'      '이용시간(분)'      '이용거리(M)'\n",
       "count  586304.000000  586304.000000  586304.000000  586304.000000\n",
       "mean        6.981460       6.939248      28.922530    4712.563602\n",
       "std         5.217671       5.196975      30.866556    9003.052657\n",
       "min         1.000000       1.000000       2.000000       0.000000\n",
       "25%         3.000000       3.000000       9.000000    1320.000000\n",
       "50%         6.000000       6.000000      18.000000    2530.000000\n",
       "75%        10.000000      10.000000      40.000000    5290.000000\n",
       "max        40.000000      40.000000    4320.000000  255070.000000"
      ]
     },
     "execution_count": 8,
     "metadata": {},
     "output_type": "execute_result"
    }
   ],
   "source": [
    "df.describe()"
   ]
  },
  {
   "cell_type": "code",
   "execution_count": 9,
   "metadata": {},
   "outputs": [
    {
     "data": {
      "text/html": [
       "<div>\n",
       "<style scoped>\n",
       "    .dataframe tbody tr th:only-of-type {\n",
       "        vertical-align: middle;\n",
       "    }\n",
       "\n",
       "    .dataframe tbody tr th {\n",
       "        vertical-align: top;\n",
       "    }\n",
       "\n",
       "    .dataframe thead th {\n",
       "        text-align: right;\n",
       "    }\n",
       "</style>\n",
       "<table border=\"1\" class=\"dataframe\">\n",
       "  <thead>\n",
       "    <tr style=\"text-align: right;\">\n",
       "      <th></th>\n",
       "      <th>'자전거번호'</th>\n",
       "      <th>'대여일시'</th>\n",
       "      <th>'대여대여소번호'</th>\n",
       "      <th>'대여대여소명'</th>\n",
       "      <th>'반납일시'</th>\n",
       "      <th>'반납대여소번호'</th>\n",
       "      <th>'반납대여소명'</th>\n",
       "    </tr>\n",
       "  </thead>\n",
       "  <tbody>\n",
       "    <tr>\n",
       "      <th>count</th>\n",
       "      <td>586304</td>\n",
       "      <td>586304</td>\n",
       "      <td>586304</td>\n",
       "      <td>586304</td>\n",
       "      <td>586304</td>\n",
       "      <td>586304</td>\n",
       "      <td>586304</td>\n",
       "    </tr>\n",
       "    <tr>\n",
       "      <th>unique</th>\n",
       "      <td>12970</td>\n",
       "      <td>426750</td>\n",
       "      <td>1267</td>\n",
       "      <td>1267</td>\n",
       "      <td>427833</td>\n",
       "      <td>1269</td>\n",
       "      <td>1269</td>\n",
       "    </tr>\n",
       "    <tr>\n",
       "      <th>top</th>\n",
       "      <td>'SPB-18238'</td>\n",
       "      <td>'2018-06-18 19:42:44'</td>\n",
       "      <td>'207'</td>\n",
       "      <td>' 여의나루역 1번출구 앞'</td>\n",
       "      <td>'2018-06-19 19:53:32'</td>\n",
       "      <td>'113'</td>\n",
       "      <td>' 홍대입구역 2번출구 앞'</td>\n",
       "    </tr>\n",
       "    <tr>\n",
       "      <th>freq</th>\n",
       "      <td>139</td>\n",
       "      <td>42</td>\n",
       "      <td>4073</td>\n",
       "      <td>4073</td>\n",
       "      <td>18</td>\n",
       "      <td>3896</td>\n",
       "      <td>3896</td>\n",
       "    </tr>\n",
       "  </tbody>\n",
       "</table>\n",
       "</div>"
      ],
      "text/plain": [
       "            '자전거번호'                 '대여일시' '대여대여소번호'         '대여대여소명'  \\\n",
       "count        586304                 586304    586304           586304   \n",
       "unique        12970                 426750      1267             1267   \n",
       "top     'SPB-18238'  '2018-06-18 19:42:44'     '207'  ' 여의나루역 1번출구 앞'   \n",
       "freq            139                     42      4073             4073   \n",
       "\n",
       "                       '반납일시' '반납대여소번호'         '반납대여소명'  \n",
       "count                  586304    586304           586304  \n",
       "unique                 427833      1269             1269  \n",
       "top     '2018-06-19 19:53:32'     '113'  ' 홍대입구역 2번출구 앞'  \n",
       "freq                       18      3896             3896  "
      ]
     },
     "execution_count": 9,
     "metadata": {},
     "output_type": "execute_result"
    }
   ],
   "source": [
    "df.describe(include=np.object)"
   ]
  },
  {
   "cell_type": "markdown",
   "metadata": {},
   "source": [
    "## 분석을 위한 전처리\n",
    "* 위에서 데이터를 미리보기 했을 때 컬럼과 데이터에 불필요한 홑따옴표가 포함되어 있다.\n",
    "* 전처리를 통해 제거해 준다.\n",
    "* object 타입의 데이터에는 모두 홑따옴표가 들어가 있다. 따라서 object 데이터 타입이라면 홑따옴표를 제거해 주도록 한다."
   ]
  },
  {
   "cell_type": "code",
   "execution_count": 10,
   "metadata": {},
   "outputs": [],
   "source": [
    "# 컬럼에 있는 '를 제거한다.\n",
    "df.columns = df.columns.str.strip(\"'\")"
   ]
  },
  {
   "cell_type": "code",
   "execution_count": 11,
   "metadata": {},
   "outputs": [],
   "source": [
    "# 불필요하게 '가 들어가 있다. 스트링 타입으로 되어있는 데이터에서 '을 제거하자.\n",
    "# 2018년 전체 데이터를 모아놓은 csv에서는 미리 제거해서 넣어두었다.\n",
    "df = df.apply(lambda x: x.str.strip(\"'\") if x.dtype == np.dtype('object') else x)\n",
    "\n",
    "# 다음의 방법으로 제거할 수도 있다.\n",
    "# df.iloc[:, :4] = df.iloc[:, :4].apply(lambda x: x.str.strip(\"'\"))\n",
    "# df.iloc[:, 5:8] = df.iloc[:, 5:8].apply(lambda x: x.str.strip(\"'\"))"
   ]
  },
  {
   "cell_type": "code",
   "execution_count": 12,
   "metadata": {},
   "outputs": [
    {
     "data": {
      "text/html": [
       "<div>\n",
       "<style scoped>\n",
       "    .dataframe tbody tr th:only-of-type {\n",
       "        vertical-align: middle;\n",
       "    }\n",
       "\n",
       "    .dataframe tbody tr th {\n",
       "        vertical-align: top;\n",
       "    }\n",
       "\n",
       "    .dataframe thead th {\n",
       "        text-align: right;\n",
       "    }\n",
       "</style>\n",
       "<table border=\"1\" class=\"dataframe\">\n",
       "  <thead>\n",
       "    <tr style=\"text-align: right;\">\n",
       "      <th></th>\n",
       "      <th>자전거번호</th>\n",
       "      <th>대여일시</th>\n",
       "      <th>대여대여소번호</th>\n",
       "      <th>대여대여소명</th>\n",
       "      <th>대여거치대</th>\n",
       "      <th>반납일시</th>\n",
       "      <th>반납대여소번호</th>\n",
       "      <th>반납대여소명</th>\n",
       "      <th>반납거치대</th>\n",
       "      <th>이용시간(분)</th>\n",
       "      <th>이용거리(M)</th>\n",
       "    </tr>\n",
       "  </thead>\n",
       "  <tbody>\n",
       "    <tr>\n",
       "      <th>0</th>\n",
       "      <td>SPB-11906</td>\n",
       "      <td>2018-06-16 00:00:07</td>\n",
       "      <td>932</td>\n",
       "      <td>예일여중</td>\n",
       "      <td>1</td>\n",
       "      <td>2018-06-16 00:16:41</td>\n",
       "      <td>934</td>\n",
       "      <td>신사동 성당</td>\n",
       "      <td>11</td>\n",
       "      <td>15</td>\n",
       "      <td>2160</td>\n",
       "    </tr>\n",
       "    <tr>\n",
       "      <th>1</th>\n",
       "      <td>SPB-16954</td>\n",
       "      <td>2018-06-16 00:00:07</td>\n",
       "      <td>272</td>\n",
       "      <td>당산육갑문</td>\n",
       "      <td>16</td>\n",
       "      <td>2018-06-16 02:00:36</td>\n",
       "      <td>1827</td>\n",
       "      <td>독산보도육교 앞 자전거 보관소</td>\n",
       "      <td>9</td>\n",
       "      <td>120</td>\n",
       "      <td>18100</td>\n",
       "    </tr>\n",
       "    <tr>\n",
       "      <th>2</th>\n",
       "      <td>SPB-09676</td>\n",
       "      <td>2018-06-16 00:00:11</td>\n",
       "      <td>1036</td>\n",
       "      <td>고덕동 주양쇼핑</td>\n",
       "      <td>7</td>\n",
       "      <td>2018-06-16 00:24:05</td>\n",
       "      <td>1038</td>\n",
       "      <td>강일 다솜 어린이 공원</td>\n",
       "      <td>9</td>\n",
       "      <td>23</td>\n",
       "      <td>3350</td>\n",
       "    </tr>\n",
       "    <tr>\n",
       "      <th>3</th>\n",
       "      <td>SPB-07143</td>\n",
       "      <td>2018-06-16 00:00:15</td>\n",
       "      <td>1726</td>\n",
       "      <td>삼익세라믹아파트교차로</td>\n",
       "      <td>7</td>\n",
       "      <td>2018-06-16 00:15:31</td>\n",
       "      <td>1706</td>\n",
       "      <td>기업은행 앞</td>\n",
       "      <td>9</td>\n",
       "      <td>14</td>\n",
       "      <td>1480</td>\n",
       "    </tr>\n",
       "    <tr>\n",
       "      <th>4</th>\n",
       "      <td>SPB-13007</td>\n",
       "      <td>2018-06-16 00:00:16</td>\n",
       "      <td>2058</td>\n",
       "      <td>노량진동 맥도널드앞</td>\n",
       "      <td>10</td>\n",
       "      <td>2018-06-16 00:14:25</td>\n",
       "      <td>258</td>\n",
       "      <td>신길역3번출구</td>\n",
       "      <td>8</td>\n",
       "      <td>13</td>\n",
       "      <td>2920</td>\n",
       "    </tr>\n",
       "  </tbody>\n",
       "</table>\n",
       "</div>"
      ],
      "text/plain": [
       "       자전거번호                 대여일시 대여대여소번호        대여대여소명  대여거치대  \\\n",
       "0  SPB-11906  2018-06-16 00:00:07     932          예일여중      1   \n",
       "1  SPB-16954  2018-06-16 00:00:07     272         당산육갑문     16   \n",
       "2  SPB-09676  2018-06-16 00:00:11    1036      고덕동 주양쇼핑      7   \n",
       "3  SPB-07143  2018-06-16 00:00:15    1726   삼익세라믹아파트교차로      7   \n",
       "4  SPB-13007  2018-06-16 00:00:16    2058    노량진동 맥도널드앞     10   \n",
       "\n",
       "                  반납일시 반납대여소번호             반납대여소명  반납거치대  이용시간(분)  이용거리(M)  \n",
       "0  2018-06-16 00:16:41     934             신사동 성당     11       15     2160  \n",
       "1  2018-06-16 02:00:36    1827   독산보도육교 앞 자전거 보관소      9      120    18100  \n",
       "2  2018-06-16 00:24:05    1038       강일 다솜 어린이 공원      9       23     3350  \n",
       "3  2018-06-16 00:15:31    1706             기업은행 앞      9       14     1480  \n",
       "4  2018-06-16 00:14:25     258            신길역3번출구      8       13     2920  "
      ]
     },
     "execution_count": 12,
     "metadata": {},
     "output_type": "execute_result"
    }
   ],
   "source": [
    "df.head()"
   ]
  },
  {
   "cell_type": "code",
   "execution_count": 13,
   "metadata": {},
   "outputs": [
    {
     "data": {
      "text/html": [
       "<div>\n",
       "<style scoped>\n",
       "    .dataframe tbody tr th:only-of-type {\n",
       "        vertical-align: middle;\n",
       "    }\n",
       "\n",
       "    .dataframe tbody tr th {\n",
       "        vertical-align: top;\n",
       "    }\n",
       "\n",
       "    .dataframe thead th {\n",
       "        text-align: right;\n",
       "    }\n",
       "</style>\n",
       "<table border=\"1\" class=\"dataframe\">\n",
       "  <thead>\n",
       "    <tr style=\"text-align: right;\">\n",
       "      <th></th>\n",
       "      <th>자전거번호</th>\n",
       "      <th>대여일시</th>\n",
       "      <th>대여대여소번호</th>\n",
       "      <th>대여대여소명</th>\n",
       "      <th>대여거치대</th>\n",
       "      <th>반납일시</th>\n",
       "      <th>반납대여소번호</th>\n",
       "      <th>반납대여소명</th>\n",
       "      <th>반납거치대</th>\n",
       "      <th>이용시간(분)</th>\n",
       "      <th>이용거리(M)</th>\n",
       "    </tr>\n",
       "  </thead>\n",
       "  <tbody>\n",
       "    <tr>\n",
       "      <th>586299</th>\n",
       "      <td>SPB-15985</td>\n",
       "      <td>2018-06-30 23:59:55</td>\n",
       "      <td>505</td>\n",
       "      <td>자양사거리 광진아크로텔 앞</td>\n",
       "      <td>9</td>\n",
       "      <td>2018-07-01 00:09:38</td>\n",
       "      <td>593</td>\n",
       "      <td>자양중앙나들목</td>\n",
       "      <td>5</td>\n",
       "      <td>9</td>\n",
       "      <td>1230</td>\n",
       "    </tr>\n",
       "    <tr>\n",
       "      <th>586300</th>\n",
       "      <td>SPB-15081</td>\n",
       "      <td>2018-06-30 23:59:55</td>\n",
       "      <td>1328</td>\n",
       "      <td>월곡역 3번출구</td>\n",
       "      <td>7</td>\n",
       "      <td>2018-07-01 00:18:02</td>\n",
       "      <td>647</td>\n",
       "      <td>신이문역 1번출구</td>\n",
       "      <td>7</td>\n",
       "      <td>17</td>\n",
       "      <td>3600</td>\n",
       "    </tr>\n",
       "    <tr>\n",
       "      <th>586301</th>\n",
       "      <td>SPB-13677</td>\n",
       "      <td>2018-06-30 23:59:57</td>\n",
       "      <td>2376</td>\n",
       "      <td>수서역 6번출구 앞</td>\n",
       "      <td>2</td>\n",
       "      <td>2018-07-01 00:20:38</td>\n",
       "      <td>2387</td>\n",
       "      <td>래미안강남힐즈 사거리</td>\n",
       "      <td>5</td>\n",
       "      <td>20</td>\n",
       "      <td>2590</td>\n",
       "    </tr>\n",
       "    <tr>\n",
       "      <th>586302</th>\n",
       "      <td>SPB-06577</td>\n",
       "      <td>2018-06-30 23:59:57</td>\n",
       "      <td>1251</td>\n",
       "      <td>석촌역 2번출구</td>\n",
       "      <td>2</td>\n",
       "      <td>2018-07-01 00:57:29</td>\n",
       "      <td>1245</td>\n",
       "      <td>문정 법조단지9</td>\n",
       "      <td>4</td>\n",
       "      <td>57</td>\n",
       "      <td>6640</td>\n",
       "    </tr>\n",
       "    <tr>\n",
       "      <th>586303</th>\n",
       "      <td>SPB-03842</td>\n",
       "      <td>2018-06-30 23:59:58</td>\n",
       "      <td>2169</td>\n",
       "      <td>봉천역 2번출구</td>\n",
       "      <td>6</td>\n",
       "      <td>2018-07-01 00:08:05</td>\n",
       "      <td>2112</td>\n",
       "      <td>서울대입구역 마에스트로</td>\n",
       "      <td>7</td>\n",
       "      <td>7</td>\n",
       "      <td>910</td>\n",
       "    </tr>\n",
       "  </tbody>\n",
       "</table>\n",
       "</div>"
      ],
      "text/plain": [
       "            자전거번호                 대여일시 대여대여소번호           대여대여소명  대여거치대  \\\n",
       "586299  SPB-15985  2018-06-30 23:59:55     505   자양사거리 광진아크로텔 앞      9   \n",
       "586300  SPB-15081  2018-06-30 23:59:55    1328         월곡역 3번출구      7   \n",
       "586301  SPB-13677  2018-06-30 23:59:57    2376       수서역 6번출구 앞      2   \n",
       "586302  SPB-06577  2018-06-30 23:59:57    1251         석촌역 2번출구      2   \n",
       "586303  SPB-03842  2018-06-30 23:59:58    2169         봉천역 2번출구      6   \n",
       "\n",
       "                       반납일시 반납대여소번호         반납대여소명  반납거치대  이용시간(분)  이용거리(M)  \n",
       "586299  2018-07-01 00:09:38     593        자양중앙나들목      5        9     1230  \n",
       "586300  2018-07-01 00:18:02     647      신이문역 1번출구      7       17     3600  \n",
       "586301  2018-07-01 00:20:38    2387    래미안강남힐즈 사거리      5       20     2590  \n",
       "586302  2018-07-01 00:57:29    1245       문정 법조단지9      4       57     6640  \n",
       "586303  2018-07-01 00:08:05    2112   서울대입구역 마에스트로      7        7      910  "
      ]
     },
     "execution_count": 13,
     "metadata": {},
     "output_type": "execute_result"
    }
   ],
   "source": [
    "df.tail()"
   ]
  },
  {
   "cell_type": "code",
   "execution_count": 14,
   "metadata": {},
   "outputs": [
    {
     "name": "stdout",
     "output_type": "stream",
     "text": [
      "<class 'pandas.core.frame.DataFrame'>\n",
      "RangeIndex: 586304 entries, 0 to 586303\n",
      "Data columns (total 11 columns):\n",
      "자전거번호      586304 non-null object\n",
      "대여일시       586304 non-null object\n",
      "대여대여소번호    586304 non-null object\n",
      "대여대여소명     586304 non-null object\n",
      "대여거치대      586304 non-null int64\n",
      "반납일시       586304 non-null object\n",
      "반납대여소번호    586304 non-null object\n",
      "반납대여소명     586304 non-null object\n",
      "반납거치대      586304 non-null int64\n",
      "이용시간(분)    586304 non-null int64\n",
      "이용거리(M)    586304 non-null int64\n",
      "dtypes: int64(4), object(7)\n",
      "memory usage: 49.2+ MB\n"
     ]
    }
   ],
   "source": [
    "df.info()"
   ]
  },
  {
   "cell_type": "code",
   "execution_count": 15,
   "metadata": {},
   "outputs": [
    {
     "data": {
      "text/html": [
       "<div>\n",
       "<style scoped>\n",
       "    .dataframe tbody tr th:only-of-type {\n",
       "        vertical-align: middle;\n",
       "    }\n",
       "\n",
       "    .dataframe tbody tr th {\n",
       "        vertical-align: top;\n",
       "    }\n",
       "\n",
       "    .dataframe thead th {\n",
       "        text-align: right;\n",
       "    }\n",
       "</style>\n",
       "<table border=\"1\" class=\"dataframe\">\n",
       "  <thead>\n",
       "    <tr style=\"text-align: right;\">\n",
       "      <th></th>\n",
       "      <th>자전거번호</th>\n",
       "      <th>대여일시</th>\n",
       "      <th>대여대여소번호</th>\n",
       "      <th>대여대여소명</th>\n",
       "      <th>반납일시</th>\n",
       "      <th>반납대여소번호</th>\n",
       "      <th>반납대여소명</th>\n",
       "    </tr>\n",
       "  </thead>\n",
       "  <tbody>\n",
       "    <tr>\n",
       "      <th>count</th>\n",
       "      <td>586304</td>\n",
       "      <td>586304</td>\n",
       "      <td>586304</td>\n",
       "      <td>586304</td>\n",
       "      <td>586304</td>\n",
       "      <td>586304</td>\n",
       "      <td>586304</td>\n",
       "    </tr>\n",
       "    <tr>\n",
       "      <th>unique</th>\n",
       "      <td>12970</td>\n",
       "      <td>426750</td>\n",
       "      <td>1267</td>\n",
       "      <td>1267</td>\n",
       "      <td>427833</td>\n",
       "      <td>1269</td>\n",
       "      <td>1269</td>\n",
       "    </tr>\n",
       "    <tr>\n",
       "      <th>top</th>\n",
       "      <td>SPB-18238</td>\n",
       "      <td>2018-06-18 18:56:44</td>\n",
       "      <td>207</td>\n",
       "      <td>여의나루역 1번출구 앞</td>\n",
       "      <td>2018-06-19 19:53:32</td>\n",
       "      <td>113</td>\n",
       "      <td>홍대입구역 2번출구 앞</td>\n",
       "    </tr>\n",
       "    <tr>\n",
       "      <th>freq</th>\n",
       "      <td>139</td>\n",
       "      <td>42</td>\n",
       "      <td>4073</td>\n",
       "      <td>4073</td>\n",
       "      <td>18</td>\n",
       "      <td>3896</td>\n",
       "      <td>3896</td>\n",
       "    </tr>\n",
       "  </tbody>\n",
       "</table>\n",
       "</div>"
      ],
      "text/plain": [
       "            자전거번호                 대여일시 대여대여소번호         대여대여소명  \\\n",
       "count      586304               586304  586304         586304   \n",
       "unique      12970               426750    1267           1267   \n",
       "top     SPB-18238  2018-06-18 18:56:44     207   여의나루역 1번출구 앞   \n",
       "freq          139                   42    4073           4073   \n",
       "\n",
       "                       반납일시 반납대여소번호         반납대여소명  \n",
       "count                586304  586304         586304  \n",
       "unique               427833    1269           1269  \n",
       "top     2018-06-19 19:53:32     113   홍대입구역 2번출구 앞  \n",
       "freq                     18    3896           3896  "
      ]
     },
     "execution_count": 15,
     "metadata": {},
     "output_type": "execute_result"
    }
   ],
   "source": [
    "df.describe(include=np.object)"
   ]
  },
  {
   "cell_type": "markdown",
   "metadata": {},
   "source": [
    "## 결측치 보기"
   ]
  },
  {
   "cell_type": "code",
   "execution_count": 16,
   "metadata": {},
   "outputs": [
    {
     "data": {
      "text/plain": [
       "자전거번호      0\n",
       "대여일시       0\n",
       "대여대여소번호    0\n",
       "대여대여소명     0\n",
       "대여거치대      0\n",
       "반납일시       0\n",
       "반납대여소번호    0\n",
       "반납대여소명     0\n",
       "반납거치대      0\n",
       "이용시간(분)    0\n",
       "이용거리(M)    0\n",
       "dtype: int64"
      ]
     },
     "execution_count": 16,
     "metadata": {},
     "output_type": "execute_result"
    }
   ],
   "source": [
    "df.isnull().sum()"
   ]
  },
  {
   "cell_type": "markdown",
   "metadata": {},
   "source": [
    "## 결측치 시각화 하기\n",
    "* missingno는 별도로 설치해야 하는 시각화 도구 입니다. 결측치를 시각화해서 볼 수 있습니다."
   ]
  },
  {
   "cell_type": "code",
   "execution_count": 17,
   "metadata": {},
   "outputs": [
    {
     "data": {
      "image/png": "[encoded data removed]",
      "text/plain": [
       "<matplotlib.figure.Figure at 0x106496b38>"
      ]
     },
     "metadata": {},
     "output_type": "display_data"
    }
   ],
   "source": [
    "# 결측치 보기\n",
    "import missingno as msno\n",
    "\n",
    "msno.matrix(df, figsize=(12,5))"
   ]
  },
  {
   "cell_type": "markdown",
   "metadata": {},
   "source": [
    "## 대여소별 대여|반납 현황"
   ]
  },
  {
   "cell_type": "code",
   "execution_count": 18,
   "metadata": {},
   "outputs": [
    {
     "name": "stdout",
     "output_type": "stream",
     "text": [
      "# 대여소 수\n",
      "대여 대여소:  1267\n",
      "반납 대여소:  1269\n"
     ]
    }
   ],
   "source": [
    "print('# 대여소 수')\n",
    "print('대여 대여소: ', df['대여대여소번호'].unique().shape[0])\n",
    "print('반납 대여소: ', df['반납대여소번호'].unique().shape[0])"
   ]
  },
  {
   "cell_type": "code",
   "execution_count": 19,
   "metadata": {},
   "outputs": [
    {
     "data": {
      "text/plain": [
       "2343        39\n",
       "1101        38\n",
       "2288        29\n",
       "741         27\n",
       "2275        26\n",
       "1040        25\n",
       "2287        21\n",
       "2286        16\n",
       "상암센터 정비실     8\n",
       "554          5\n",
       "Name: 대여대여소번호, dtype: int64"
      ]
     },
     "execution_count": 19,
     "metadata": {},
     "output_type": "execute_result"
    }
   ],
   "source": [
    "df['대여대여소번호'].value_counts().tail(10)"
   ]
  },
  {
   "cell_type": "markdown",
   "metadata": {},
   "source": [
    "* 대여 대여소번호에 상암센터 정비실과 위트콤 같은 숫자가 아닌 곳들이 있음"
   ]
  },
  {
   "cell_type": "code",
   "execution_count": 20,
   "metadata": {},
   "outputs": [
    {
     "data": {
      "text/plain": [
       " 여의나루역 1번출구 앞               4073\n",
       " 뚝섬유원지역 1번출구 앞              3369\n",
       " 홍대입구역 2번출구 앞               3174\n",
       " 봉림교 교통섬                    2709\n",
       " 롯데월드타워(잠실역2번출구 쪽)          2637\n",
       " 고속터미널역 8-1번, 8-2번 출구 사이    2453\n",
       " 마포구민체육센터 앞                 2178\n",
       " 신도림역 1번 출구 앞               2022\n",
       " 안암로터리 버스정류장 앞              1987\n",
       " 잠실새내역 5번 출구 뒤              1841\n",
       "Name: 대여대여소명, dtype: int64"
      ]
     },
     "execution_count": 20,
     "metadata": {},
     "output_type": "execute_result"
    }
   ],
   "source": [
    "# 대여량이 많은 상위 대여소\n",
    "df['대여대여소명'].value_counts().head(10)"
   ]
  },
  {
   "cell_type": "code",
   "execution_count": 21,
   "metadata": {},
   "outputs": [
    {
     "data": {
      "text/plain": [
       " 홍대입구역 2번출구 앞               3896\n",
       " 뚝섬유원지역 1번출구 앞              3814\n",
       " 여의나루역 1번출구 앞               3730\n",
       " 봉림교 교통섬                    2762\n",
       " 롯데월드타워(잠실역2번출구 쪽)          2624\n",
       " 고속터미널역 8-1번, 8-2번 출구 사이    2495\n",
       " 마포구민체육센터 앞                 2454\n",
       " 안암로터리 버스정류장 앞              2110\n",
       " 신도림역 1번 출구 앞               1961\n",
       " CJ 드림시티                    1932\n",
       "Name: 반납대여소명, dtype: int64"
      ]
     },
     "execution_count": 21,
     "metadata": {},
     "output_type": "execute_result"
    }
   ],
   "source": [
    "# 반납량이 많은 상위 대여소\n",
    "df['반납대여소명'].value_counts().head(10)"
   ]
  },
  {
   "cell_type": "markdown",
   "metadata": {},
   "source": [
    "1. 대여반납이 많은 상위 대여소인 홍대입구역, 여의나루역, 뚝섬유원지, 롯데월드타워는 모두 강이나 호수를 인근에 두고 있다. \n",
    "2. 성대입구나 안암로터리 버스정류장은 대학가 인근이다."
   ]
  },
  {
   "cell_type": "code",
   "execution_count": 22,
   "metadata": {},
   "outputs": [
    {
     "data": {
      "text/html": [
       "<div>\n",
       "<style scoped>\n",
       "    .dataframe tbody tr th:only-of-type {\n",
       "        vertical-align: middle;\n",
       "    }\n",
       "\n",
       "    .dataframe tbody tr th {\n",
       "        vertical-align: top;\n",
       "    }\n",
       "\n",
       "    .dataframe thead th {\n",
       "        text-align: right;\n",
       "    }\n",
       "</style>\n",
       "<table border=\"1\" class=\"dataframe\">\n",
       "  <thead>\n",
       "    <tr style=\"text-align: right;\">\n",
       "      <th></th>\n",
       "      <th>대여대여소명</th>\n",
       "      <th>이용거리(M)</th>\n",
       "    </tr>\n",
       "  </thead>\n",
       "  <tbody>\n",
       "    <tr>\n",
       "      <th>353</th>\n",
       "      <td>동작역 5번출구 동작주차공원</td>\n",
       "      <td>10454.240000</td>\n",
       "    </tr>\n",
       "    <tr>\n",
       "      <th>330</th>\n",
       "      <td>독산보도육교 앞 자전거 보관소</td>\n",
       "      <td>10401.840607</td>\n",
       "    </tr>\n",
       "    <tr>\n",
       "      <th>810</th>\n",
       "      <td>신한은행 시흥대로금융센터지점</td>\n",
       "      <td>9857.738095</td>\n",
       "    </tr>\n",
       "    <tr>\n",
       "      <th>280</th>\n",
       "      <td>달맞이공원</td>\n",
       "      <td>9639.504950</td>\n",
       "    </tr>\n",
       "    <tr>\n",
       "      <th>1166</th>\n",
       "      <td>한내근린공원 남측</td>\n",
       "      <td>9419.090909</td>\n",
       "    </tr>\n",
       "    <tr>\n",
       "      <th>1197</th>\n",
       "      <td>현대자동차서비스 앞</td>\n",
       "      <td>9364.282178</td>\n",
       "    </tr>\n",
       "    <tr>\n",
       "      <th>419</th>\n",
       "      <td>망원초록길 입구</td>\n",
       "      <td>9160.294118</td>\n",
       "    </tr>\n",
       "    <tr>\n",
       "      <th>1194</th>\n",
       "      <td>현대고등학교 건너편</td>\n",
       "      <td>9047.614350</td>\n",
       "    </tr>\n",
       "    <tr>\n",
       "      <th>1231</th>\n",
       "      <td>흑석역 1번출구</td>\n",
       "      <td>8938.909300</td>\n",
       "    </tr>\n",
       "    <tr>\n",
       "      <th>1113</th>\n",
       "      <td>청계천 생태교실 앞</td>\n",
       "      <td>8923.918819</td>\n",
       "    </tr>\n",
       "  </tbody>\n",
       "</table>\n",
       "</div>"
      ],
      "text/plain": [
       "                 대여대여소명       이용거리(M)\n",
       "353     동작역 5번출구 동작주차공원  10454.240000\n",
       "330    독산보도육교 앞 자전거 보관소  10401.840607\n",
       "810     신한은행 시흥대로금융센터지점   9857.738095\n",
       "280               달맞이공원   9639.504950\n",
       "1166          한내근린공원 남측   9419.090909\n",
       "1197         현대자동차서비스 앞   9364.282178\n",
       "419            망원초록길 입구   9160.294118\n",
       "1194         현대고등학교 건너편   9047.614350\n",
       "1231           흑석역 1번출구   8938.909300\n",
       "1113         청계천 생태교실 앞   8923.918819"
      ]
     },
     "execution_count": 22,
     "metadata": {},
     "output_type": "execute_result"
    }
   ],
   "source": [
    "# 평균 이용거리가 긴 상위 대여소\n",
    "df.groupby(['대여대여소명'])['이용거리(M)'].mean().reset_index().sort_values(by='이용거리(M)', ascending=False).head(10)"
   ]
  },
  {
   "cell_type": "code",
   "execution_count": 23,
   "metadata": {},
   "outputs": [
    {
     "data": {
      "text/html": [
       "<div>\n",
       "<style scoped>\n",
       "    .dataframe tbody tr th:only-of-type {\n",
       "        vertical-align: middle;\n",
       "    }\n",
       "\n",
       "    .dataframe tbody tr th {\n",
       "        vertical-align: top;\n",
       "    }\n",
       "\n",
       "    .dataframe thead th {\n",
       "        text-align: right;\n",
       "    }\n",
       "</style>\n",
       "<table border=\"1\" class=\"dataframe\">\n",
       "  <thead>\n",
       "    <tr style=\"text-align: right;\">\n",
       "      <th></th>\n",
       "      <th>대여대여소명</th>\n",
       "      <th>이용거리(M)</th>\n",
       "    </tr>\n",
       "  </thead>\n",
       "  <tbody>\n",
       "    <tr>\n",
       "      <th>1249</th>\n",
       "      <td>상암센터 정비실</td>\n",
       "      <td>256.250000</td>\n",
       "    </tr>\n",
       "    <tr>\n",
       "      <th>188</th>\n",
       "      <td>국군복지단</td>\n",
       "      <td>1828.244275</td>\n",
       "    </tr>\n",
       "    <tr>\n",
       "      <th>7</th>\n",
       "      <td>CJ오쇼핑앞</td>\n",
       "      <td>1832.727273</td>\n",
       "    </tr>\n",
       "    <tr>\n",
       "      <th>100</th>\n",
       "      <td>건국대학교 과학관(이과대) 앞</td>\n",
       "      <td>2143.065327</td>\n",
       "    </tr>\n",
       "    <tr>\n",
       "      <th>937</th>\n",
       "      <td>원남동사거리</td>\n",
       "      <td>2234.752294</td>\n",
       "    </tr>\n",
       "  </tbody>\n",
       "</table>\n",
       "</div>"
      ],
      "text/plain": [
       "                 대여대여소명      이용거리(M)\n",
       "1249           상암센터 정비실   256.250000\n",
       "188               국군복지단  1828.244275\n",
       "7                CJ오쇼핑앞  1832.727273\n",
       "100    건국대학교 과학관(이과대) 앞  2143.065327\n",
       "937              원남동사거리  2234.752294"
      ]
     },
     "execution_count": 23,
     "metadata": {},
     "output_type": "execute_result"
    }
   ],
   "source": [
    "# 평균 이용거리가 짧은 대여소\n",
    "df.groupby(['대여대여소명'])['이용거리(M)'].mean().reset_index().sort_values(by='이용거리(M)', ascending=True).head()"
   ]
  },
  {
   "cell_type": "code",
   "execution_count": 24,
   "metadata": {},
   "outputs": [
    {
     "data": {
      "text/html": [
       "<div>\n",
       "<style scoped>\n",
       "    .dataframe tbody tr th:only-of-type {\n",
       "        vertical-align: middle;\n",
       "    }\n",
       "\n",
       "    .dataframe tbody tr th {\n",
       "        vertical-align: top;\n",
       "    }\n",
       "\n",
       "    .dataframe thead th {\n",
       "        text-align: right;\n",
       "    }\n",
       "</style>\n",
       "<table border=\"1\" class=\"dataframe\">\n",
       "  <thead>\n",
       "    <tr style=\"text-align: right;\">\n",
       "      <th></th>\n",
       "      <th>대여대여소명</th>\n",
       "      <th>이용시간(분)</th>\n",
       "    </tr>\n",
       "  </thead>\n",
       "  <tbody>\n",
       "    <tr>\n",
       "      <th>280</th>\n",
       "      <td>달맞이공원</td>\n",
       "      <td>59.782178</td>\n",
       "    </tr>\n",
       "    <tr>\n",
       "      <th>353</th>\n",
       "      <td>동작역 5번출구 동작주차공원</td>\n",
       "      <td>59.484000</td>\n",
       "    </tr>\n",
       "    <tr>\n",
       "      <th>93</th>\n",
       "      <td>개화동상사마을종점 버스정류장</td>\n",
       "      <td>55.500000</td>\n",
       "    </tr>\n",
       "    <tr>\n",
       "      <th>649</th>\n",
       "      <td>서울숲 남문 버스정류소 옆</td>\n",
       "      <td>55.495074</td>\n",
       "    </tr>\n",
       "    <tr>\n",
       "      <th>648</th>\n",
       "      <td>서울숲 관리사무소</td>\n",
       "      <td>55.492228</td>\n",
       "    </tr>\n",
       "  </tbody>\n",
       "</table>\n",
       "</div>"
      ],
      "text/plain": [
       "               대여대여소명    이용시간(분)\n",
       "280             달맞이공원  59.782178\n",
       "353   동작역 5번출구 동작주차공원  59.484000\n",
       "93    개화동상사마을종점 버스정류장  55.500000\n",
       "649    서울숲 남문 버스정류소 옆  55.495074\n",
       "648         서울숲 관리사무소  55.492228"
      ]
     },
     "execution_count": 24,
     "metadata": {},
     "output_type": "execute_result"
    }
   ],
   "source": [
    "# 평균 이용시간이 많은 상위 대여소\n",
    "df.groupby(['대여대여소명'])['이용시간(분)'].mean().reset_index().sort_values(by='이용시간(분)', ascending=False).head()"
   ]
  },
  {
   "cell_type": "code",
   "execution_count": 25,
   "metadata": {},
   "outputs": [
    {
     "data": {
      "text/html": [
       "<div>\n",
       "<style scoped>\n",
       "    .dataframe tbody tr th:only-of-type {\n",
       "        vertical-align: middle;\n",
       "    }\n",
       "\n",
       "    .dataframe tbody tr th {\n",
       "        vertical-align: top;\n",
       "    }\n",
       "\n",
       "    .dataframe thead th {\n",
       "        text-align: right;\n",
       "    }\n",
       "</style>\n",
       "<table border=\"1\" class=\"dataframe\">\n",
       "  <thead>\n",
       "    <tr style=\"text-align: right;\">\n",
       "      <th></th>\n",
       "      <th>대여대여소명</th>\n",
       "      <th>이용시간(분)</th>\n",
       "    </tr>\n",
       "  </thead>\n",
       "  <tbody>\n",
       "    <tr>\n",
       "      <th>7</th>\n",
       "      <td>CJ오쇼핑앞</td>\n",
       "      <td>11.416667</td>\n",
       "    </tr>\n",
       "    <tr>\n",
       "      <th>1249</th>\n",
       "      <td>상암센터 정비실</td>\n",
       "      <td>12.000000</td>\n",
       "    </tr>\n",
       "    <tr>\n",
       "      <th>188</th>\n",
       "      <td>국군복지단</td>\n",
       "      <td>12.022901</td>\n",
       "    </tr>\n",
       "    <tr>\n",
       "      <th>1089</th>\n",
       "      <td>참새공원(백곡경노당)</td>\n",
       "      <td>12.666667</td>\n",
       "    </tr>\n",
       "    <tr>\n",
       "      <th>575</th>\n",
       "      <td>삼일초등학교 인근</td>\n",
       "      <td>14.460274</td>\n",
       "    </tr>\n",
       "  </tbody>\n",
       "</table>\n",
       "</div>"
      ],
      "text/plain": [
       "            대여대여소명    이용시간(분)\n",
       "7           CJ오쇼핑앞  11.416667\n",
       "1249      상암센터 정비실  12.000000\n",
       "188          국군복지단  12.022901\n",
       "1089   참새공원(백곡경노당)  12.666667\n",
       "575      삼일초등학교 인근  14.460274"
      ]
     },
     "execution_count": 25,
     "metadata": {},
     "output_type": "execute_result"
    }
   ],
   "source": [
    "# 평균 이용시간이 적은 상위 대여소\n",
    "df.groupby(['대여대여소명'])['이용시간(분)'].mean().reset_index().sort_values(by='이용시간(분)', ascending=True).head()"
   ]
  },
  {
   "cell_type": "markdown",
   "metadata": {},
   "source": [
    "## 시계열 데이터 보기"
   ]
  },
  {
   "cell_type": "code",
   "execution_count": 26,
   "metadata": {},
   "outputs": [
    {
     "data": {
      "text/plain": [
       "자전거번호              object\n",
       "대여일시       datetime64[ns]\n",
       "대여대여소번호            object\n",
       "대여대여소명             object\n",
       "대여거치대               int64\n",
       "반납일시       datetime64[ns]\n",
       "반납대여소번호            object\n",
       "반납대여소명             object\n",
       "반납거치대               int64\n",
       "이용시간(분)             int64\n",
       "이용거리(M)             int64\n",
       "dtype: object"
      ]
     },
     "execution_count": 26,
     "metadata": {},
     "output_type": "execute_result"
    }
   ],
   "source": [
    "df['대여일시'] = pd.to_datetime(df['대여일시'])\n",
    "df['반납일시'] = pd.to_datetime(df['반납일시'])\n",
    "df.dtypes"
   ]
  },
  {
   "cell_type": "code",
   "execution_count": 27,
   "metadata": {},
   "outputs": [
    {
     "data": {
      "text/plain": [
       "Index(['자전거번호', '대여일시', '대여대여소번호', '대여대여소명', '대여거치대', '반납일시', '반납대여소번호',\n",
       "       '반납대여소명', '반납거치대', '이용시간(분)', '이용거리(M)', '대여년월일', '반납년월일', '대여년', '대여월',\n",
       "       '대여일', '대여시', '대여분', '대여요일'],\n",
       "      dtype='object')"
      ]
     },
     "execution_count": 27,
     "metadata": {},
     "output_type": "execute_result"
    }
   ],
   "source": [
    "df['대여년월일'] = df['대여일시'].dt.date\n",
    "df['반납년월일'] = df['반납일시'].dt.date\n",
    "df['대여년'] = df['대여일시'].dt.year\n",
    "df['대여월'] = df['대여일시'].dt.month\n",
    "df['대여일'] = df['대여일시'].dt.day\n",
    "df['대여시'] = df['대여일시'].dt.hour\n",
    "df['대여분'] = df['대여일시'].dt.minute\n",
    "df['대여요일'] = df['대여일시'].dt.dayofweek\n",
    "df.columns"
   ]
  },
  {
   "cell_type": "code",
   "execution_count": 28,
   "metadata": {},
   "outputs": [
    {
     "data": {
      "text/plain": [
       "Index(['자전거번호', '대여일시', '대여대여소번호', '대여대여소명', '대여거치대', '반납일시', '반납대여소번호',\n",
       "       '반납대여소명', '반납거치대', '이용시간(분)', '이용거리(M)', '대여년월일', '반납년월일', '대여년', '대여월',\n",
       "       '대여일', '대여시', '대여분', '대여요일', '반납년', '반납월', '반납일', '반납시', '반납분', '반납요일'],\n",
       "      dtype='object')"
      ]
     },
     "execution_count": 28,
     "metadata": {},
     "output_type": "execute_result"
    }
   ],
   "source": [
    "df['반납년월일'] = df['반납일시'].dt.date\n",
    "df['반납년월일'] = df['반납일시'].dt.date\n",
    "df['반납년'] = df['반납일시'].dt.year\n",
    "df['반납월'] = df['반납일시'].dt.month\n",
    "df['반납일'] = df['반납일시'].dt.day\n",
    "df['반납시'] = df['반납일시'].dt.hour\n",
    "df['반납분'] = df['반납일시'].dt.minute\n",
    "df['반납요일'] = df['반납일시'].dt.dayofweek\n",
    "df.columns"
   ]
  },
  {
   "cell_type": "code",
   "execution_count": 29,
   "metadata": {},
   "outputs": [
    {
     "data": {
      "text/html": [
       "<div>\n",
       "<style scoped>\n",
       "    .dataframe tbody tr th:only-of-type {\n",
       "        vertical-align: middle;\n",
       "    }\n",
       "\n",
       "    .dataframe tbody tr th {\n",
       "        vertical-align: top;\n",
       "    }\n",
       "\n",
       "    .dataframe thead th {\n",
       "        text-align: right;\n",
       "    }\n",
       "</style>\n",
       "<table border=\"1\" class=\"dataframe\">\n",
       "  <thead>\n",
       "    <tr style=\"text-align: right;\">\n",
       "      <th></th>\n",
       "      <th>자전거번호</th>\n",
       "      <th>대여일시</th>\n",
       "      <th>대여대여소번호</th>\n",
       "      <th>대여대여소명</th>\n",
       "      <th>대여거치대</th>\n",
       "      <th>반납일시</th>\n",
       "      <th>반납대여소번호</th>\n",
       "      <th>반납대여소명</th>\n",
       "      <th>반납거치대</th>\n",
       "      <th>이용시간(분)</th>\n",
       "      <th>...</th>\n",
       "      <th>대여일</th>\n",
       "      <th>대여시</th>\n",
       "      <th>대여분</th>\n",
       "      <th>대여요일</th>\n",
       "      <th>반납년</th>\n",
       "      <th>반납월</th>\n",
       "      <th>반납일</th>\n",
       "      <th>반납시</th>\n",
       "      <th>반납분</th>\n",
       "      <th>반납요일</th>\n",
       "    </tr>\n",
       "  </thead>\n",
       "  <tbody>\n",
       "    <tr>\n",
       "      <th>0</th>\n",
       "      <td>SPB-11906</td>\n",
       "      <td>2018-06-16 00:00:07</td>\n",
       "      <td>932</td>\n",
       "      <td>예일여중</td>\n",
       "      <td>1</td>\n",
       "      <td>2018-06-16 00:16:41</td>\n",
       "      <td>934</td>\n",
       "      <td>신사동 성당</td>\n",
       "      <td>11</td>\n",
       "      <td>15</td>\n",
       "      <td>...</td>\n",
       "      <td>16</td>\n",
       "      <td>0</td>\n",
       "      <td>0</td>\n",
       "      <td>5</td>\n",
       "      <td>2018</td>\n",
       "      <td>6</td>\n",
       "      <td>16</td>\n",
       "      <td>0</td>\n",
       "      <td>16</td>\n",
       "      <td>5</td>\n",
       "    </tr>\n",
       "    <tr>\n",
       "      <th>1</th>\n",
       "      <td>SPB-16954</td>\n",
       "      <td>2018-06-16 00:00:07</td>\n",
       "      <td>272</td>\n",
       "      <td>당산육갑문</td>\n",
       "      <td>16</td>\n",
       "      <td>2018-06-16 02:00:36</td>\n",
       "      <td>1827</td>\n",
       "      <td>독산보도육교 앞 자전거 보관소</td>\n",
       "      <td>9</td>\n",
       "      <td>120</td>\n",
       "      <td>...</td>\n",
       "      <td>16</td>\n",
       "      <td>0</td>\n",
       "      <td>0</td>\n",
       "      <td>5</td>\n",
       "      <td>2018</td>\n",
       "      <td>6</td>\n",
       "      <td>16</td>\n",
       "      <td>2</td>\n",
       "      <td>0</td>\n",
       "      <td>5</td>\n",
       "    </tr>\n",
       "    <tr>\n",
       "      <th>2</th>\n",
       "      <td>SPB-09676</td>\n",
       "      <td>2018-06-16 00:00:11</td>\n",
       "      <td>1036</td>\n",
       "      <td>고덕동 주양쇼핑</td>\n",
       "      <td>7</td>\n",
       "      <td>2018-06-16 00:24:05</td>\n",
       "      <td>1038</td>\n",
       "      <td>강일 다솜 어린이 공원</td>\n",
       "      <td>9</td>\n",
       "      <td>23</td>\n",
       "      <td>...</td>\n",
       "      <td>16</td>\n",
       "      <td>0</td>\n",
       "      <td>0</td>\n",
       "      <td>5</td>\n",
       "      <td>2018</td>\n",
       "      <td>6</td>\n",
       "      <td>16</td>\n",
       "      <td>0</td>\n",
       "      <td>24</td>\n",
       "      <td>5</td>\n",
       "    </tr>\n",
       "    <tr>\n",
       "      <th>3</th>\n",
       "      <td>SPB-07143</td>\n",
       "      <td>2018-06-16 00:00:15</td>\n",
       "      <td>1726</td>\n",
       "      <td>삼익세라믹아파트교차로</td>\n",
       "      <td>7</td>\n",
       "      <td>2018-06-16 00:15:31</td>\n",
       "      <td>1706</td>\n",
       "      <td>기업은행 앞</td>\n",
       "      <td>9</td>\n",
       "      <td>14</td>\n",
       "      <td>...</td>\n",
       "      <td>16</td>\n",
       "      <td>0</td>\n",
       "      <td>0</td>\n",
       "      <td>5</td>\n",
       "      <td>2018</td>\n",
       "      <td>6</td>\n",
       "      <td>16</td>\n",
       "      <td>0</td>\n",
       "      <td>15</td>\n",
       "      <td>5</td>\n",
       "    </tr>\n",
       "    <tr>\n",
       "      <th>4</th>\n",
       "      <td>SPB-13007</td>\n",
       "      <td>2018-06-16 00:00:16</td>\n",
       "      <td>2058</td>\n",
       "      <td>노량진동 맥도널드앞</td>\n",
       "      <td>10</td>\n",
       "      <td>2018-06-16 00:14:25</td>\n",
       "      <td>258</td>\n",
       "      <td>신길역3번출구</td>\n",
       "      <td>8</td>\n",
       "      <td>13</td>\n",
       "      <td>...</td>\n",
       "      <td>16</td>\n",
       "      <td>0</td>\n",
       "      <td>0</td>\n",
       "      <td>5</td>\n",
       "      <td>2018</td>\n",
       "      <td>6</td>\n",
       "      <td>16</td>\n",
       "      <td>0</td>\n",
       "      <td>14</td>\n",
       "      <td>5</td>\n",
       "    </tr>\n",
       "  </tbody>\n",
       "</table>\n",
       "<p>5 rows × 25 columns</p>\n",
       "</div>"
      ],
      "text/plain": [
       "       자전거번호                대여일시 대여대여소번호        대여대여소명  대여거치대  \\\n",
       "0  SPB-11906 2018-06-16 00:00:07     932          예일여중      1   \n",
       "1  SPB-16954 2018-06-16 00:00:07     272         당산육갑문     16   \n",
       "2  SPB-09676 2018-06-16 00:00:11    1036      고덕동 주양쇼핑      7   \n",
       "3  SPB-07143 2018-06-16 00:00:15    1726   삼익세라믹아파트교차로      7   \n",
       "4  SPB-13007 2018-06-16 00:00:16    2058    노량진동 맥도널드앞     10   \n",
       "\n",
       "                 반납일시 반납대여소번호             반납대여소명  반납거치대  이용시간(분)  ...   대여일  \\\n",
       "0 2018-06-16 00:16:41     934             신사동 성당     11       15  ...    16   \n",
       "1 2018-06-16 02:00:36    1827   독산보도육교 앞 자전거 보관소      9      120  ...    16   \n",
       "2 2018-06-16 00:24:05    1038       강일 다솜 어린이 공원      9       23  ...    16   \n",
       "3 2018-06-16 00:15:31    1706             기업은행 앞      9       14  ...    16   \n",
       "4 2018-06-16 00:14:25     258            신길역3번출구      8       13  ...    16   \n",
       "\n",
       "  대여시 대여분  대여요일   반납년  반납월  반납일  반납시  반납분  반납요일  \n",
       "0   0   0     5  2018    6   16    0   16     5  \n",
       "1   0   0     5  2018    6   16    2    0     5  \n",
       "2   0   0     5  2018    6   16    0   24     5  \n",
       "3   0   0     5  2018    6   16    0   15     5  \n",
       "4   0   0     5  2018    6   16    0   14     5  \n",
       "\n",
       "[5 rows x 25 columns]"
      ]
     },
     "execution_count": 29,
     "metadata": {},
     "output_type": "execute_result"
    }
   ],
   "source": [
    "df.head()"
   ]
  },
  {
   "cell_type": "code",
   "execution_count": 30,
   "metadata": {},
   "outputs": [
    {
     "name": "stdout",
     "output_type": "stream",
     "text": [
      "(1, 3)\n",
      "(2, 3)\n",
      "(3, 3)\n"
     ]
    },
    {
     "data": {
      "text/html": [
       "<div>\n",
       "<style scoped>\n",
       "    .dataframe tbody tr th:only-of-type {\n",
       "        vertical-align: middle;\n",
       "    }\n",
       "\n",
       "    .dataframe tbody tr th {\n",
       "        vertical-align: top;\n",
       "    }\n",
       "\n",
       "    .dataframe thead th {\n",
       "        text-align: right;\n",
       "    }\n",
       "</style>\n",
       "<table border=\"1\" class=\"dataframe\">\n",
       "  <thead>\n",
       "    <tr style=\"text-align: right;\">\n",
       "      <th></th>\n",
       "      <th>month</th>\n",
       "      <th>count</th>\n",
       "      <th>대여반납</th>\n",
       "    </tr>\n",
       "  </thead>\n",
       "  <tbody>\n",
       "    <tr>\n",
       "      <th>0</th>\n",
       "      <td>6</td>\n",
       "      <td>586304</td>\n",
       "      <td>대여</td>\n",
       "    </tr>\n",
       "    <tr>\n",
       "      <th>0</th>\n",
       "      <td>6</td>\n",
       "      <td>585764</td>\n",
       "      <td>반납</td>\n",
       "    </tr>\n",
       "    <tr>\n",
       "      <th>1</th>\n",
       "      <td>7</td>\n",
       "      <td>540</td>\n",
       "      <td>반납</td>\n",
       "    </tr>\n",
       "  </tbody>\n",
       "</table>\n",
       "</div>"
      ],
      "text/plain": [
       "   month   count 대여반납\n",
       "0      6  586304   대여\n",
       "0      6  585764   반납\n",
       "1      7     540   반납"
      ]
     },
     "execution_count": 30,
     "metadata": {},
     "output_type": "execute_result"
    }
   ],
   "source": [
    "df_month_1 = df['대여월'].value_counts().reset_index()\n",
    "df_month_1.columns = ['month', 'count']\n",
    "\n",
    "df_month_1 = df_month_1.sort_values('month')\n",
    "df_month_1['대여반납'] = '대여'\n",
    "print(df_month_1.shape)\n",
    "\n",
    "df_month_2 = df['반납월'].value_counts().reset_index()\n",
    "df_month_2.columns = ['month', 'count']\n",
    "df_month_2 = df_month_2.sort_values('month')\n",
    "df_month_2['대여반납'] = '반납'\n",
    "print(df_month_2.shape)\n",
    "\n",
    "df_month = pd.concat([df_month_1, df_month_2])\n",
    "print(df_month.shape)\n",
    "df_month.head()"
   ]
  },
  {
   "cell_type": "code",
   "execution_count": 31,
   "metadata": {},
   "outputs": [
    {
     "data": {
      "image/png": "[encoded data removed]",
      "text/plain": [
       "<matplotlib.figure.Figure at 0x116b0a898>"
      ]
     },
     "metadata": {},
     "output_type": "display_data"
    },
    {
     "data": {
      "text/plain": [
       "<ggplot: (306338459)>"
      ]
     },
     "execution_count": 31,
     "metadata": {},
     "output_type": "execute_result"
    }
   ],
   "source": [
    "(ggplot(df_month)\n",
    " + aes(x='month', y='count', fill='대여반납')\n",
    " + geom_bar(stat='identity', position='dodge')\n",
    " + labs(x='대여월', y='대여수', title='월별 자전거 대여수')\n",
    " + theme(text=element_text(family='NanumBarunGothic'),\n",
    "        figure_size=(12,6))\n",
    ")"
   ]
  },
  {
   "cell_type": "markdown",
   "metadata": {},
   "source": [
    "## 일자별 대여|반납 현황\n",
    "* 날짜에 따라 대여|반납 횟수를 확인한다."
   ]
  },
  {
   "cell_type": "code",
   "execution_count": 32,
   "metadata": {},
   "outputs": [
    {
     "name": "stdout",
     "output_type": "stream",
     "text": [
      "(15, 3)\n",
      "(18, 3)\n",
      "(33, 3)\n"
     ]
    },
    {
     "data": {
      "text/html": [
       "<div>\n",
       "<style scoped>\n",
       "    .dataframe tbody tr th:only-of-type {\n",
       "        vertical-align: middle;\n",
       "    }\n",
       "\n",
       "    .dataframe tbody tr th {\n",
       "        vertical-align: top;\n",
       "    }\n",
       "\n",
       "    .dataframe thead th {\n",
       "        text-align: right;\n",
       "    }\n",
       "</style>\n",
       "<table border=\"1\" class=\"dataframe\">\n",
       "  <thead>\n",
       "    <tr style=\"text-align: right;\">\n",
       "      <th></th>\n",
       "      <th>day</th>\n",
       "      <th>count</th>\n",
       "      <th>대여반납</th>\n",
       "    </tr>\n",
       "  </thead>\n",
       "  <tbody>\n",
       "    <tr>\n",
       "      <th>5</th>\n",
       "      <td>16</td>\n",
       "      <td>46038</td>\n",
       "      <td>대여</td>\n",
       "    </tr>\n",
       "    <tr>\n",
       "      <th>7</th>\n",
       "      <td>17</td>\n",
       "      <td>43161</td>\n",
       "      <td>대여</td>\n",
       "    </tr>\n",
       "    <tr>\n",
       "      <th>11</th>\n",
       "      <td>18</td>\n",
       "      <td>35828</td>\n",
       "      <td>대여</td>\n",
       "    </tr>\n",
       "    <tr>\n",
       "      <th>2</th>\n",
       "      <td>19</td>\n",
       "      <td>46839</td>\n",
       "      <td>대여</td>\n",
       "    </tr>\n",
       "    <tr>\n",
       "      <th>3</th>\n",
       "      <td>20</td>\n",
       "      <td>46107</td>\n",
       "      <td>대여</td>\n",
       "    </tr>\n",
       "  </tbody>\n",
       "</table>\n",
       "</div>"
      ],
      "text/plain": [
       "    day  count 대여반납\n",
       "5    16  46038   대여\n",
       "7    17  43161   대여\n",
       "11   18  35828   대여\n",
       "2    19  46839   대여\n",
       "3    20  46107   대여"
      ]
     },
     "execution_count": 32,
     "metadata": {},
     "output_type": "execute_result"
    }
   ],
   "source": [
    "df_day_1 = df['대여일'].value_counts().reset_index()\n",
    "df_day_1.columns = ['day', 'count']\n",
    "\n",
    "df_day_1 = df_day_1.sort_values('day')\n",
    "df_day_1['대여반납'] = '대여'\n",
    "print(df_day_1.shape)\n",
    "\n",
    "df_day_2 = df['반납일'].value_counts().reset_index()\n",
    "df_day_2.columns = ['day', 'count']\n",
    "df_day_2 = df_day_2.sort_values('day')\n",
    "df_day_2['대여반납'] = '반납'\n",
    "print(df_day_2.shape)\n",
    "\n",
    "df_day = pd.concat([df_day_1, df_day_2])\n",
    "print(df_day.shape)\n",
    "df_day.head()"
   ]
  },
  {
   "cell_type": "code",
   "execution_count": 33,
   "metadata": {},
   "outputs": [
    {
     "data": {
      "image/png": "[encoded data removed]",
      "text/plain": [
       "<matplotlib.figure.Figure at 0x13c6be320>"
      ]
     },
     "metadata": {},
     "output_type": "display_data"
    },
    {
     "data": {
      "text/plain": [
       "<ggplot: (-9223372036562526597)>"
      ]
     },
     "execution_count": 33,
     "metadata": {},
     "output_type": "execute_result"
    }
   ],
   "source": [
    "(ggplot(df_day)\n",
    " + aes(x='day', y='count', fill='대여반납')\n",
    " + geom_bar(stat='identity', position='dodge')\n",
    " + labs(x='대여일', y='대여수', title='일별 자전거 대여수')\n",
    " + theme(text=element_text(family='NanumBarunGothic'),\n",
    "        figure_size=(12,6))\n",
    ")"
   ]
  },
  {
   "cell_type": "code",
   "execution_count": 34,
   "metadata": {},
   "outputs": [
    {
     "name": "stdout",
     "output_type": "stream",
     "text": [
      "(15, 3)\n",
      "(18, 3)\n",
      "(33, 3)\n"
     ]
    },
    {
     "data": {
      "text/html": [
       "<div>\n",
       "<style scoped>\n",
       "    .dataframe tbody tr th:only-of-type {\n",
       "        vertical-align: middle;\n",
       "    }\n",
       "\n",
       "    .dataframe tbody tr th {\n",
       "        vertical-align: top;\n",
       "    }\n",
       "\n",
       "    .dataframe thead th {\n",
       "        text-align: right;\n",
       "    }\n",
       "</style>\n",
       "<table border=\"1\" class=\"dataframe\">\n",
       "  <thead>\n",
       "    <tr style=\"text-align: right;\">\n",
       "      <th></th>\n",
       "      <th>ymd</th>\n",
       "      <th>count</th>\n",
       "      <th>대여반납</th>\n",
       "    </tr>\n",
       "  </thead>\n",
       "  <tbody>\n",
       "    <tr>\n",
       "      <th>5</th>\n",
       "      <td>2018-06-16</td>\n",
       "      <td>46038</td>\n",
       "      <td>대여</td>\n",
       "    </tr>\n",
       "    <tr>\n",
       "      <th>7</th>\n",
       "      <td>2018-06-17</td>\n",
       "      <td>43161</td>\n",
       "      <td>대여</td>\n",
       "    </tr>\n",
       "    <tr>\n",
       "      <th>11</th>\n",
       "      <td>2018-06-18</td>\n",
       "      <td>35828</td>\n",
       "      <td>대여</td>\n",
       "    </tr>\n",
       "    <tr>\n",
       "      <th>2</th>\n",
       "      <td>2018-06-19</td>\n",
       "      <td>46839</td>\n",
       "      <td>대여</td>\n",
       "    </tr>\n",
       "    <tr>\n",
       "      <th>3</th>\n",
       "      <td>2018-06-20</td>\n",
       "      <td>46107</td>\n",
       "      <td>대여</td>\n",
       "    </tr>\n",
       "  </tbody>\n",
       "</table>\n",
       "</div>"
      ],
      "text/plain": [
       "           ymd  count 대여반납\n",
       "5   2018-06-16  46038   대여\n",
       "7   2018-06-17  43161   대여\n",
       "11  2018-06-18  35828   대여\n",
       "2   2018-06-19  46839   대여\n",
       "3   2018-06-20  46107   대여"
      ]
     },
     "execution_count": 34,
     "metadata": {},
     "output_type": "execute_result"
    }
   ],
   "source": [
    "df_ymd_1 = df['대여년월일'].value_counts().reset_index()\n",
    "df_ymd_1.columns = ['ymd', 'count']\n",
    "\n",
    "df_ymd_1 = df_ymd_1.sort_values('ymd')\n",
    "df_ymd_1['대여반납'] = '대여'\n",
    "print(df_ymd_1.shape)\n",
    "\n",
    "df_ymd_2 = df['반납년월일'].value_counts().reset_index()\n",
    "df_ymd_2.columns = ['ymd', 'count']\n",
    "df_ymd_2 = df_ymd_2.sort_values('ymd')\n",
    "df_ymd_2['대여반납'] = '반납'\n",
    "print(df_ymd_2.shape)\n",
    "\n",
    "df_ymd = pd.concat([df_ymd_1, df_ymd_2])\n",
    "print(df_ymd.shape)\n",
    "df_ymd.head()"
   ]
  },
  {
   "cell_type": "code",
   "execution_count": 35,
   "metadata": {},
   "outputs": [],
   "source": [
    "# 시간데이터로 표현하기 위해 타입을 바꿔준다.\n",
    "df_ymd[\"ymd\"] = pd.to_datetime(df_ymd[\"ymd\"])"
   ]
  },
  {
   "cell_type": "code",
   "execution_count": 36,
   "metadata": {},
   "outputs": [
    {
     "data": {
      "image/png": "[encoded data removed]",
      "text/plain": [
       "<matplotlib.figure.Figure at 0x13b5b9748>"
      ]
     },
     "metadata": {},
     "output_type": "display_data"
    },
    {
     "data": {
      "text/plain": [
       "<ggplot: (-9223372036522977315)>"
      ]
     },
     "execution_count": 36,
     "metadata": {},
     "output_type": "execute_result"
    }
   ],
   "source": [
    "(ggplot(df_ymd)\n",
    " + aes(x='ymd', y='count', fill=\"대여반납\")\n",
    " + geom_point()\n",
    " + geom_line(color='blue')\n",
    " + theme(text=element_text(family='NanumBarunGothic'),\n",
    "        figure_size=(12,6))\n",
    ")"
   ]
  },
  {
   "cell_type": "code",
   "execution_count": 37,
   "metadata": {},
   "outputs": [
    {
     "data": {
      "image/png": "[encoded data removed]",
      "text/plain": [
       "<matplotlib.figure.Figure at 0x141e9a080>"
      ]
     },
     "metadata": {},
     "output_type": "display_data"
    },
    {
     "data": {
      "text/plain": [
       "<ggplot: (-9223372036517213738)>"
      ]
     },
     "execution_count": 37,
     "metadata": {},
     "output_type": "execute_result"
    }
   ],
   "source": [
    "# 최근 30일치 데이터를 가져온다. 대여반납 2가지 데이터가 있기 때문에 -60으로 30일치의 데이터를 가져온다.\n",
    "(ggplot(df_ymd[-60:])\n",
    " + aes(x='ymd', y='count', fill=\"대여반납\")\n",
    " + geom_point()\n",
    " + geom_line(color='blue')\n",
    " + theme(text=element_text(family='NanumBarunGothic'),\n",
    "        figure_size=(12,6))\n",
    ")"
   ]
  },
  {
   "cell_type": "markdown",
   "metadata": {},
   "source": [
    "* 일부 날짜의 데이터만 있다.\n",
    "* 2018년 6월 데이터만 봤을 때 13, 26일에는 대여와 반납모두 적다.\n",
    "* 26일의 일기예보를 보면 장맛비가 내린것을 확인해 볼 수 있다. https://www.youtube.com/watch?v=cYHC8iwfFyU"
   ]
  },
  {
   "cell_type": "markdown",
   "metadata": {},
   "source": [
    "## 요일별 대여|반납 현황\n",
    "* 대여|반납별로 어떤 요일에 주로 대여반납이 되는지 시각화해보기 위해 Tidy Data를 만든다."
   ]
  },
  {
   "cell_type": "code",
   "execution_count": 38,
   "metadata": {},
   "outputs": [
    {
     "name": "stdout",
     "output_type": "stream",
     "text": [
      "(7, 3)\n",
      "(7, 3)\n",
      "(14, 3)\n"
     ]
    }
   ],
   "source": [
    "df_dow_1 = df['대여요일'].value_counts().reset_index()\n",
    "df_dow_1.columns = ['dayofweek', 'count']\n",
    "df_dow_1 = df_dow_1.sort_values('dayofweek')\n",
    "df_dow_1['대여반납'] = '대여'\n",
    "print(df_dow_1.shape)\n",
    "\n",
    "df_dow_2 = df['반납요일'].value_counts().reset_index()\n",
    "df_dow_2.columns = ['dayofweek', 'count']\n",
    "df_dow_2 = df_dow_2.sort_values('dayofweek')\n",
    "df_dow_2['대여반납'] = '반납'\n",
    "print(df_dow_2.shape)\n",
    "\n",
    "df_dow = pd.concat([df_dow_1, df_dow_2])\n",
    "print(df_dow.shape)"
   ]
  },
  {
   "cell_type": "code",
   "execution_count": 39,
   "metadata": {},
   "outputs": [
    {
     "data": {
      "text/html": [
       "<div>\n",
       "<style scoped>\n",
       "    .dataframe tbody tr th:only-of-type {\n",
       "        vertical-align: middle;\n",
       "    }\n",
       "\n",
       "    .dataframe tbody tr th {\n",
       "        vertical-align: top;\n",
       "    }\n",
       "\n",
       "    .dataframe thead th {\n",
       "        text-align: right;\n",
       "    }\n",
       "</style>\n",
       "<table border=\"1\" class=\"dataframe\">\n",
       "  <thead>\n",
       "    <tr style=\"text-align: right;\">\n",
       "      <th></th>\n",
       "      <th>dayofweek</th>\n",
       "      <th>count</th>\n",
       "      <th>대여반납</th>\n",
       "    </tr>\n",
       "  </thead>\n",
       "  <tbody>\n",
       "    <tr>\n",
       "      <th>4</th>\n",
       "      <td>0</td>\n",
       "      <td>81933</td>\n",
       "      <td>대여</td>\n",
       "    </tr>\n",
       "    <tr>\n",
       "      <th>6</th>\n",
       "      <td>1</td>\n",
       "      <td>53151</td>\n",
       "      <td>대여</td>\n",
       "    </tr>\n",
       "    <tr>\n",
       "      <th>2</th>\n",
       "      <td>2</td>\n",
       "      <td>86805</td>\n",
       "      <td>대여</td>\n",
       "    </tr>\n",
       "  </tbody>\n",
       "</table>\n",
       "</div>"
      ],
      "text/plain": [
       "   dayofweek  count 대여반납\n",
       "4          0  81933   대여\n",
       "6          1  53151   대여\n",
       "2          2  86805   대여"
      ]
     },
     "execution_count": 39,
     "metadata": {},
     "output_type": "execute_result"
    }
   ],
   "source": [
    "df_dow.head(3)"
   ]
  },
  {
   "cell_type": "code",
   "execution_count": 40,
   "metadata": {},
   "outputs": [
    {
     "data": {
      "text/html": [
       "<div>\n",
       "<style scoped>\n",
       "    .dataframe tbody tr th:only-of-type {\n",
       "        vertical-align: middle;\n",
       "    }\n",
       "\n",
       "    .dataframe tbody tr th {\n",
       "        vertical-align: top;\n",
       "    }\n",
       "\n",
       "    .dataframe thead th {\n",
       "        text-align: right;\n",
       "    }\n",
       "</style>\n",
       "<table border=\"1\" class=\"dataframe\">\n",
       "  <thead>\n",
       "    <tr style=\"text-align: right;\">\n",
       "      <th></th>\n",
       "      <th>dayofweek</th>\n",
       "      <th>count</th>\n",
       "      <th>대여반납</th>\n",
       "    </tr>\n",
       "  </thead>\n",
       "  <tbody>\n",
       "    <tr>\n",
       "      <th>1</th>\n",
       "      <td>4</td>\n",
       "      <td>88168</td>\n",
       "      <td>반납</td>\n",
       "    </tr>\n",
       "    <tr>\n",
       "      <th>0</th>\n",
       "      <td>5</td>\n",
       "      <td>117695</td>\n",
       "      <td>반납</td>\n",
       "    </tr>\n",
       "    <tr>\n",
       "      <th>3</th>\n",
       "      <td>6</td>\n",
       "      <td>83169</td>\n",
       "      <td>반납</td>\n",
       "    </tr>\n",
       "  </tbody>\n",
       "</table>\n",
       "</div>"
      ],
      "text/plain": [
       "   dayofweek   count 대여반납\n",
       "1          4   88168   반납\n",
       "0          5  117695   반납\n",
       "3          6   83169   반납"
      ]
     },
     "execution_count": 40,
     "metadata": {},
     "output_type": "execute_result"
    }
   ],
   "source": [
    "df_dow.tail(3)"
   ]
  },
  {
   "cell_type": "code",
   "execution_count": 41,
   "metadata": {},
   "outputs": [],
   "source": [
    "weekday_map= {0:'MON', 1:'TUE', 2:'WED', 3:'THU',\n",
    "              4:'FRI', 5:'SAT', 6:'SUN'}"
   ]
  },
  {
   "cell_type": "code",
   "execution_count": 42,
   "metadata": {},
   "outputs": [
    {
     "data": {
      "image/png": "[encoded data removed]",
      "text/plain": [
       "<matplotlib.figure.Figure at 0x141dcad68>"
      ]
     },
     "metadata": {},
     "output_type": "display_data"
    },
    {
     "data": {
      "text/plain": [
       "<ggplot: (-9223372036517223480)>"
      ]
     },
     "execution_count": 42,
     "metadata": {},
     "output_type": "execute_result"
    }
   ],
   "source": [
    "(ggplot(df_dow)\n",
    " + aes(x='dayofweek', y='count', fill='대여반납')\n",
    " + geom_bar(stat='identity', position='dodge')\n",
    " + geom_point()\n",
    " + geom_line(color='blue')\n",
    " + labs(x='대여요일', y='대여수', title='요일별 자전거 대여수')\n",
    " + theme(text=element_text(family='NanumBarunGothic'),\n",
    "        figure_size=(12,6))\n",
    ")"
   ]
  },
  {
   "cell_type": "markdown",
   "metadata": {},
   "source": [
    "## 시간대별 대여|반납량"
   ]
  },
  {
   "cell_type": "code",
   "execution_count": 43,
   "metadata": {},
   "outputs": [
    {
     "data": {
      "text/html": [
       "<div>\n",
       "<style scoped>\n",
       "    .dataframe tbody tr th:only-of-type {\n",
       "        vertical-align: middle;\n",
       "    }\n",
       "\n",
       "    .dataframe tbody tr th {\n",
       "        vertical-align: top;\n",
       "    }\n",
       "\n",
       "    .dataframe thead th {\n",
       "        text-align: right;\n",
       "    }\n",
       "</style>\n",
       "<table border=\"1\" class=\"dataframe\">\n",
       "  <thead>\n",
       "    <tr style=\"text-align: right;\">\n",
       "      <th></th>\n",
       "      <th>hour</th>\n",
       "      <th>count</th>\n",
       "      <th>대여반납</th>\n",
       "    </tr>\n",
       "  </thead>\n",
       "  <tbody>\n",
       "    <tr>\n",
       "      <th>13</th>\n",
       "      <td>0</td>\n",
       "      <td>19837</td>\n",
       "      <td>대여</td>\n",
       "    </tr>\n",
       "    <tr>\n",
       "      <th>17</th>\n",
       "      <td>1</td>\n",
       "      <td>15358</td>\n",
       "      <td>대여</td>\n",
       "    </tr>\n",
       "    <tr>\n",
       "      <th>19</th>\n",
       "      <td>2</td>\n",
       "      <td>12255</td>\n",
       "      <td>대여</td>\n",
       "    </tr>\n",
       "    <tr>\n",
       "      <th>21</th>\n",
       "      <td>3</td>\n",
       "      <td>7462</td>\n",
       "      <td>대여</td>\n",
       "    </tr>\n",
       "    <tr>\n",
       "      <th>23</th>\n",
       "      <td>4</td>\n",
       "      <td>4392</td>\n",
       "      <td>대여</td>\n",
       "    </tr>\n",
       "  </tbody>\n",
       "</table>\n",
       "</div>"
      ],
      "text/plain": [
       "    hour  count 대여반납\n",
       "13     0  19837   대여\n",
       "17     1  15358   대여\n",
       "19     2  12255   대여\n",
       "21     3   7462   대여\n",
       "23     4   4392   대여"
      ]
     },
     "execution_count": 43,
     "metadata": {},
     "output_type": "execute_result"
    }
   ],
   "source": [
    "df_hour_1 = df['대여시'].value_counts().reset_index()\n",
    "df_hour_1.columns = ['hour', 'count']\n",
    "df_hour_1 = df_hour_1.sort_values('hour')\n",
    "df_hour_1['대여반납'] = '대여'\n",
    "df_hour_1.head()\n",
    "\n",
    "df_hour_2 = df['반납시'].value_counts().reset_index()\n",
    "df_hour_2.columns = ['hour', 'count']\n",
    "df_hour_2 = df_hour_2.sort_values('hour')\n",
    "df_hour_2['대여반납'] = '반납'\n",
    "df_hour_2.head()\n",
    "\n",
    "df_hour = pd.concat([df_hour_1, df_hour_2])\n",
    "df_hour.head()"
   ]
  },
  {
   "cell_type": "code",
   "execution_count": 44,
   "metadata": {},
   "outputs": [
    {
     "data": {
      "image/png": "[encoded data removed]",
      "text/plain": [
       "<matplotlib.figure.Figure at 0x141cff828>"
      ]
     },
     "metadata": {},
     "output_type": "display_data"
    },
    {
     "data": {
      "text/plain": [
       "<ggplot: (337493487)>"
      ]
     },
     "execution_count": 44,
     "metadata": {},
     "output_type": "execute_result"
    }
   ],
   "source": [
    "(ggplot(df_hour)\n",
    " + aes(x='hour', y='count', fill='대여반납')\n",
    " + geom_bar(stat='identity', position='dodge')\n",
    " + geom_point()\n",
    " + geom_line(color='blue')\n",
    " + labs(x='시간', y='대여/반납 수', title='시간대별 자전거 대여/반납수')\n",
    " + theme(text=element_text(family='NanumBarunGothic'),\n",
    "        figure_size=(12,6))\n",
    ")"
   ]
  },
  {
   "cell_type": "markdown",
   "metadata": {},
   "source": [
    "* 새벽시간대로 갈 수록 대여/반납 수가 줄어든다.\n",
    "* 출근시간대에는 대여가 반납보다 많다.\n",
    "* 오전에는 8시대에 대여/반납이 많으며, 오후시간대에는 18시에 대여/반납이 가장 많다.\n",
    "* 오전 11시부터 20시까지는 대여가 반납보다 많다.(대여>반납)\n",
    "* 21시 이후부터 오전 4시까지는 대여보다 반납이 많다.(대여<반납)"
   ]
  },
  {
   "cell_type": "code",
   "execution_count": 45,
   "metadata": {},
   "outputs": [
    {
     "name": "stdout",
     "output_type": "stream",
     "text": [
      "(60, 3)\n",
      "(60, 3)\n",
      "(120, 3)\n"
     ]
    }
   ],
   "source": [
    "df_minute_1 = df['대여분'].value_counts().reset_index()\n",
    "df_minute_1.columns = ['minute', 'count']\n",
    "df_minute_1 = df_minute_1.sort_values('minute')\n",
    "df_minute_1['대여반납'] = '대여'\n",
    "print(df_minute_1.shape)\n",
    "\n",
    "df_minute_2 = df['반납분'].value_counts().reset_index()\n",
    "df_minute_2.columns = ['minute', 'count']\n",
    "df_minute_2 = df_minute_2.sort_values('minute')\n",
    "df_minute_2['대여반납'] = '반납'\n",
    "print(df_minute_2.shape)\n",
    "\n",
    "df_minute = pd.concat([df_minute_1, df_minute_2])\n",
    "print(df_minute.shape)"
   ]
  },
  {
   "cell_type": "code",
   "execution_count": 46,
   "metadata": {},
   "outputs": [
    {
     "data": {
      "image/png": "[encoded data removed]",
      "text/plain": [
       "<matplotlib.figure.Figure at 0x129ccfb70>"
      ]
     },
     "metadata": {},
     "output_type": "display_data"
    },
    {
     "data": {
      "text/plain": [
       "<ggplot: (-9223372036517270952)>"
      ]
     },
     "execution_count": 46,
     "metadata": {},
     "output_type": "execute_result"
    }
   ],
   "source": [
    "(ggplot(df_minute)\n",
    " + aes(x='minute', y='count', fill='대여반납')\n",
    " + geom_bar(stat='identity', position='dodge')\n",
    " + geom_line(color='blue')\n",
    " + labs(x='분', y='대여/반납 수', title='시간대별(분) 자전거 대여/반납수')\n",
    " + theme(text=element_text(family='NanumBarunGothic'),\n",
    "        figure_size=(12,6))\n",
    ")"
   ]
  },
  {
   "cell_type": "markdown",
   "metadata": {},
   "source": [
    "* 대여/반납이 거의 비슷하게 이루어지고 있지만 대여는 0~20분 사이에 더 많이 일어나며 반납은 40~60분 사이에 더 많이 일어난다."
   ]
  },
  {
   "cell_type": "markdown",
   "metadata": {},
   "source": [
    "## 대여와 반납은 같은 곳에서 이루어지고 있을까?"
   ]
  },
  {
   "cell_type": "code",
   "execution_count": 47,
   "metadata": {},
   "outputs": [],
   "source": [
    "# 같은대여반납소라는 컬럼을 새로 만들고 대여반납이 같은 곳에서 이루어지고 있는지 여부를 추가한다.\n",
    "df['같은대여반납소'] = df['대여대여소명'] == df['반납대여소명']"
   ]
  },
  {
   "cell_type": "code",
   "execution_count": 48,
   "metadata": {},
   "outputs": [
    {
     "name": "stdout",
     "output_type": "stream",
     "text": [
      "같은 곳에서 대여반납 하는 것보다 다른 곳에서 대여반납 하는 것이 7.86배 많다.\n"
     ]
    },
    {
     "data": {
      "text/html": [
       "<div>\n",
       "<style scoped>\n",
       "    .dataframe tbody tr th:only-of-type {\n",
       "        vertical-align: middle;\n",
       "    }\n",
       "\n",
       "    .dataframe tbody tr th {\n",
       "        vertical-align: top;\n",
       "    }\n",
       "\n",
       "    .dataframe thead th {\n",
       "        text-align: right;\n",
       "    }\n",
       "</style>\n",
       "<table border=\"1\" class=\"dataframe\">\n",
       "  <thead>\n",
       "    <tr style=\"text-align: right;\">\n",
       "      <th></th>\n",
       "      <th>일치여부</th>\n",
       "      <th>대여반납수</th>\n",
       "    </tr>\n",
       "  </thead>\n",
       "  <tbody>\n",
       "    <tr>\n",
       "      <th>0</th>\n",
       "      <td>False</td>\n",
       "      <td>520100</td>\n",
       "    </tr>\n",
       "    <tr>\n",
       "      <th>1</th>\n",
       "      <td>True</td>\n",
       "      <td>66204</td>\n",
       "    </tr>\n",
       "  </tbody>\n",
       "</table>\n",
       "</div>"
      ],
      "text/plain": [
       "    일치여부   대여반납수\n",
       "0  False  520100\n",
       "1   True   66204"
      ]
     },
     "execution_count": 48,
     "metadata": {},
     "output_type": "execute_result"
    }
   ],
   "source": [
    "df_location_diff = df['같은대여반납소'].value_counts().reset_index()\n",
    "df_location_diff.columns = ['일치여부', '대여반납수']\n",
    "# 같은|다른 반납소별로 대여반납수가 몇 배나 차이가 나는지 확인한다.\n",
    "location_diff_ratio = df_location_diff['대여반납수'][0]/df_location_diff['대여반납수'][1]\n",
    "print('같은 곳에서 대여반납 하는 것보다 다른 곳에서 대여반납 하는 것이 {0:.2f}배 많다.'.format(location_diff_ratio))\n",
    "df_location_diff"
   ]
  },
  {
   "cell_type": "code",
   "execution_count": 49,
   "metadata": {},
   "outputs": [
    {
     "data": {
      "image/png": "[encoded data removed]",
      "text/plain": [
       "<matplotlib.figure.Figure at 0x129dd86d8>"
      ]
     },
     "metadata": {},
     "output_type": "display_data"
    },
    {
     "data": {
      "text/plain": [
       "<ggplot: (292431003)>"
      ]
     },
     "execution_count": 49,
     "metadata": {},
     "output_type": "execute_result"
    }
   ],
   "source": [
    "# 대여반납수로 fill을 넣어주어 그래프에 색상표현이 되도록 한다.\n",
    "(ggplot(df_location_diff)\n",
    " + geom_col(mapping=aes(x='일치여부', y='대여반납수', fill='대여반납수'))\n",
    " + labs(title='대여반납소 일치여부')\n",
    " + theme(text=element_text(family='NanumBarunGothic'))\n",
    ")"
   ]
  },
  {
   "cell_type": "markdown",
   "metadata": {},
   "source": [
    "같은 곳에서 대여반납을 하는 것보다 다른 곳으로의 대여반납이 훨씬 많은 것을 확인할 수 있다."
   ]
  },
  {
   "cell_type": "code",
   "execution_count": 50,
   "metadata": {},
   "outputs": [
    {
     "data": {
      "text/html": [
       "<div>\n",
       "<style scoped>\n",
       "    .dataframe tbody tr th:only-of-type {\n",
       "        vertical-align: middle;\n",
       "    }\n",
       "\n",
       "    .dataframe tbody tr th {\n",
       "        vertical-align: top;\n",
       "    }\n",
       "\n",
       "    .dataframe thead th {\n",
       "        text-align: right;\n",
       "    }\n",
       "</style>\n",
       "<table border=\"1\" class=\"dataframe\">\n",
       "  <thead>\n",
       "    <tr style=\"text-align: right;\">\n",
       "      <th></th>\n",
       "      <th>자전거번호</th>\n",
       "      <th>대여일시</th>\n",
       "      <th>대여대여소번호</th>\n",
       "      <th>대여대여소명</th>\n",
       "      <th>대여거치대</th>\n",
       "      <th>반납일시</th>\n",
       "      <th>반납대여소번호</th>\n",
       "      <th>반납대여소명</th>\n",
       "      <th>반납거치대</th>\n",
       "      <th>이용시간(분)</th>\n",
       "      <th>...</th>\n",
       "      <th>대여시</th>\n",
       "      <th>대여분</th>\n",
       "      <th>대여요일</th>\n",
       "      <th>반납년</th>\n",
       "      <th>반납월</th>\n",
       "      <th>반납일</th>\n",
       "      <th>반납시</th>\n",
       "      <th>반납분</th>\n",
       "      <th>반납요일</th>\n",
       "      <th>같은대여반납소</th>\n",
       "    </tr>\n",
       "  </thead>\n",
       "  <tbody>\n",
       "    <tr>\n",
       "      <th>27</th>\n",
       "      <td>SPB-09000</td>\n",
       "      <td>2018-06-16 00:01:22</td>\n",
       "      <td>2025</td>\n",
       "      <td>흑석역 1번출구</td>\n",
       "      <td>13</td>\n",
       "      <td>2018-06-16 01:10:42</td>\n",
       "      <td>2025</td>\n",
       "      <td>흑석역 1번출구</td>\n",
       "      <td>9</td>\n",
       "      <td>67</td>\n",
       "      <td>...</td>\n",
       "      <td>0</td>\n",
       "      <td>1</td>\n",
       "      <td>5</td>\n",
       "      <td>2018</td>\n",
       "      <td>6</td>\n",
       "      <td>16</td>\n",
       "      <td>1</td>\n",
       "      <td>10</td>\n",
       "      <td>5</td>\n",
       "      <td>True</td>\n",
       "    </tr>\n",
       "    <tr>\n",
       "      <th>34</th>\n",
       "      <td>SPB-08794</td>\n",
       "      <td>2018-06-16 00:01:32</td>\n",
       "      <td>2025</td>\n",
       "      <td>흑석역 1번출구</td>\n",
       "      <td>10</td>\n",
       "      <td>2018-06-16 01:10:42</td>\n",
       "      <td>2025</td>\n",
       "      <td>흑석역 1번출구</td>\n",
       "      <td>15</td>\n",
       "      <td>64</td>\n",
       "      <td>...</td>\n",
       "      <td>0</td>\n",
       "      <td>1</td>\n",
       "      <td>5</td>\n",
       "      <td>2018</td>\n",
       "      <td>6</td>\n",
       "      <td>16</td>\n",
       "      <td>1</td>\n",
       "      <td>10</td>\n",
       "      <td>5</td>\n",
       "      <td>True</td>\n",
       "    </tr>\n",
       "    <tr>\n",
       "      <th>40</th>\n",
       "      <td>SPB-02178</td>\n",
       "      <td>2018-06-16 00:01:47</td>\n",
       "      <td>1308</td>\n",
       "      <td>안암로터리 버스정류장 앞</td>\n",
       "      <td>3</td>\n",
       "      <td>2018-06-16 01:52:14</td>\n",
       "      <td>1308</td>\n",
       "      <td>안암로터리 버스정류장 앞</td>\n",
       "      <td>4</td>\n",
       "      <td>110</td>\n",
       "      <td>...</td>\n",
       "      <td>0</td>\n",
       "      <td>1</td>\n",
       "      <td>5</td>\n",
       "      <td>2018</td>\n",
       "      <td>6</td>\n",
       "      <td>16</td>\n",
       "      <td>1</td>\n",
       "      <td>52</td>\n",
       "      <td>5</td>\n",
       "      <td>True</td>\n",
       "    </tr>\n",
       "    <tr>\n",
       "      <th>42</th>\n",
       "      <td>SPB-06487</td>\n",
       "      <td>2018-06-16 00:01:50</td>\n",
       "      <td>421</td>\n",
       "      <td>마포구청 앞</td>\n",
       "      <td>6</td>\n",
       "      <td>2018-06-16 00:04:24</td>\n",
       "      <td>421</td>\n",
       "      <td>마포구청 앞</td>\n",
       "      <td>7</td>\n",
       "      <td>2</td>\n",
       "      <td>...</td>\n",
       "      <td>0</td>\n",
       "      <td>1</td>\n",
       "      <td>5</td>\n",
       "      <td>2018</td>\n",
       "      <td>6</td>\n",
       "      <td>16</td>\n",
       "      <td>0</td>\n",
       "      <td>4</td>\n",
       "      <td>5</td>\n",
       "      <td>True</td>\n",
       "    </tr>\n",
       "    <tr>\n",
       "      <th>47</th>\n",
       "      <td>SPB-09293</td>\n",
       "      <td>2018-06-16 00:01:56</td>\n",
       "      <td>235</td>\n",
       "      <td>신길동 우리은행 옆</td>\n",
       "      <td>5</td>\n",
       "      <td>2018-06-16 00:05:02</td>\n",
       "      <td>235</td>\n",
       "      <td>신길동 우리은행 옆</td>\n",
       "      <td>5</td>\n",
       "      <td>3</td>\n",
       "      <td>...</td>\n",
       "      <td>0</td>\n",
       "      <td>1</td>\n",
       "      <td>5</td>\n",
       "      <td>2018</td>\n",
       "      <td>6</td>\n",
       "      <td>16</td>\n",
       "      <td>0</td>\n",
       "      <td>5</td>\n",
       "      <td>5</td>\n",
       "      <td>True</td>\n",
       "    </tr>\n",
       "  </tbody>\n",
       "</table>\n",
       "<p>5 rows × 26 columns</p>\n",
       "</div>"
      ],
      "text/plain": [
       "        자전거번호                대여일시 대여대여소번호          대여대여소명  대여거치대  \\\n",
       "27  SPB-09000 2018-06-16 00:01:22    2025        흑석역 1번출구     13   \n",
       "34  SPB-08794 2018-06-16 00:01:32    2025        흑석역 1번출구     10   \n",
       "40  SPB-02178 2018-06-16 00:01:47    1308   안암로터리 버스정류장 앞      3   \n",
       "42  SPB-06487 2018-06-16 00:01:50     421          마포구청 앞      6   \n",
       "47  SPB-09293 2018-06-16 00:01:56     235      신길동 우리은행 옆      5   \n",
       "\n",
       "                  반납일시 반납대여소번호          반납대여소명  반납거치대  이용시간(분)   ...     대여시  \\\n",
       "27 2018-06-16 01:10:42    2025        흑석역 1번출구      9       67   ...       0   \n",
       "34 2018-06-16 01:10:42    2025        흑석역 1번출구     15       64   ...       0   \n",
       "40 2018-06-16 01:52:14    1308   안암로터리 버스정류장 앞      4      110   ...       0   \n",
       "42 2018-06-16 00:04:24     421          마포구청 앞      7        2   ...       0   \n",
       "47 2018-06-16 00:05:02     235      신길동 우리은행 옆      5        3   ...       0   \n",
       "\n",
       "   대여분 대여요일   반납년  반납월  반납일  반납시  반납분  반납요일  같은대여반납소  \n",
       "27   1    5  2018    6   16    1   10     5     True  \n",
       "34   1    5  2018    6   16    1   10     5     True  \n",
       "40   1    5  2018    6   16    1   52     5     True  \n",
       "42   1    5  2018    6   16    0    4     5     True  \n",
       "47   1    5  2018    6   16    0    5     5     True  \n",
       "\n",
       "[5 rows x 26 columns]"
      ]
     },
     "execution_count": 50,
     "metadata": {},
     "output_type": "execute_result"
    }
   ],
   "source": [
    "df_same_loc = df.loc[df['같은대여반납소'] == True]\n",
    "df_same_loc.head()"
   ]
  },
  {
   "cell_type": "code",
   "execution_count": 51,
   "metadata": {},
   "outputs": [
    {
     "data": {
      "text/plain": [
       " 여의나루역 1번출구 앞               1046\n",
       " 뚝섬유원지역 1번출구 앞               900\n",
       " 서울숲 관리사무소                   665\n",
       " 봉림교 교통섬                     543\n",
       " 마포구민체육센터 앞                  541\n",
       " 고속터미널역 8-1번, 8-2번 출구 사이     485\n",
       " 옥수역 3번출구                    457\n",
       " 몽촌토성역 1번출구 옆                390\n",
       " 노들역 1번출구                    372\n",
       " 당산육갑문                       336\n",
       " 양천향교역 7번출구앞                 326\n",
       " 월드컵공원                       321\n",
       " CJ 드림시티                     311\n",
       " 홍대입구역 2번출구 앞                302\n",
       " 청계천 생태교실 앞                  292\n",
       " 홍은사거리                       288\n",
       " 마포구청 앞                      288\n",
       " 황금내근린공원                     280\n",
       " 잠실새내역 5번 출구 뒤               279\n",
       " 흑석역 1번출구                    274\n",
       " 보문2교                        266\n",
       " 외국어대 정문 앞                   262\n",
       " 한신16차아파트 119동 앞             260\n",
       " 새절역 2번출구                    252\n",
       " 현대고등학교 건너편                  246\n",
       " 서울숲역 4번 출구 옆                214\n",
       " 도림천 신화교                     212\n",
       " 도봉구청 옆(중랑천변)                211\n",
       " 독산보도육교 앞 자전거 보관소            210\n",
       " 안암로터리 버스정류장 앞               204\n",
       "Name: 대여대여소명, dtype: int64"
      ]
     },
     "execution_count": 51,
     "metadata": {},
     "output_type": "execute_result"
    }
   ],
   "source": [
    "# 같은 곳에서 대여반납이 이루어지는 상위 대여소(대여|반납 건 수)\n",
    "df_same_loc['대여대여소명'].value_counts().head(30)"
   ]
  },
  {
   "cell_type": "markdown",
   "metadata": {},
   "source": [
    "* 같은 곳에서 대여반납이 이루어지는 대여소들은 한강주변이나 공원 주변에 위치한 것을 확인해 볼 수 있다."
   ]
  },
  {
   "cell_type": "markdown",
   "metadata": {},
   "source": [
    "## 같은|다른 대여소에서 대여가 되는 자전거의 평균 이용시간\n",
    "### 같은 대여반납소"
   ]
  },
  {
   "cell_type": "code",
   "execution_count": 52,
   "metadata": {},
   "outputs": [
    {
     "name": "stdout",
     "output_type": "stream",
     "text": [
      "같은곳에서 대여, 반납이 이루어지는 자전거의 평균 이용시간 :  53.18429400036251\n"
     ]
    },
    {
     "data": {
      "text/html": [
       "<div>\n",
       "<style scoped>\n",
       "    .dataframe tbody tr th:only-of-type {\n",
       "        vertical-align: middle;\n",
       "    }\n",
       "\n",
       "    .dataframe tbody tr th {\n",
       "        vertical-align: top;\n",
       "    }\n",
       "\n",
       "    .dataframe thead th {\n",
       "        text-align: right;\n",
       "    }\n",
       "</style>\n",
       "<table border=\"1\" class=\"dataframe\">\n",
       "  <thead>\n",
       "    <tr style=\"text-align: right;\">\n",
       "      <th></th>\n",
       "      <th>대여대여소명</th>\n",
       "      <th>반납대여소명</th>\n",
       "      <th>이용시간(분)</th>\n",
       "      <th>이용횟수</th>\n",
       "    </tr>\n",
       "  </thead>\n",
       "  <tbody>\n",
       "    <tr>\n",
       "      <th>167</th>\n",
       "      <td>구로1동우체국 앞</td>\n",
       "      <td>구로1동우체국 앞</td>\n",
       "      <td>143.500000</td>\n",
       "      <td>2</td>\n",
       "    </tr>\n",
       "    <tr>\n",
       "      <th>278</th>\n",
       "      <td>달맞이공원</td>\n",
       "      <td>달맞이공원</td>\n",
       "      <td>122.066667</td>\n",
       "      <td>15</td>\n",
       "    </tr>\n",
       "    <tr>\n",
       "      <th>434</th>\n",
       "      <td>명지대학교 학생회관</td>\n",
       "      <td>명지대학교 학생회관</td>\n",
       "      <td>121.285714</td>\n",
       "      <td>7</td>\n",
       "    </tr>\n",
       "    <tr>\n",
       "      <th>856</th>\n",
       "      <td>역삼동 sk뷰 501동앞</td>\n",
       "      <td>역삼동 sk뷰 501동앞</td>\n",
       "      <td>114.000000</td>\n",
       "      <td>1</td>\n",
       "    </tr>\n",
       "    <tr>\n",
       "      <th>66</th>\n",
       "      <td>강남세브란스교차로  래미안그레이튼 104동 앞</td>\n",
       "      <td>강남세브란스교차로  래미안그레이튼 104동 앞</td>\n",
       "      <td>99.727273</td>\n",
       "      <td>11</td>\n",
       "    </tr>\n",
       "    <tr>\n",
       "      <th>131</th>\n",
       "      <td>공항시장역 4번출구</td>\n",
       "      <td>공항시장역 4번출구</td>\n",
       "      <td>95.545455</td>\n",
       "      <td>11</td>\n",
       "    </tr>\n",
       "    <tr>\n",
       "      <th>833</th>\n",
       "      <td>양원역 2번출구</td>\n",
       "      <td>양원역 2번출구</td>\n",
       "      <td>94.333333</td>\n",
       "      <td>3</td>\n",
       "    </tr>\n",
       "    <tr>\n",
       "      <th>618</th>\n",
       "      <td>서대문구청</td>\n",
       "      <td>서대문구청</td>\n",
       "      <td>92.023810</td>\n",
       "      <td>42</td>\n",
       "    </tr>\n",
       "    <tr>\n",
       "      <th>221</th>\n",
       "      <td>금호역 1번출구 앞</td>\n",
       "      <td>금호역 1번출구 앞</td>\n",
       "      <td>91.777778</td>\n",
       "      <td>9</td>\n",
       "    </tr>\n",
       "    <tr>\n",
       "      <th>235</th>\n",
       "      <td>낙성대역 1번출구</td>\n",
       "      <td>낙성대역 1번출구</td>\n",
       "      <td>89.562500</td>\n",
       "      <td>16</td>\n",
       "    </tr>\n",
       "  </tbody>\n",
       "</table>\n",
       "</div>"
      ],
      "text/plain": [
       "                         대여대여소명                      반납대여소명     이용시간(분)  이용횟수\n",
       "167                   구로1동우체국 앞                   구로1동우체국 앞  143.500000     2\n",
       "278                       달맞이공원                       달맞이공원  122.066667    15\n",
       "434                  명지대학교 학생회관                  명지대학교 학생회관  121.285714     7\n",
       "856               역삼동 sk뷰 501동앞               역삼동 sk뷰 501동앞  114.000000     1\n",
       "66    강남세브란스교차로  래미안그레이튼 104동 앞   강남세브란스교차로  래미안그레이튼 104동 앞   99.727273    11\n",
       "131                  공항시장역 4번출구                  공항시장역 4번출구   95.545455    11\n",
       "833                    양원역 2번출구                    양원역 2번출구   94.333333     3\n",
       "618                       서대문구청                       서대문구청   92.023810    42\n",
       "221                  금호역 1번출구 앞                  금호역 1번출구 앞   91.777778     9\n",
       "235                   낙성대역 1번출구                   낙성대역 1번출구   89.562500    16"
      ]
     },
     "execution_count": 52,
     "metadata": {},
     "output_type": "execute_result"
    }
   ],
   "source": [
    "same_loc_mean_time = df_same_loc['이용시간(분)'].mean()\n",
    "print('같은곳에서 대여, 반납이 이루어지는 자전거의 평균 이용시간 : ', same_loc_mean_time)\n",
    "df_same_mean = df_same_loc.groupby(['대여대여소명', '반납대여소명'])['이용시간(분)'].mean().reset_index()\n",
    "df_same_count = df_same_loc.groupby(['대여대여소명', '반납대여소명']).size().reset_index()\n",
    "df_same_count.columns = ['대여대여소명', '반납대여소명', '이용횟수']\n",
    "df_same_loc2 = df_same_mean.merge(df_same_count, left_on=['대여대여소명', '반납대여소명'], right_on=['대여대여소명', '반납대여소명'])\n",
    "df_same_loc2.sort_values(by='이용시간(분)', ascending=False).head(10)"
   ]
  },
  {
   "cell_type": "code",
   "execution_count": 53,
   "metadata": {},
   "outputs": [
    {
     "data": {
      "text/html": [
       "<div>\n",
       "<style scoped>\n",
       "    .dataframe tbody tr th:only-of-type {\n",
       "        vertical-align: middle;\n",
       "    }\n",
       "\n",
       "    .dataframe tbody tr th {\n",
       "        vertical-align: top;\n",
       "    }\n",
       "\n",
       "    .dataframe thead th {\n",
       "        text-align: right;\n",
       "    }\n",
       "</style>\n",
       "<table border=\"1\" class=\"dataframe\">\n",
       "  <thead>\n",
       "    <tr style=\"text-align: right;\">\n",
       "      <th></th>\n",
       "      <th>대여대여소명</th>\n",
       "      <th>반납대여소명</th>\n",
       "      <th>이용시간(분)</th>\n",
       "      <th>이용횟수</th>\n",
       "    </tr>\n",
       "  </thead>\n",
       "  <tbody>\n",
       "    <tr>\n",
       "      <th>850</th>\n",
       "      <td>여의나루역 1번출구 앞</td>\n",
       "      <td>여의나루역 1번출구 앞</td>\n",
       "      <td>66.167304</td>\n",
       "      <td>1046</td>\n",
       "    </tr>\n",
       "    <tr>\n",
       "      <th>369</th>\n",
       "      <td>뚝섬유원지역 1번출구 앞</td>\n",
       "      <td>뚝섬유원지역 1번출구 앞</td>\n",
       "      <td>56.593333</td>\n",
       "      <td>900</td>\n",
       "    </tr>\n",
       "    <tr>\n",
       "      <th>646</th>\n",
       "      <td>서울숲 관리사무소</td>\n",
       "      <td>서울숲 관리사무소</td>\n",
       "      <td>57.178947</td>\n",
       "      <td>665</td>\n",
       "    </tr>\n",
       "    <tr>\n",
       "      <th>518</th>\n",
       "      <td>봉림교 교통섬</td>\n",
       "      <td>봉림교 교통섬</td>\n",
       "      <td>58.836096</td>\n",
       "      <td>543</td>\n",
       "    </tr>\n",
       "    <tr>\n",
       "      <th>404</th>\n",
       "      <td>마포구민체육센터 앞</td>\n",
       "      <td>마포구민체육센터 앞</td>\n",
       "      <td>57.975970</td>\n",
       "      <td>541</td>\n",
       "    </tr>\n",
       "    <tr>\n",
       "      <th>118</th>\n",
       "      <td>고속터미널역 8-1번, 8-2번 출구 사이</td>\n",
       "      <td>고속터미널역 8-1번, 8-2번 출구 사이</td>\n",
       "      <td>72.138144</td>\n",
       "      <td>485</td>\n",
       "    </tr>\n",
       "    <tr>\n",
       "      <th>905</th>\n",
       "      <td>옥수역 3번출구</td>\n",
       "      <td>옥수역 3번출구</td>\n",
       "      <td>55.855580</td>\n",
       "      <td>457</td>\n",
       "    </tr>\n",
       "    <tr>\n",
       "      <th>445</th>\n",
       "      <td>몽촌토성역 1번출구 옆</td>\n",
       "      <td>몽촌토성역 1번출구 옆</td>\n",
       "      <td>58.420513</td>\n",
       "      <td>390</td>\n",
       "    </tr>\n",
       "    <tr>\n",
       "      <th>253</th>\n",
       "      <td>노들역 1번출구</td>\n",
       "      <td>노들역 1번출구</td>\n",
       "      <td>63.424731</td>\n",
       "      <td>372</td>\n",
       "    </tr>\n",
       "    <tr>\n",
       "      <th>287</th>\n",
       "      <td>당산육갑문</td>\n",
       "      <td>당산육갑문</td>\n",
       "      <td>66.157738</td>\n",
       "      <td>336</td>\n",
       "    </tr>\n",
       "  </tbody>\n",
       "</table>\n",
       "</div>"
      ],
      "text/plain": [
       "                       대여대여소명                    반납대여소명    이용시간(분)  이용횟수\n",
       "850              여의나루역 1번출구 앞              여의나루역 1번출구 앞  66.167304  1046\n",
       "369             뚝섬유원지역 1번출구 앞             뚝섬유원지역 1번출구 앞  56.593333   900\n",
       "646                 서울숲 관리사무소                 서울숲 관리사무소  57.178947   665\n",
       "518                   봉림교 교통섬                   봉림교 교통섬  58.836096   543\n",
       "404                마포구민체육센터 앞                마포구민체육센터 앞  57.975970   541\n",
       "118   고속터미널역 8-1번, 8-2번 출구 사이   고속터미널역 8-1번, 8-2번 출구 사이  72.138144   485\n",
       "905                  옥수역 3번출구                  옥수역 3번출구  55.855580   457\n",
       "445              몽촌토성역 1번출구 옆              몽촌토성역 1번출구 옆  58.420513   390\n",
       "253                  노들역 1번출구                  노들역 1번출구  63.424731   372\n",
       "287                     당산육갑문                     당산육갑문  66.157738   336"
      ]
     },
     "execution_count": 53,
     "metadata": {},
     "output_type": "execute_result"
    }
   ],
   "source": [
    "# 이용횟수가 많은 곳의 평균 이용시간\n",
    "df_same_loc2.sort_values(by='이용횟수', ascending=False).head(10)"
   ]
  },
  {
   "cell_type": "code",
   "execution_count": 54,
   "metadata": {},
   "outputs": [
    {
     "data": {
      "text/plain": [
       "<matplotlib.axes._subplots.AxesSubplot at 0x129788278>"
      ]
     },
     "execution_count": 54,
     "metadata": {},
     "output_type": "execute_result"
    },
    {
     "data": {
      "image/png": "[encoded data removed]",
      "text/plain": [
       "<matplotlib.figure.Figure at 0x129de8780>"
      ]
     },
     "metadata": {},
     "output_type": "display_data"
    }
   ],
   "source": [
    "df_same_loc2['이용횟수'].plot.hist()"
   ]
  },
  {
   "cell_type": "markdown",
   "metadata": {},
   "source": [
    "### 다른 대여|반납소"
   ]
  },
  {
   "cell_type": "code",
   "execution_count": 55,
   "metadata": {},
   "outputs": [
    {
     "data": {
      "text/plain": [
       "(520100, 26)"
      ]
     },
     "execution_count": 55,
     "metadata": {},
     "output_type": "execute_result"
    }
   ],
   "source": [
    "df_diff_loc = df.loc[df['같은대여반납소'] == False]\n",
    "df_diff_loc.shape"
   ]
  },
  {
   "cell_type": "code",
   "execution_count": 56,
   "metadata": {},
   "outputs": [
    {
     "name": "stdout",
     "output_type": "stream",
     "text": [
      "다른곳에서 대여, 반납이 이루어지는 자전거의 평균 이용시간 :  25.834228033070563\n"
     ]
    },
    {
     "data": {
      "text/html": [
       "<div>\n",
       "<style scoped>\n",
       "    .dataframe tbody tr th:only-of-type {\n",
       "        vertical-align: middle;\n",
       "    }\n",
       "\n",
       "    .dataframe tbody tr th {\n",
       "        vertical-align: top;\n",
       "    }\n",
       "\n",
       "    .dataframe thead th {\n",
       "        text-align: right;\n",
       "    }\n",
       "</style>\n",
       "<table border=\"1\" class=\"dataframe\">\n",
       "  <thead>\n",
       "    <tr style=\"text-align: right;\">\n",
       "      <th></th>\n",
       "      <th>대여대여소명</th>\n",
       "      <th>반납대여소명</th>\n",
       "      <th>이용시간(분)</th>\n",
       "      <th>이용횟수</th>\n",
       "    </tr>\n",
       "  </thead>\n",
       "  <tbody>\n",
       "    <tr>\n",
       "      <th>94100</th>\n",
       "      <td>천왕역 4번출구 뒤</td>\n",
       "      <td>신정3동 현장민원실 앞</td>\n",
       "      <td>740.000000</td>\n",
       "      <td>1</td>\n",
       "    </tr>\n",
       "    <tr>\n",
       "      <th>72879</th>\n",
       "      <td>여의도고교 앞</td>\n",
       "      <td>보라매역 8번출구</td>\n",
       "      <td>651.000000</td>\n",
       "      <td>1</td>\n",
       "    </tr>\n",
       "    <tr>\n",
       "      <th>59814</th>\n",
       "      <td>성수역3번출구</td>\n",
       "      <td>논현역 7번출구</td>\n",
       "      <td>553.000000</td>\n",
       "      <td>1</td>\n",
       "    </tr>\n",
       "    <tr>\n",
       "      <th>70466</th>\n",
       "      <td>압구정파출소 앞</td>\n",
       "      <td>전농사거리 교통섬</td>\n",
       "      <td>506.000000</td>\n",
       "      <td>1</td>\n",
       "    </tr>\n",
       "    <tr>\n",
       "      <th>66230</th>\n",
       "      <td>신설동역8번출구</td>\n",
       "      <td>청계천 박물관 앞</td>\n",
       "      <td>504.000000</td>\n",
       "      <td>3</td>\n",
       "    </tr>\n",
       "    <tr>\n",
       "      <th>41979</th>\n",
       "      <td>방화역 4번출구앞</td>\n",
       "      <td>황금내근린공원</td>\n",
       "      <td>479.000000</td>\n",
       "      <td>1</td>\n",
       "    </tr>\n",
       "    <tr>\n",
       "      <th>1077</th>\n",
       "      <td>DMC역 2번출구 옆</td>\n",
       "      <td>홍은동 정원여중 입구</td>\n",
       "      <td>440.000000</td>\n",
       "      <td>2</td>\n",
       "    </tr>\n",
       "    <tr>\n",
       "      <th>84463</th>\n",
       "      <td>이태원지하보도</td>\n",
       "      <td>마포구청역</td>\n",
       "      <td>437.000000</td>\n",
       "      <td>2</td>\n",
       "    </tr>\n",
       "    <tr>\n",
       "      <th>84329</th>\n",
       "      <td>이태원관광특구입구</td>\n",
       "      <td>국립현대미술관</td>\n",
       "      <td>405.666667</td>\n",
       "      <td>3</td>\n",
       "    </tr>\n",
       "    <tr>\n",
       "      <th>15423</th>\n",
       "      <td>구로역 광장</td>\n",
       "      <td>유한양행앞</td>\n",
       "      <td>405.000000</td>\n",
       "      <td>1</td>\n",
       "    </tr>\n",
       "  </tbody>\n",
       "</table>\n",
       "</div>"
      ],
      "text/plain": [
       "             대여대여소명         반납대여소명     이용시간(분)  이용횟수\n",
       "94100    천왕역 4번출구 뒤   신정3동 현장민원실 앞  740.000000     1\n",
       "72879       여의도고교 앞      보라매역 8번출구  651.000000     1\n",
       "59814       성수역3번출구       논현역 7번출구  553.000000     1\n",
       "70466      압구정파출소 앞      전농사거리 교통섬  506.000000     1\n",
       "66230      신설동역8번출구      청계천 박물관 앞  504.000000     3\n",
       "41979     방화역 4번출구앞        황금내근린공원  479.000000     1\n",
       "1077    DMC역 2번출구 옆    홍은동 정원여중 입구  440.000000     2\n",
       "84463       이태원지하보도         마포구청역   437.000000     2\n",
       "84329     이태원관광특구입구        국립현대미술관  405.666667     3\n",
       "15423        구로역 광장          유한양행앞  405.000000     1"
      ]
     },
     "execution_count": 56,
     "metadata": {},
     "output_type": "execute_result"
    }
   ],
   "source": [
    "diff_loc_mean_time = df_diff_loc['이용시간(분)'].mean()\n",
    "print('다른곳에서 대여, 반납이 이루어지는 자전거의 평균 이용시간 : ', df_diff_loc['이용시간(분)'].mean())\n",
    "df_diff_mean = df_diff_loc.groupby(['대여대여소명', '반납대여소명'])['이용시간(분)'].mean().reset_index()\n",
    "df_diff_count = df_diff_loc.groupby(['대여대여소명', '반납대여소명']).size().reset_index()\n",
    "df_diff_count.columns = ['대여대여소명', '반납대여소명', '이용횟수']\n",
    "df_diff_loc2 = df_diff_mean.merge(df_diff_count, left_on=['대여대여소명', '반납대여소명'], right_on=['대여대여소명', '반납대여소명'])\n",
    "df_diff_loc2.sort_values(by='이용시간(분)', ascending=False).head(10)"
   ]
  },
  {
   "cell_type": "code",
   "execution_count": 57,
   "metadata": {},
   "outputs": [
    {
     "data": {
      "text/html": [
       "<div>\n",
       "<style scoped>\n",
       "    .dataframe tbody tr th:only-of-type {\n",
       "        vertical-align: middle;\n",
       "    }\n",
       "\n",
       "    .dataframe tbody tr th {\n",
       "        vertical-align: top;\n",
       "    }\n",
       "\n",
       "    .dataframe thead th {\n",
       "        text-align: right;\n",
       "    }\n",
       "</style>\n",
       "<table border=\"1\" class=\"dataframe\">\n",
       "  <thead>\n",
       "    <tr style=\"text-align: right;\">\n",
       "      <th></th>\n",
       "      <th>대여대여소명</th>\n",
       "      <th>반납대여소명</th>\n",
       "      <th>이용시간(분)</th>\n",
       "      <th>이용횟수</th>\n",
       "    </tr>\n",
       "  </thead>\n",
       "  <tbody>\n",
       "    <tr>\n",
       "      <th>99349</th>\n",
       "      <td>하늘채코오롱아파트 건너편</td>\n",
       "      <td>홍대입구역 2번출구 앞</td>\n",
       "      <td>10.240938</td>\n",
       "      <td>469</td>\n",
       "    </tr>\n",
       "    <tr>\n",
       "      <th>104360</th>\n",
       "      <td>홍대입구역 2번출구 앞</td>\n",
       "      <td>하늘채코오롱아파트 건너편</td>\n",
       "      <td>14.943734</td>\n",
       "      <td>391</td>\n",
       "    </tr>\n",
       "    <tr>\n",
       "      <th>86527</th>\n",
       "      <td>장승배기역 5번출구</td>\n",
       "      <td>노량진역 5번출구</td>\n",
       "      <td>8.200000</td>\n",
       "      <td>285</td>\n",
       "    </tr>\n",
       "    <tr>\n",
       "      <th>43695</th>\n",
       "      <td>봉림교 교통섬</td>\n",
       "      <td>도림천 신화교</td>\n",
       "      <td>17.679856</td>\n",
       "      <td>278</td>\n",
       "    </tr>\n",
       "    <tr>\n",
       "      <th>26686</th>\n",
       "      <td>도림천 신화교</td>\n",
       "      <td>봉림교 교통섬</td>\n",
       "      <td>14.248175</td>\n",
       "      <td>274</td>\n",
       "    </tr>\n",
       "    <tr>\n",
       "      <th>108597</th>\n",
       "      <td>청계산입구역 1번출구</td>\n",
       "      <td>언남초등학교 앞</td>\n",
       "      <td>8.184426</td>\n",
       "      <td>244</td>\n",
       "    </tr>\n",
       "    <tr>\n",
       "      <th>43745</th>\n",
       "      <td>봉림교 교통섬</td>\n",
       "      <td>서울신성초등학교</td>\n",
       "      <td>21.479339</td>\n",
       "      <td>242</td>\n",
       "    </tr>\n",
       "    <tr>\n",
       "      <th>72270</th>\n",
       "      <td>언남초등학교 앞</td>\n",
       "      <td>청계산입구역 1번출구</td>\n",
       "      <td>6.260504</td>\n",
       "      <td>238</td>\n",
       "    </tr>\n",
       "    <tr>\n",
       "      <th>7959</th>\n",
       "      <td>건국대학교 (입학정보관)</td>\n",
       "      <td>건국대학교 학생회관</td>\n",
       "      <td>12.218341</td>\n",
       "      <td>229</td>\n",
       "    </tr>\n",
       "    <tr>\n",
       "      <th>85076</th>\n",
       "      <td>자양나들목</td>\n",
       "      <td>뚝섬유원지역 1번출구 앞</td>\n",
       "      <td>8.204651</td>\n",
       "      <td>215</td>\n",
       "    </tr>\n",
       "  </tbody>\n",
       "</table>\n",
       "</div>"
      ],
      "text/plain": [
       "                대여대여소명          반납대여소명    이용시간(분)  이용횟수\n",
       "99349    하늘채코오롱아파트 건너편    홍대입구역 2번출구 앞  10.240938   469\n",
       "104360    홍대입구역 2번출구 앞   하늘채코오롱아파트 건너편  14.943734   391\n",
       "86527       장승배기역 5번출구       노량진역 5번출구   8.200000   285\n",
       "43695          봉림교 교통섬         도림천 신화교  17.679856   278\n",
       "26686          도림천 신화교         봉림교 교통섬  14.248175   274\n",
       "108597     청계산입구역 1번출구        언남초등학교 앞   8.184426   244\n",
       "43745          봉림교 교통섬        서울신성초등학교  21.479339   242\n",
       "72270         언남초등학교 앞     청계산입구역 1번출구   6.260504   238\n",
       "7959     건국대학교 (입학정보관)      건국대학교 학생회관  12.218341   229\n",
       "85076            자양나들목   뚝섬유원지역 1번출구 앞   8.204651   215"
      ]
     },
     "execution_count": 57,
     "metadata": {},
     "output_type": "execute_result"
    }
   ],
   "source": [
    "df_diff_loc2.sort_values(by='이용횟수', ascending=False).head(10)"
   ]
  },
  {
   "cell_type": "code",
   "execution_count": 58,
   "metadata": {},
   "outputs": [
    {
     "name": "stdout",
     "output_type": "stream",
     "text": [
      "같은 곳에서 대여반납이 이루어지는 자전거의 이용시간(분)이 다른 대여소의 대여반납 이용시간보다 27.35 분 많다.\n"
     ]
    }
   ],
   "source": [
    "rent_mean_time = same_loc_mean_time - diff_loc_mean_time\n",
    "print('같은 곳에서 대여반납이 이루어지는 자전거의 이용시간(분)이 다른 대여소의 대여반납 이용시간보다 {:,.2f} 분 많다.'.format(rent_mean_time))"
   ]
  },
  {
   "cell_type": "markdown",
   "metadata": {},
   "source": [
    "* 이용횟수가 많은 대여소라고 해서 평균이용시간이 평균보다 높지는 않다.\n",
    "* 하늘채코오롱아파트 건너편<->홍대입구역 2번출구 앞은 이용횟수가 가장 높은 대여반납소다.\n",
    "* 관련기사\n",
    "    * ['따릉이' 타고 가장 많이 다닌 경로는? - 통플러스](http://news.tongplus.com/site/data/html_dir/2018/10/24/2018102402585.html)\n",
    "    * [[ONE SHOT] 따릉이, ‘이곳’서 가장 많이 빌리고 ‘여기’서 가장 많이 탄다](https://news.joins.com/article/23003297)"
   ]
  },
  {
   "cell_type": "markdown",
   "metadata": {},
   "source": [
    "## 해당 기간동안 가장 많이 이용된 자전거는 몇 회 대여 되었을까?"
   ]
  },
  {
   "cell_type": "code",
   "execution_count": 59,
   "metadata": {},
   "outputs": [
    {
     "name": "stdout",
     "output_type": "stream",
     "text": [
      "대여된 자전거 수 : 12970\n",
      "가장 많이 대여된 자전거 번호 : SPB-18238\n",
      "가장 많이 대여된 자전거의 대여횟수 : 139\n"
     ]
    },
    {
     "data": {
      "text/plain": [
       "count        586304\n",
       "unique        12970\n",
       "top       SPB-18238\n",
       "freq            139\n",
       "Name: 자전거번호, dtype: object"
      ]
     },
     "execution_count": 59,
     "metadata": {},
     "output_type": "execute_result"
    }
   ],
   "source": [
    "bike_describe = df['자전거번호'].describe()\n",
    "print('대여된 자전거 수 :', bike_describe[1])\n",
    "print('가장 많이 대여된 자전거 번호 :', bike_describe[2])\n",
    "print('가장 많이 대여된 자전거의 대여횟수 :', bike_describe[3])\n",
    "bike_describe"
   ]
  },
  {
   "cell_type": "code",
   "execution_count": 60,
   "metadata": {},
   "outputs": [
    {
     "name": "stdout",
     "output_type": "stream",
     "text": [
      "해당 기간동안 자전거 하나당 평균 대여 수: 45.20462606013878\n",
      "자전거 하나당 가장 많이 대여된 횟수: 139\n",
      "자전거 하나당 가장 적게 대여된 횟수: 1\n"
     ]
    }
   ],
   "source": [
    "bike_rent_counts = df['자전거번호'].value_counts().reset_index()\n",
    "bike_rent_counts.columns = ['자전거번호', '대여수']\n",
    "print('해당 기간동안 자전거 하나당 평균 대여 수:', bike_rent_counts['대여수'].mean())\n",
    "print('자전거 하나당 가장 많이 대여된 횟수:', bike_rent_counts['대여수'].max())\n",
    "print('자전거 하나당 가장 적게 대여된 횟수:', bike_rent_counts['대여수'].min())"
   ]
  },
  {
   "cell_type": "code",
   "execution_count": 61,
   "metadata": {},
   "outputs": [
    {
     "data": {
      "text/plain": [
       "<matplotlib.axes._subplots.AxesSubplot at 0x129798ba8>"
      ]
     },
     "execution_count": 61,
     "metadata": {},
     "output_type": "execute_result"
    },
    {
     "data": {
      "image/png": "[encoded data removed]",
      "text/plain": [
       "<matplotlib.figure.Figure at 0x1297937b8>"
      ]
     },
     "metadata": {},
     "output_type": "display_data"
    }
   ],
   "source": [
    "bike_rent_counts.plot.hist()"
   ]
  },
  {
   "cell_type": "code",
   "execution_count": 62,
   "metadata": {},
   "outputs": [
    {
     "data": {
      "text/html": [
       "<div>\n",
       "<style scoped>\n",
       "    .dataframe tbody tr th:only-of-type {\n",
       "        vertical-align: middle;\n",
       "    }\n",
       "\n",
       "    .dataframe tbody tr th {\n",
       "        vertical-align: top;\n",
       "    }\n",
       "\n",
       "    .dataframe thead th {\n",
       "        text-align: right;\n",
       "    }\n",
       "</style>\n",
       "<table border=\"1\" class=\"dataframe\">\n",
       "  <thead>\n",
       "    <tr style=\"text-align: right;\">\n",
       "      <th></th>\n",
       "      <th>자전거번호</th>\n",
       "      <th>대여일시</th>\n",
       "      <th>대여대여소번호</th>\n",
       "      <th>대여대여소명</th>\n",
       "      <th>대여거치대</th>\n",
       "      <th>반납일시</th>\n",
       "      <th>반납대여소번호</th>\n",
       "      <th>반납대여소명</th>\n",
       "      <th>반납거치대</th>\n",
       "      <th>이용시간(분)</th>\n",
       "      <th>...</th>\n",
       "      <th>대여시</th>\n",
       "      <th>대여분</th>\n",
       "      <th>대여요일</th>\n",
       "      <th>반납년</th>\n",
       "      <th>반납월</th>\n",
       "      <th>반납일</th>\n",
       "      <th>반납시</th>\n",
       "      <th>반납분</th>\n",
       "      <th>반납요일</th>\n",
       "      <th>같은대여반납소</th>\n",
       "    </tr>\n",
       "  </thead>\n",
       "  <tbody>\n",
       "    <tr>\n",
       "      <th>13282</th>\n",
       "      <td>SPB-18238</td>\n",
       "      <td>2018-06-16 13:01:05</td>\n",
       "      <td>2140</td>\n",
       "      <td>신림1교 교차로</td>\n",
       "      <td>6</td>\n",
       "      <td>2018-06-16 13:46:40</td>\n",
       "      <td>1975</td>\n",
       "      <td>대림역 1번 출입구 밑</td>\n",
       "      <td>4</td>\n",
       "      <td>45</td>\n",
       "      <td>...</td>\n",
       "      <td>13</td>\n",
       "      <td>1</td>\n",
       "      <td>5</td>\n",
       "      <td>2018</td>\n",
       "      <td>6</td>\n",
       "      <td>16</td>\n",
       "      <td>13</td>\n",
       "      <td>46</td>\n",
       "      <td>5</td>\n",
       "      <td>False</td>\n",
       "    </tr>\n",
       "    <tr>\n",
       "      <th>14861</th>\n",
       "      <td>SPB-18238</td>\n",
       "      <td>2018-06-16 13:47:21</td>\n",
       "      <td>1975</td>\n",
       "      <td>대림역 1번 출입구 밑</td>\n",
       "      <td>4</td>\n",
       "      <td>2018-06-16 14:17:53</td>\n",
       "      <td>2140</td>\n",
       "      <td>신림1교 교차로</td>\n",
       "      <td>6</td>\n",
       "      <td>30</td>\n",
       "      <td>...</td>\n",
       "      <td>13</td>\n",
       "      <td>47</td>\n",
       "      <td>5</td>\n",
       "      <td>2018</td>\n",
       "      <td>6</td>\n",
       "      <td>16</td>\n",
       "      <td>14</td>\n",
       "      <td>17</td>\n",
       "      <td>5</td>\n",
       "      <td>False</td>\n",
       "    </tr>\n",
       "    <tr>\n",
       "      <th>18639</th>\n",
       "      <td>SPB-18238</td>\n",
       "      <td>2018-06-16 15:25:52</td>\n",
       "      <td>2140</td>\n",
       "      <td>신림1교 교차로</td>\n",
       "      <td>6</td>\n",
       "      <td>2018-06-16 16:16:09</td>\n",
       "      <td>2140</td>\n",
       "      <td>신림1교 교차로</td>\n",
       "      <td>2</td>\n",
       "      <td>49</td>\n",
       "      <td>...</td>\n",
       "      <td>15</td>\n",
       "      <td>25</td>\n",
       "      <td>5</td>\n",
       "      <td>2018</td>\n",
       "      <td>6</td>\n",
       "      <td>16</td>\n",
       "      <td>16</td>\n",
       "      <td>16</td>\n",
       "      <td>5</td>\n",
       "      <td>True</td>\n",
       "    </tr>\n",
       "    <tr>\n",
       "      <th>22887</th>\n",
       "      <td>SPB-18238</td>\n",
       "      <td>2018-06-16 17:01:22</td>\n",
       "      <td>2140</td>\n",
       "      <td>신림1교 교차로</td>\n",
       "      <td>2</td>\n",
       "      <td>2018-06-16 18:39:24</td>\n",
       "      <td>2140</td>\n",
       "      <td>신림1교 교차로</td>\n",
       "      <td>1</td>\n",
       "      <td>97</td>\n",
       "      <td>...</td>\n",
       "      <td>17</td>\n",
       "      <td>1</td>\n",
       "      <td>5</td>\n",
       "      <td>2018</td>\n",
       "      <td>6</td>\n",
       "      <td>16</td>\n",
       "      <td>18</td>\n",
       "      <td>39</td>\n",
       "      <td>5</td>\n",
       "      <td>True</td>\n",
       "    </tr>\n",
       "    <tr>\n",
       "      <th>28700</th>\n",
       "      <td>SPB-18238</td>\n",
       "      <td>2018-06-16 18:43:39</td>\n",
       "      <td>2140</td>\n",
       "      <td>신림1교 교차로</td>\n",
       "      <td>1</td>\n",
       "      <td>2018-06-16 19:21:39</td>\n",
       "      <td>2171</td>\n",
       "      <td>서울대입구역 5번출구</td>\n",
       "      <td>12</td>\n",
       "      <td>37</td>\n",
       "      <td>...</td>\n",
       "      <td>18</td>\n",
       "      <td>43</td>\n",
       "      <td>5</td>\n",
       "      <td>2018</td>\n",
       "      <td>6</td>\n",
       "      <td>16</td>\n",
       "      <td>19</td>\n",
       "      <td>21</td>\n",
       "      <td>5</td>\n",
       "      <td>False</td>\n",
       "    </tr>\n",
       "  </tbody>\n",
       "</table>\n",
       "<p>5 rows × 26 columns</p>\n",
       "</div>"
      ],
      "text/plain": [
       "           자전거번호                대여일시 대여대여소번호         대여대여소명  대여거치대  \\\n",
       "13282  SPB-18238 2018-06-16 13:01:05    2140       신림1교 교차로      6   \n",
       "14861  SPB-18238 2018-06-16 13:47:21    1975   대림역 1번 출입구 밑      4   \n",
       "18639  SPB-18238 2018-06-16 15:25:52    2140       신림1교 교차로      6   \n",
       "22887  SPB-18238 2018-06-16 17:01:22    2140       신림1교 교차로      2   \n",
       "28700  SPB-18238 2018-06-16 18:43:39    2140       신림1교 교차로      1   \n",
       "\n",
       "                     반납일시 반납대여소번호         반납대여소명  반납거치대  이용시간(분)   ...     \\\n",
       "13282 2018-06-16 13:46:40    1975   대림역 1번 출입구 밑      4       45   ...      \n",
       "14861 2018-06-16 14:17:53    2140       신림1교 교차로      6       30   ...      \n",
       "18639 2018-06-16 16:16:09    2140       신림1교 교차로      2       49   ...      \n",
       "22887 2018-06-16 18:39:24    2140       신림1교 교차로      1       97   ...      \n",
       "28700 2018-06-16 19:21:39    2171    서울대입구역 5번출구     12       37   ...      \n",
       "\n",
       "       대여시 대여분 대여요일   반납년  반납월  반납일  반납시  반납분  반납요일  같은대여반납소  \n",
       "13282   13   1    5  2018    6   16   13   46     5    False  \n",
       "14861   13  47    5  2018    6   16   14   17     5    False  \n",
       "18639   15  25    5  2018    6   16   16   16     5     True  \n",
       "22887   17   1    5  2018    6   16   18   39     5     True  \n",
       "28700   18  43    5  2018    6   16   19   21     5    False  \n",
       "\n",
       "[5 rows x 26 columns]"
      ]
     },
     "execution_count": 62,
     "metadata": {},
     "output_type": "execute_result"
    }
   ],
   "source": [
    "# 가장 많이 대여된 자전거의 대여이력\n",
    "most_bike_df = df.loc[df['자전거번호'] == bike_describe[2]]\n",
    "most_bike_df.head()"
   ]
  },
  {
   "cell_type": "code",
   "execution_count": 63,
   "metadata": {},
   "outputs": [
    {
     "data": {
      "text/plain": [
       " 황금내근린공원            57\n",
       " 신림1교 교차로            4\n",
       " 서울시립대 정문 앞          4\n",
       " 서울신성초등학교            3\n",
       " 성수역3번출구             2\n",
       " 베르가모앞               2\n",
       " 서울대입구역 5번출구         2\n",
       " 광진광장 교통섬            2\n",
       " 안암로터리 버스정류장 앞       2\n",
       " 가좌역 4번출구 앞          2\n",
       " 산업은행 앞              2\n",
       " 합정역 7번출구 앞          2\n",
       " 정릉현대힐스테이트 1차 후문     1\n",
       " 종각역 5번출구            1\n",
       " 종로구청 옆              1\n",
       " 삼각산동 주민센터           1\n",
       " 세운스퀘어 앞             1\n",
       " 동원사거리               1\n",
       " 동대문역 8번 출구          1\n",
       " 북가좌1동 주민센터          1\n",
       " 청량리 기업은행 앞          1\n",
       " 봉림교 교통섬             1\n",
       " 영동대교 북단             1\n",
       " 청계8가 사거리            1\n",
       " 가리봉동주민센터            1\n",
       " 신림역 5번출구            1\n",
       " 포르투갈 대사관 앞          1\n",
       " 맥스타일 앞              1\n",
       " 서빙고동 주민센터 앞         1\n",
       " (구)합정동 주민센터         1\n",
       "                    ..\n",
       " 옥수역 3번출구            1\n",
       " 청와대앞길               1\n",
       " 돈암성당 옆              1\n",
       " 대림역 1번 출입구 밑        1\n",
       " 상명대입구               1\n",
       " 북성초교                1\n",
       " 신림동걷고싶은문화의거리입구      1\n",
       " 성수아카데미타워 앞          1\n",
       " 삼부르네상스파크빌           1\n",
       " 용답역 1번 출구           1\n",
       " 마포역 1번출구 뒤          1\n",
       " 홈플러스 면목동점           1\n",
       " 광흥창역 2번출구 앞         1\n",
       " 종로3가역 2번출구 뒤        1\n",
       " 도선동 주민센터 앞          1\n",
       " 신촌역(2호선) 7번출구 앞     1\n",
       " KB국민은행 염창역 지점 앞     1\n",
       " 사루비아 빌딩 앞           1\n",
       " 대림역4번출구             1\n",
       " 군자역 7번출구뒤           1\n",
       " 어린이대공원역6번출구         1\n",
       " 돈암초교 입구             1\n",
       " 가산동 주민센터            1\n",
       " 서강대 정문 건너편          1\n",
       " 군자지하보도 앞            1\n",
       " 광진메디칼 앞             1\n",
       " 대방역6번출구             1\n",
       " 청계천 생태교실 앞          1\n",
       " 충정로역 7번출구 뒤         1\n",
       " 신설동역 10번출구 앞        1\n",
       "Name: 대여대여소명, Length: 67, dtype: int64"
      ]
     },
     "execution_count": 63,
     "metadata": {},
     "output_type": "execute_result"
    }
   ],
   "source": [
    "most_bike_df['대여대여소명'].value_counts()"
   ]
  },
  {
   "cell_type": "code",
   "execution_count": 64,
   "metadata": {},
   "outputs": [
    {
     "data": {
      "text/plain": [
       "array([' 신림1교 교차로', ' 대림역 1번 출입구 밑', ' 서울대입구역 5번출구', ' 봉림교 교통섬',\n",
       "       ' 서울신성초등학교', ' 구로디지털단지역 앞', ' 대림역4번출구', ' 삼부르네상스파크빌', ' 가산동 주민센터',\n",
       "       ' 가리봉동주민센터', ' 신림역 5번출구', ' 신림동걷고싶은문화의거리입구', ' 대방역6번출구', ' 산업은행 앞',\n",
       "       ' IFC몰', ' 황금내근린공원', ' 서빙고동 주민센터 앞', ' 북가좌1동 주민센터 ', ' 가좌역 4번출구 앞',\n",
       "       ' 상명대입구', ' 청와대앞길', ' 종로구청 옆', ' 삼각산동 주민센터', ' 정릉현대힐스테이트 1차 후문',\n",
       "       ' 돈암초교 입구', ' 동성중학교 앞', ' 돈암성당 옆', ' 맥스타일 앞', ' 포르투갈 대사관 앞',\n",
       "       ' 종로3가역 2번출구 뒤', ' 청계8가 사거리', ' 안암로터리 버스정류장 앞', ' 서울시립대 정문 앞',\n",
       "       ' 청량리 기업은행 앞', ' 용답역 1번 출구', ' 옥수역 3번출구', ' 청계천 생태교실 앞', ' 베르가모앞',\n",
       "       ' 합정역 7번출구 앞', ' (구)합정동 주민센터', ' 마포구민체육센터 앞', ' 사루비아 빌딩 앞',\n",
       "       ' KB국민은행 염창역 지점 앞', ' 마포역 1번출구 뒤', ' 신촌역(2호선) 7번출구 앞',\n",
       "       ' 광흥창역 2번출구 앞', ' 서강대 정문 건너편', ' 북성초교', ' 충정로역 7번출구 뒤',\n",
       "       ' 종각역 5번출구', ' 세운스퀘어 앞', ' 동대문역 8번 출구', ' 신설동역 10번출구 앞',\n",
       "       ' 도선동 주민센터 앞', ' 신설동역8번출구', ' 영동대교 북단', ' 성수역3번출구',\n",
       "       ' 성수2가1동 공영주차장 인근', ' 광진광장 교통섬', ' 광진메디칼 앞', ' 어린이대공원역6번출구',\n",
       "       ' 동원사거리', ' 세종사이버대학교', ' 군자역 7번출구뒤', ' 군자지하보도 앞', ' 성수아카데미타워 앞',\n",
       "       ' 홈플러스 면목동점'], dtype=object)"
      ]
     },
     "execution_count": 64,
     "metadata": {},
     "output_type": "execute_result"
    }
   ],
   "source": [
    "rent_station = most_bike_df['대여대여소명'].unique()\n",
    "rent_station"
   ]
  },
  {
   "cell_type": "code",
   "execution_count": 65,
   "metadata": {},
   "outputs": [
    {
     "data": {
      "text/plain": [
       "['신림1교 교차로',\n",
       " '대림역 1번 출입구 밑',\n",
       " '서울대입구역 5번출구',\n",
       " '봉림교 교통섬',\n",
       " '서울신성초등학교',\n",
       " '구로디지털단지역 앞',\n",
       " '대림역4번출구',\n",
       " '삼부르네상스파크빌',\n",
       " '가산동 주민센터',\n",
       " '가리봉동주민센터',\n",
       " '신림역 5번출구',\n",
       " '신림동걷고싶은문화의거리입구',\n",
       " '대방역6번출구',\n",
       " '산업은행 앞',\n",
       " 'IFC몰',\n",
       " '황금내근린공원',\n",
       " '서빙고동 주민센터 앞',\n",
       " '북가좌1동 주민센터',\n",
       " '가좌역 4번출구 앞',\n",
       " '상명대입구',\n",
       " '청와대앞길',\n",
       " '종로구청 옆',\n",
       " '삼각산동 주민센터',\n",
       " '정릉현대힐스테이트 1차 후문',\n",
       " '돈암초교 입구',\n",
       " '동성중학교 앞',\n",
       " '돈암성당 옆',\n",
       " '맥스타일 앞',\n",
       " '포르투갈 대사관 앞',\n",
       " '종로3가역 2번출구 뒤',\n",
       " '청계8가 사거리',\n",
       " '안암로터리 버스정류장 앞',\n",
       " '서울시립대 정문 앞',\n",
       " '청량리 기업은행 앞',\n",
       " '용답역 1번 출구',\n",
       " '옥수역 3번출구',\n",
       " '청계천 생태교실 앞',\n",
       " '베르가모앞',\n",
       " '합정역 7번출구 앞',\n",
       " '(구)합정동 주민센터',\n",
       " '마포구민체육센터 앞',\n",
       " '사루비아 빌딩 앞',\n",
       " 'KB국민은행 염창역 지점 앞',\n",
       " '마포역 1번출구 뒤',\n",
       " '신촌역(2호선) 7번출구 앞',\n",
       " '광흥창역 2번출구 앞',\n",
       " '서강대 정문 건너편',\n",
       " '북성초교',\n",
       " '충정로역 7번출구 뒤',\n",
       " '종각역 5번출구',\n",
       " '세운스퀘어 앞',\n",
       " '동대문역 8번 출구',\n",
       " '신설동역 10번출구 앞',\n",
       " '도선동 주민센터 앞',\n",
       " '신설동역8번출구',\n",
       " '영동대교 북단',\n",
       " '성수역3번출구',\n",
       " '성수2가1동 공영주차장 인근',\n",
       " '광진광장 교통섬',\n",
       " '광진메디칼 앞',\n",
       " '어린이대공원역6번출구',\n",
       " '동원사거리',\n",
       " '세종사이버대학교',\n",
       " '군자역 7번출구뒤',\n",
       " '군자지하보도 앞',\n",
       " '성수아카데미타워 앞',\n",
       " '홈플러스 면목동점']"
      ]
     },
     "execution_count": 65,
     "metadata": {},
     "output_type": "execute_result"
    }
   ],
   "source": [
    "# 대여소명 앞에 들어간 공백을 제거합니다.\n",
    "bike_move = []\n",
    "for s in rent_station:\n",
    "    bike_move.append(s.strip())\n",
    "    \n",
    "bike_move    "
   ]
  },
  {
   "cell_type": "code",
   "execution_count": 66,
   "metadata": {},
   "outputs": [
    {
     "data": {
      "text/plain": [
       "(1461, 5)"
      ]
     },
     "execution_count": 66,
     "metadata": {},
     "output_type": "execute_result"
    }
   ],
   "source": [
    "stations = pd.read_csv('data/bike_rent_station.csv')\n",
    "stations.shape"
   ]
  },
  {
   "cell_type": "code",
   "execution_count": 67,
   "metadata": {},
   "outputs": [
    {
     "name": "stdout",
     "output_type": "stream",
     "text": [
      "(67, 1)\n"
     ]
    },
    {
     "data": {
      "text/html": [
       "<div>\n",
       "<style scoped>\n",
       "    .dataframe tbody tr th:only-of-type {\n",
       "        vertical-align: middle;\n",
       "    }\n",
       "\n",
       "    .dataframe tbody tr th {\n",
       "        vertical-align: top;\n",
       "    }\n",
       "\n",
       "    .dataframe thead th {\n",
       "        text-align: right;\n",
       "    }\n",
       "</style>\n",
       "<table border=\"1\" class=\"dataframe\">\n",
       "  <thead>\n",
       "    <tr style=\"text-align: right;\">\n",
       "      <th></th>\n",
       "      <th>대여소</th>\n",
       "    </tr>\n",
       "  </thead>\n",
       "  <tbody>\n",
       "    <tr>\n",
       "      <th>0</th>\n",
       "      <td>신림1교 교차로</td>\n",
       "    </tr>\n",
       "    <tr>\n",
       "      <th>1</th>\n",
       "      <td>대림역 1번 출입구 밑</td>\n",
       "    </tr>\n",
       "    <tr>\n",
       "      <th>2</th>\n",
       "      <td>서울대입구역 5번출구</td>\n",
       "    </tr>\n",
       "    <tr>\n",
       "      <th>3</th>\n",
       "      <td>봉림교 교통섬</td>\n",
       "    </tr>\n",
       "    <tr>\n",
       "      <th>4</th>\n",
       "      <td>서울신성초등학교</td>\n",
       "    </tr>\n",
       "  </tbody>\n",
       "</table>\n",
       "</div>"
      ],
      "text/plain": [
       "            대여소\n",
       "0      신림1교 교차로\n",
       "1  대림역 1번 출입구 밑\n",
       "2   서울대입구역 5번출구\n",
       "3       봉림교 교통섬\n",
       "4      서울신성초등학교"
      ]
     },
     "execution_count": 67,
     "metadata": {},
     "output_type": "execute_result"
    }
   ],
   "source": [
    "bike_move_df = pd.DataFrame(bike_move)\n",
    "bike_move_df.columns = ['대여소']\n",
    "print(bike_move_df.shape)\n",
    "bike_move_df.head()"
   ]
  },
  {
   "cell_type": "code",
   "execution_count": 68,
   "metadata": {},
   "outputs": [
    {
     "data": {
      "text/plain": [
       "(67, 5)"
      ]
     },
     "execution_count": 68,
     "metadata": {},
     "output_type": "execute_result"
    }
   ],
   "source": [
    "bike_move_df = bike_move_df.merge(stations, left_on='대여소', right_on='대여소', how='left')\n",
    "bike_move_df.shape"
   ]
  },
  {
   "cell_type": "code",
   "execution_count": 69,
   "metadata": {},
   "outputs": [
    {
     "data": {
      "text/html": [
       "<div>\n",
       "<style scoped>\n",
       "    .dataframe tbody tr th:only-of-type {\n",
       "        vertical-align: middle;\n",
       "    }\n",
       "\n",
       "    .dataframe tbody tr th {\n",
       "        vertical-align: top;\n",
       "    }\n",
       "\n",
       "    .dataframe thead th {\n",
       "        text-align: right;\n",
       "    }\n",
       "</style>\n",
       "<table border=\"1\" class=\"dataframe\">\n",
       "  <thead>\n",
       "    <tr style=\"text-align: right;\">\n",
       "      <th></th>\n",
       "      <th>대여소</th>\n",
       "      <th>상태</th>\n",
       "      <th>주소</th>\n",
       "      <th>위도</th>\n",
       "      <th>경도</th>\n",
       "    </tr>\n",
       "  </thead>\n",
       "  <tbody>\n",
       "    <tr>\n",
       "      <th>0</th>\n",
       "      <td>신림1교 교차로</td>\n",
       "      <td>운영중</td>\n",
       "      <td>서울특별시 관악구 신림로 270 관악구 신림동 808-263</td>\n",
       "      <td>37.478428</td>\n",
       "      <td>126.931862</td>\n",
       "    </tr>\n",
       "    <tr>\n",
       "      <th>1</th>\n",
       "      <td>대림역 1번 출입구 밑</td>\n",
       "      <td>NaN</td>\n",
       "      <td>NaN</td>\n",
       "      <td>NaN</td>\n",
       "      <td>NaN</td>\n",
       "    </tr>\n",
       "    <tr>\n",
       "      <th>2</th>\n",
       "      <td>서울대입구역 5번출구</td>\n",
       "      <td>운영중</td>\n",
       "      <td>서울특별시 관악구 남부순환로 1817 서울대입구역 5번출구</td>\n",
       "      <td>37.481548</td>\n",
       "      <td>126.952003</td>\n",
       "    </tr>\n",
       "    <tr>\n",
       "      <th>3</th>\n",
       "      <td>봉림교 교통섬</td>\n",
       "      <td>운영중</td>\n",
       "      <td>서울특별시 관악구 관천로 52 관악구 신림동 1433-150</td>\n",
       "      <td>37.484230</td>\n",
       "      <td>126.926392</td>\n",
       "    </tr>\n",
       "    <tr>\n",
       "      <th>4</th>\n",
       "      <td>서울신성초등학교</td>\n",
       "      <td>운영중</td>\n",
       "      <td>서울특별시 관악구 신림로 114 서울신성초등학교</td>\n",
       "      <td>37.471165</td>\n",
       "      <td>126.937019</td>\n",
       "    </tr>\n",
       "  </tbody>\n",
       "</table>\n",
       "</div>"
      ],
      "text/plain": [
       "            대여소   상태                                 주소         위도          경도\n",
       "0      신림1교 교차로  운영중  서울특별시 관악구 신림로 270 관악구 신림동 808-263  37.478428  126.931862\n",
       "1  대림역 1번 출입구 밑  NaN                                NaN        NaN         NaN\n",
       "2   서울대입구역 5번출구  운영중   서울특별시 관악구 남부순환로 1817 서울대입구역 5번출구  37.481548  126.952003\n",
       "3       봉림교 교통섬  운영중  서울특별시 관악구 관천로 52 관악구 신림동 1433-150  37.484230  126.926392\n",
       "4      서울신성초등학교  운영중         서울특별시 관악구 신림로 114 서울신성초등학교  37.471165  126.937019"
      ]
     },
     "execution_count": 69,
     "metadata": {},
     "output_type": "execute_result"
    }
   ],
   "source": [
    "bike_move_df.head()"
   ]
  },
  {
   "cell_type": "code",
   "execution_count": 70,
   "metadata": {},
   "outputs": [
    {
     "data": {
      "text/plain": [
       "대여소    0\n",
       "상태     5\n",
       "주소     5\n",
       "위도     5\n",
       "경도     5\n",
       "dtype: int64"
      ]
     },
     "execution_count": 70,
     "metadata": {},
     "output_type": "execute_result"
    }
   ],
   "source": [
    "bike_move_df.isnull().sum()"
   ]
  },
  {
   "cell_type": "markdown",
   "metadata": {},
   "source": [
    "## 가장 많이 대여된 자전거가 거쳐간 대여소"
   ]
  },
  {
   "cell_type": "code",
   "execution_count": 71,
   "metadata": {},
   "outputs": [
    {
     "data": {
      "text/html": [
       "<div>\n",
       "<style scoped>\n",
       "    .dataframe tbody tr th:only-of-type {\n",
       "        vertical-align: middle;\n",
       "    }\n",
       "\n",
       "    .dataframe tbody tr th {\n",
       "        vertical-align: top;\n",
       "    }\n",
       "\n",
       "    .dataframe thead th {\n",
       "        text-align: right;\n",
       "    }\n",
       "</style>\n",
       "<table border=\"1\" class=\"dataframe\">\n",
       "  <thead>\n",
       "    <tr style=\"text-align: right;\">\n",
       "      <th></th>\n",
       "      <th>대여소</th>\n",
       "      <th>상태</th>\n",
       "      <th>주소</th>\n",
       "      <th>위도</th>\n",
       "      <th>경도</th>\n",
       "    </tr>\n",
       "  </thead>\n",
       "  <tbody>\n",
       "    <tr>\n",
       "      <th>1</th>\n",
       "      <td>대림역 1번 출입구 밑</td>\n",
       "      <td>NaN</td>\n",
       "      <td>NaN</td>\n",
       "      <td>NaN</td>\n",
       "      <td>NaN</td>\n",
       "    </tr>\n",
       "    <tr>\n",
       "      <th>23</th>\n",
       "      <td>정릉현대힐스테이트 1차 후문</td>\n",
       "      <td>NaN</td>\n",
       "      <td>NaN</td>\n",
       "      <td>NaN</td>\n",
       "      <td>NaN</td>\n",
       "    </tr>\n",
       "    <tr>\n",
       "      <th>43</th>\n",
       "      <td>마포역 1번출구 뒤</td>\n",
       "      <td>NaN</td>\n",
       "      <td>NaN</td>\n",
       "      <td>NaN</td>\n",
       "      <td>NaN</td>\n",
       "    </tr>\n",
       "    <tr>\n",
       "      <th>48</th>\n",
       "      <td>충정로역 7번출구 뒤</td>\n",
       "      <td>NaN</td>\n",
       "      <td>NaN</td>\n",
       "      <td>NaN</td>\n",
       "      <td>NaN</td>\n",
       "    </tr>\n",
       "    <tr>\n",
       "      <th>63</th>\n",
       "      <td>군자역 7번출구뒤</td>\n",
       "      <td>NaN</td>\n",
       "      <td>NaN</td>\n",
       "      <td>NaN</td>\n",
       "      <td>NaN</td>\n",
       "    </tr>\n",
       "  </tbody>\n",
       "</table>\n",
       "</div>"
      ],
      "text/plain": [
       "                대여소   상태   주소  위도  경도\n",
       "1      대림역 1번 출입구 밑  NaN  NaN NaN NaN\n",
       "23  정릉현대힐스테이트 1차 후문  NaN  NaN NaN NaN\n",
       "43       마포역 1번출구 뒤  NaN  NaN NaN NaN\n",
       "48      충정로역 7번출구 뒤  NaN  NaN NaN NaN\n",
       "63        군자역 7번출구뒤  NaN  NaN NaN NaN"
      ]
     },
     "execution_count": 71,
     "metadata": {},
     "output_type": "execute_result"
    }
   ],
   "source": [
    "# 정보가 없는 대여소\n",
    "bike_move_df.loc[bike_move_df['경도'].isnull()]"
   ]
  },
  {
   "cell_type": "code",
   "execution_count": 72,
   "metadata": {},
   "outputs": [
    {
     "data": {
      "text/html": [
       "<div style=\"width:100%;\"><div style=\"position:relative;width:100%;height:0;padding-bottom:60%;\"><iframe src=\"data:text/html;charset=utf-8;base64,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\" style=\"position:absolute;width:100%;height:100%;left:0;top:0;border:none !important;\" allowfullscreen webkitallowfullscreen mozallowfullscreen></iframe></div></div>"
      ],
      "text/plain": [
       "<folium.folium.Map at 0x12893e9e8>"
      ]
     },
     "execution_count": 72,
     "metadata": {},
     "output_type": "execute_result"
    }
   ],
   "source": [
    "# 지도 표현을 위해 folium 을 import 한다.\n",
    "# 데이터 프레임에서 위도와 경도의 평균값을 구한다. 이 값으로 지도의 중심이 될 좌표를 정한다.\n",
    "# zoom_start는 지도를 얼마나 확대해서 볼것인지다.\n",
    "# tiles는 지도의 스타일이다.\n",
    "import folium \n",
    "\n",
    "geo_df = bike_move_df\n",
    "map = folium.Map(location=[geo_df['위도'].mean(), geo_df['경도'].mean()], zoom_start=12, tiles='Stamen Toner')\n",
    "\n",
    "for n in geo_df.index:\n",
    "    if geo_df.loc[n, '위도'] > 0 and geo_df.loc[n, '경도'] > 0 :\n",
    "        loc_name = geo_df.loc[n, '대여소']\n",
    "\n",
    "        icon_color = 'red'\n",
    "        folium.Circle(\n",
    "            location=[geo_df.loc[n, '위도'], geo_df.loc[n, '경도']],\n",
    "            popup=loc_name,\n",
    "            radius=50,\n",
    "            color=icon_color,\n",
    "            fill=True,\n",
    "            fill_color=icon_color\n",
    "        ).add_to(map)\n",
    "    \n",
    "map"
   ]
  },
  {
   "cell_type": "code",
   "execution_count": null,
   "metadata": {},
   "outputs": [],
   "source": []
  }
 ],
 "metadata": {
  "kernelspec": {
   "display_name": "Python 3",
   "language": "python",
   "name": "python3"
  },
  "language_info": {
   "codemirror_mode": {
    "name": "ipython",
    "version": 3
   },
   "file_extension": ".py",
   "mimetype": "text/x-python",
   "name": "python",
   "nbconvert_exporter": "python",
   "pygments_lexer": "ipython3",
   "version": "3.6.1"
  }
 },
 "nbformat": 4,
 "nbformat_minor": 2
}
