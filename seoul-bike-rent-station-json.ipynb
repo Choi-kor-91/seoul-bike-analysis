{
 "cells": [
  {
   "cell_type": "markdown",
   "metadata": {},
   "source": [
    "## 따릉이 대여소 크롤링\n",
    "* https://www.bikeseoul.com:447/app/location/moveRealtimeStatus.do\n",
    "* https://www.bikeseoul.com/app/station/moveStationRealtimeStatus.do"
   ]
  },
  {
   "cell_type": "code",
   "execution_count": 1,
   "metadata": {},
   "outputs": [],
   "source": [
    "import requests\n",
    "import pandas as pd"
   ]
  },
  {
   "cell_type": "code",
   "execution_count": 2,
   "metadata": {},
   "outputs": [],
   "source": [
    "url = \"https://www.bikeseoul.com:447/app/location/getRealtimeStatus.do\""
   ]
  },
  {
   "cell_type": "code",
   "execution_count": 3,
   "metadata": {},
   "outputs": [],
   "source": [
    "response = requests.post(url)"
   ]
  },
  {
   "cell_type": "code",
   "execution_count": 4,
   "metadata": {},
   "outputs": [
    {
     "data": {
      "text/plain": [
       "[{'stationImgFileName': '',\n",
       "  'stationId': 'ST-485',\n",
       "  'stationName': '1001. 광진교 남단 사거리(디지털프라자앞)',\n",
       "  'searchType': None,\n",
       "  'stationUseYn': 'Y',\n",
       "  'stationLongitude': '127.12474823',\n",
       "  'stationLatitude': '37.54179382',\n",
       "  'rackTotCnt': '17',\n",
       "  'parkingBikeTotCnt': '4',\n",
       "  'shared': '24',\n",
       "  'rackUsableCnt': None,\n",
       "  'lang': 'LAG_001',\n",
       "  'appOsType': None},\n",
       " {'stationImgFileName': '',\n",
       "  'stationId': 'ST-486',\n",
       "  'stationName': '1002. 해공공원(천호동)',\n",
       "  'searchType': None,\n",
       "  'stationUseYn': 'Y',\n",
       "  'stationLongitude': '127.12594604',\n",
       "  'stationLatitude': '37.54526138',\n",
       "  'rackTotCnt': '12',\n",
       "  'parkingBikeTotCnt': '6',\n",
       "  'shared': '50',\n",
       "  'rackUsableCnt': None,\n",
       "  'lang': 'LAG_001',\n",
       "  'appOsType': None}]"
      ]
     },
     "execution_count": 4,
     "metadata": {},
     "output_type": "execute_result"
    }
   ],
   "source": [
    "import json\n",
    "data = json.loads(response.text)\n",
    "data[\"realtimeList\"][:2]"
   ]
  },
  {
   "cell_type": "code",
   "execution_count": 5,
   "metadata": {},
   "outputs": [
    {
     "data": {
      "text/plain": [
       "(2038, 13)"
      ]
     },
     "execution_count": 5,
     "metadata": {},
     "output_type": "execute_result"
    }
   ],
   "source": [
    "df = pd.DataFrame(data[\"realtimeList\"])\n",
    "df.shape"
   ]
  },
  {
   "cell_type": "code",
   "execution_count": 6,
   "metadata": {},
   "outputs": [
    {
     "data": {
      "text/html": [
       "<div>\n",
       "<style scoped>\n",
       "    .dataframe tbody tr th:only-of-type {\n",
       "        vertical-align: middle;\n",
       "    }\n",
       "\n",
       "    .dataframe tbody tr th {\n",
       "        vertical-align: top;\n",
       "    }\n",
       "\n",
       "    .dataframe thead th {\n",
       "        text-align: right;\n",
       "    }\n",
       "</style>\n",
       "<table border=\"1\" class=\"dataframe\">\n",
       "  <thead>\n",
       "    <tr style=\"text-align: right;\">\n",
       "      <th></th>\n",
       "      <th>stationImgFileName</th>\n",
       "      <th>stationId</th>\n",
       "      <th>stationName</th>\n",
       "      <th>searchType</th>\n",
       "      <th>stationUseYn</th>\n",
       "      <th>stationLongitude</th>\n",
       "      <th>stationLatitude</th>\n",
       "      <th>rackTotCnt</th>\n",
       "      <th>parkingBikeTotCnt</th>\n",
       "      <th>shared</th>\n",
       "      <th>rackUsableCnt</th>\n",
       "      <th>lang</th>\n",
       "      <th>appOsType</th>\n",
       "    </tr>\n",
       "  </thead>\n",
       "  <tbody>\n",
       "    <tr>\n",
       "      <th>0</th>\n",
       "      <td></td>\n",
       "      <td>ST-485</td>\n",
       "      <td>1001. 광진교 남단 사거리(디지털프라자앞)</td>\n",
       "      <td>None</td>\n",
       "      <td>Y</td>\n",
       "      <td>127.12474823</td>\n",
       "      <td>37.54179382</td>\n",
       "      <td>17</td>\n",
       "      <td>4</td>\n",
       "      <td>24</td>\n",
       "      <td>None</td>\n",
       "      <td>LAG_001</td>\n",
       "      <td>None</td>\n",
       "    </tr>\n",
       "    <tr>\n",
       "      <th>1</th>\n",
       "      <td></td>\n",
       "      <td>ST-486</td>\n",
       "      <td>1002. 해공공원(천호동)</td>\n",
       "      <td>None</td>\n",
       "      <td>Y</td>\n",
       "      <td>127.12594604</td>\n",
       "      <td>37.54526138</td>\n",
       "      <td>12</td>\n",
       "      <td>6</td>\n",
       "      <td>50</td>\n",
       "      <td>None</td>\n",
       "      <td>LAG_001</td>\n",
       "      <td>None</td>\n",
       "    </tr>\n",
       "    <tr>\n",
       "      <th>2</th>\n",
       "      <td></td>\n",
       "      <td>ST-487</td>\n",
       "      <td>1003. 해공도서관앞</td>\n",
       "      <td>None</td>\n",
       "      <td>Y</td>\n",
       "      <td>127.12548828</td>\n",
       "      <td>37.54395676</td>\n",
       "      <td>22</td>\n",
       "      <td>3</td>\n",
       "      <td>14</td>\n",
       "      <td>None</td>\n",
       "      <td>LAG_001</td>\n",
       "      <td>None</td>\n",
       "    </tr>\n",
       "    <tr>\n",
       "      <th>3</th>\n",
       "      <td></td>\n",
       "      <td>ST-488</td>\n",
       "      <td>1004. 삼성광나루아파트 버스정류장</td>\n",
       "      <td>None</td>\n",
       "      <td>Y</td>\n",
       "      <td>127.12886810</td>\n",
       "      <td>37.55332947</td>\n",
       "      <td>12</td>\n",
       "      <td>10</td>\n",
       "      <td>83</td>\n",
       "      <td>None</td>\n",
       "      <td>LAG_001</td>\n",
       "      <td>None</td>\n",
       "    </tr>\n",
       "    <tr>\n",
       "      <th>4</th>\n",
       "      <td></td>\n",
       "      <td>ST-490</td>\n",
       "      <td>1006. 롯데캐슬 115동앞</td>\n",
       "      <td>None</td>\n",
       "      <td>Y</td>\n",
       "      <td>127.14279938</td>\n",
       "      <td>37.55486679</td>\n",
       "      <td>17</td>\n",
       "      <td>0</td>\n",
       "      <td>0</td>\n",
       "      <td>None</td>\n",
       "      <td>LAG_001</td>\n",
       "      <td>None</td>\n",
       "    </tr>\n",
       "  </tbody>\n",
       "</table>\n",
       "</div>"
      ],
      "text/plain": [
       "  stationImgFileName stationId                stationName searchType  \\\n",
       "0                       ST-485  1001. 광진교 남단 사거리(디지털프라자앞)       None   \n",
       "1                       ST-486            1002. 해공공원(천호동)       None   \n",
       "2                       ST-487               1003. 해공도서관앞       None   \n",
       "3                       ST-488       1004. 삼성광나루아파트 버스정류장       None   \n",
       "4                       ST-490           1006. 롯데캐슬 115동앞       None   \n",
       "\n",
       "  stationUseYn stationLongitude stationLatitude rackTotCnt parkingBikeTotCnt  \\\n",
       "0            Y     127.12474823     37.54179382         17                 4   \n",
       "1            Y     127.12594604     37.54526138         12                 6   \n",
       "2            Y     127.12548828     37.54395676         22                 3   \n",
       "3            Y     127.12886810     37.55332947         12                10   \n",
       "4            Y     127.14279938     37.55486679         17                 0   \n",
       "\n",
       "  shared rackUsableCnt     lang appOsType  \n",
       "0     24          None  LAG_001      None  \n",
       "1     50          None  LAG_001      None  \n",
       "2     14          None  LAG_001      None  \n",
       "3     83          None  LAG_001      None  \n",
       "4      0          None  LAG_001      None  "
      ]
     },
     "execution_count": 6,
     "metadata": {},
     "output_type": "execute_result"
    }
   ],
   "source": [
    "df.head()"
   ]
  },
  {
   "cell_type": "code",
   "execution_count": 7,
   "metadata": {},
   "outputs": [],
   "source": [
    "df.to_csv(\"data/realtime_rent_station.csv\", index = False)"
   ]
  },
  {
   "cell_type": "code",
   "execution_count": 8,
   "metadata": {},
   "outputs": [
    {
     "data": {
      "text/html": [
       "<div>\n",
       "<style scoped>\n",
       "    .dataframe tbody tr th:only-of-type {\n",
       "        vertical-align: middle;\n",
       "    }\n",
       "\n",
       "    .dataframe tbody tr th {\n",
       "        vertical-align: top;\n",
       "    }\n",
       "\n",
       "    .dataframe thead th {\n",
       "        text-align: right;\n",
       "    }\n",
       "</style>\n",
       "<table border=\"1\" class=\"dataframe\">\n",
       "  <thead>\n",
       "    <tr style=\"text-align: right;\">\n",
       "      <th></th>\n",
       "      <th>stationImgFileName</th>\n",
       "      <th>stationId</th>\n",
       "      <th>stationName</th>\n",
       "      <th>searchType</th>\n",
       "      <th>stationUseYn</th>\n",
       "      <th>stationLongitude</th>\n",
       "      <th>stationLatitude</th>\n",
       "      <th>rackTotCnt</th>\n",
       "      <th>parkingBikeTotCnt</th>\n",
       "      <th>shared</th>\n",
       "      <th>rackUsableCnt</th>\n",
       "      <th>lang</th>\n",
       "      <th>appOsType</th>\n",
       "    </tr>\n",
       "  </thead>\n",
       "  <tbody>\n",
       "    <tr>\n",
       "      <th>2033</th>\n",
       "      <td>NaN</td>\n",
       "      <td>ST-2262</td>\n",
       "      <td>994.북한산생태공원입구(교통섬)</td>\n",
       "      <td>NaN</td>\n",
       "      <td>Y</td>\n",
       "      <td>126.938538</td>\n",
       "      <td>37.610508</td>\n",
       "      <td>2</td>\n",
       "      <td>0</td>\n",
       "      <td>0</td>\n",
       "      <td>NaN</td>\n",
       "      <td>LAG_001</td>\n",
       "      <td>NaN</td>\n",
       "    </tr>\n",
       "    <tr>\n",
       "      <th>2034</th>\n",
       "      <td>NaN</td>\n",
       "      <td>ST-2263</td>\n",
       "      <td>995.은평다목적체육관</td>\n",
       "      <td>NaN</td>\n",
       "      <td>Y</td>\n",
       "      <td>126.925407</td>\n",
       "      <td>37.631409</td>\n",
       "      <td>2</td>\n",
       "      <td>3</td>\n",
       "      <td>150</td>\n",
       "      <td>NaN</td>\n",
       "      <td>LAG_001</td>\n",
       "      <td>NaN</td>\n",
       "    </tr>\n",
       "    <tr>\n",
       "      <th>2035</th>\n",
       "      <td>NaN</td>\n",
       "      <td>ST-2264</td>\n",
       "      <td>996.응암역 1번출구</td>\n",
       "      <td>NaN</td>\n",
       "      <td>Y</td>\n",
       "      <td>126.915405</td>\n",
       "      <td>37.598606</td>\n",
       "      <td>2</td>\n",
       "      <td>13</td>\n",
       "      <td>650</td>\n",
       "      <td>NaN</td>\n",
       "      <td>LAG_001</td>\n",
       "      <td>NaN</td>\n",
       "    </tr>\n",
       "    <tr>\n",
       "      <th>2036</th>\n",
       "      <td>NaN</td>\n",
       "      <td>ST-1738</td>\n",
       "      <td>9996. 시설2</td>\n",
       "      <td>NaN</td>\n",
       "      <td>Y</td>\n",
       "      <td>0.000000</td>\n",
       "      <td>0.000000</td>\n",
       "      <td>2</td>\n",
       "      <td>0</td>\n",
       "      <td>0</td>\n",
       "      <td>NaN</td>\n",
       "      <td>LAG_001</td>\n",
       "      <td>NaN</td>\n",
       "    </tr>\n",
       "    <tr>\n",
       "      <th>2037</th>\n",
       "      <td>NaN</td>\n",
       "      <td>ST-598</td>\n",
       "      <td>위트콤공장</td>\n",
       "      <td>NaN</td>\n",
       "      <td>Y</td>\n",
       "      <td>0.000000</td>\n",
       "      <td>0.000000</td>\n",
       "      <td>68</td>\n",
       "      <td>0</td>\n",
       "      <td>0</td>\n",
       "      <td>NaN</td>\n",
       "      <td>LAG_001</td>\n",
       "      <td>NaN</td>\n",
       "    </tr>\n",
       "  </tbody>\n",
       "</table>\n",
       "</div>"
      ],
      "text/plain": [
       "      stationImgFileName stationId         stationName  searchType  \\\n",
       "2033                 NaN   ST-2262  994.북한산생태공원입구(교통섬)         NaN   \n",
       "2034                 NaN   ST-2263        995.은평다목적체육관         NaN   \n",
       "2035                 NaN   ST-2264        996.응암역 1번출구         NaN   \n",
       "2036                 NaN   ST-1738           9996. 시설2         NaN   \n",
       "2037                 NaN    ST-598               위트콤공장         NaN   \n",
       "\n",
       "     stationUseYn  stationLongitude  stationLatitude  rackTotCnt  \\\n",
       "2033            Y        126.938538        37.610508           2   \n",
       "2034            Y        126.925407        37.631409           2   \n",
       "2035            Y        126.915405        37.598606           2   \n",
       "2036            Y          0.000000         0.000000           2   \n",
       "2037            Y          0.000000         0.000000          68   \n",
       "\n",
       "      parkingBikeTotCnt  shared  rackUsableCnt     lang  appOsType  \n",
       "2033                  0       0            NaN  LAG_001        NaN  \n",
       "2034                  3     150            NaN  LAG_001        NaN  \n",
       "2035                 13     650            NaN  LAG_001        NaN  \n",
       "2036                  0       0            NaN  LAG_001        NaN  \n",
       "2037                  0       0            NaN  LAG_001        NaN  "
      ]
     },
     "execution_count": 8,
     "metadata": {},
     "output_type": "execute_result"
    }
   ],
   "source": [
    "pd.read_csv(\"data/realtime_rent_station.csv\").tail()"
   ]
  },
  {
   "cell_type": "code",
   "execution_count": null,
   "metadata": {},
   "outputs": [],
   "source": []
  }
 ],
 "metadata": {
  "kernelspec": {
   "display_name": "Python 3",
   "language": "python",
   "name": "python3"
  },
  "language_info": {
   "codemirror_mode": {
    "name": "ipython",
    "version": 3
   },
   "file_extension": ".py",
   "mimetype": "text/x-python",
   "name": "python",
   "nbconvert_exporter": "python",
   "pygments_lexer": "ipython3",
   "version": "3.7.6"
  },
  "varInspector": {
   "cols": {
    "lenName": 16,
    "lenType": 16,
    "lenVar": 40
   },
   "kernels_config": {
    "python": {
     "delete_cmd_postfix": "",
     "delete_cmd_prefix": "del ",
     "library": "var_list.py",
     "varRefreshCmd": "print(var_dic_list())"
    },
    "r": {
     "delete_cmd_postfix": ") ",
     "delete_cmd_prefix": "rm(",
     "library": "var_list.r",
     "varRefreshCmd": "cat(var_dic_list()) "
    }
   },
   "types_to_exclude": [
    "module",
    "function",
    "builtin_function_or_method",
    "instance",
    "_Feature"
   ],
   "window_display": false
  }
 },
 "nbformat": 4,
 "nbformat_minor": 2
}
