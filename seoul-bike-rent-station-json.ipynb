{
 "cells": [
  {
   "cell_type": "markdown",
   "metadata": {},
   "source": [
    "## 따릉이 대여소 크롤링\n",
    "* 대여소 조회 페이지 : https://www.bikeseoul.com/app/station/moveStationRealtimeStatus.do"
   ]
  },
  {
   "cell_type": "code",
   "execution_count": 1,
   "metadata": {},
   "outputs": [],
   "source": [
    "import requests\n",
    "import pandas as pd"
   ]
  },
  {
   "cell_type": "code",
   "execution_count": 2,
   "metadata": {},
   "outputs": [],
   "source": [
    "url = \"https://www.bikeseoul.com/app/station/getStationRealtimeStatus.do\"\n",
    "param_query = \"stationGrpSeq=ALL&tabId=\""
   ]
  },
  {
   "cell_type": "code",
   "execution_count": 3,
   "metadata": {},
   "outputs": [
    {
     "data": {
      "text/plain": [
       "{'stationGrpSeq': 'ALL', 'tabId': ''}"
      ]
     },
     "execution_count": 3,
     "metadata": {},
     "output_type": "execute_result"
    }
   ],
   "source": [
    "param_query_split = param_query.split(\"&\")\n",
    "\n",
    "params = {}\n",
    "for query in param_query_split:\n",
    "    q = query.split(\"=\")\n",
    "    key = q[0]\n",
    "    val = q[1]\n",
    "    params[key] = val\n",
    "\n",
    "params"
   ]
  },
  {
   "cell_type": "code",
   "execution_count": 4,
   "metadata": {},
   "outputs": [
    {
     "data": {
      "text/plain": [
       "<Response [200]>"
      ]
     },
     "execution_count": 4,
     "metadata": {},
     "output_type": "execute_result"
    }
   ],
   "source": [
    "response = requests.post(url, params)\n",
    "response"
   ]
  },
  {
   "cell_type": "code",
   "execution_count": 5,
   "metadata": {},
   "outputs": [
    {
     "data": {
      "text/plain": [
       "[{'stationName': '위트콤',\n",
       "  'stationImgFileName': '',\n",
       "  'stationId': 'ST-484',\n",
       "  'stationLongitude': '0.00000000',\n",
       "  'stationLatitude': '0.00000000',\n",
       "  'rackTotCnt': '16',\n",
       "  'parkingBikeTotCnt': '3',\n",
       "  'parkingQRBikeCnt': '2291',\n",
       "  'parkingELECBikeCnt': '0',\n",
       "  'stationSeCd': 'RAK_001',\n",
       "  'mode': None},\n",
       " {'stationName': '위트콤공장',\n",
       "  'stationImgFileName': '',\n",
       "  'stationId': 'ST-598',\n",
       "  'stationLongitude': '0.00000000',\n",
       "  'stationLatitude': '0.00000000',\n",
       "  'rackTotCnt': '68',\n",
       "  'parkingBikeTotCnt': '0',\n",
       "  'parkingQRBikeCnt': '0',\n",
       "  'parkingELECBikeCnt': '0',\n",
       "  'stationSeCd': 'RAK_001',\n",
       "  'mode': None}]"
      ]
     },
     "execution_count": 5,
     "metadata": {},
     "output_type": "execute_result"
    }
   ],
   "source": [
    "import json\n",
    "data = json.loads(response.text)\n",
    "data[\"realtimeList\"][:2]"
   ]
  },
  {
   "cell_type": "code",
   "execution_count": 6,
   "metadata": {},
   "outputs": [
    {
     "data": {
      "text/plain": [
       "(2040, 11)"
      ]
     },
     "execution_count": 6,
     "metadata": {},
     "output_type": "execute_result"
    }
   ],
   "source": [
    "df = pd.DataFrame(data[\"realtimeList\"])\n",
    "df.shape"
   ]
  },
  {
   "cell_type": "code",
   "execution_count": 7,
   "metadata": {},
   "outputs": [
    {
     "data": {
      "text/html": [
       "<div>\n",
       "<style scoped>\n",
       "    .dataframe tbody tr th:only-of-type {\n",
       "        vertical-align: middle;\n",
       "    }\n",
       "\n",
       "    .dataframe tbody tr th {\n",
       "        vertical-align: top;\n",
       "    }\n",
       "\n",
       "    .dataframe thead th {\n",
       "        text-align: right;\n",
       "    }\n",
       "</style>\n",
       "<table border=\"1\" class=\"dataframe\">\n",
       "  <thead>\n",
       "    <tr style=\"text-align: right;\">\n",
       "      <th></th>\n",
       "      <th>stationName</th>\n",
       "      <th>stationImgFileName</th>\n",
       "      <th>stationId</th>\n",
       "      <th>stationLongitude</th>\n",
       "      <th>stationLatitude</th>\n",
       "      <th>rackTotCnt</th>\n",
       "      <th>parkingBikeTotCnt</th>\n",
       "      <th>parkingQRBikeCnt</th>\n",
       "      <th>parkingELECBikeCnt</th>\n",
       "      <th>stationSeCd</th>\n",
       "      <th>mode</th>\n",
       "    </tr>\n",
       "  </thead>\n",
       "  <tbody>\n",
       "    <tr>\n",
       "      <th>0</th>\n",
       "      <td>위트콤</td>\n",
       "      <td></td>\n",
       "      <td>ST-484</td>\n",
       "      <td>0.00000000</td>\n",
       "      <td>0.00000000</td>\n",
       "      <td>16</td>\n",
       "      <td>3</td>\n",
       "      <td>2291</td>\n",
       "      <td>0</td>\n",
       "      <td>RAK_001</td>\n",
       "      <td>None</td>\n",
       "    </tr>\n",
       "    <tr>\n",
       "      <th>1</th>\n",
       "      <td>위트콤공장</td>\n",
       "      <td></td>\n",
       "      <td>ST-598</td>\n",
       "      <td>0.00000000</td>\n",
       "      <td>0.00000000</td>\n",
       "      <td>68</td>\n",
       "      <td>0</td>\n",
       "      <td>0</td>\n",
       "      <td>0</td>\n",
       "      <td>RAK_001</td>\n",
       "      <td>None</td>\n",
       "    </tr>\n",
       "    <tr>\n",
       "      <th>2</th>\n",
       "      <td>101. (구)합정동 주민센터</td>\n",
       "      <td></td>\n",
       "      <td>ST-3</td>\n",
       "      <td>126.90575409</td>\n",
       "      <td>37.54956055</td>\n",
       "      <td>7</td>\n",
       "      <td>0</td>\n",
       "      <td>4</td>\n",
       "      <td>0</td>\n",
       "      <td>RAK_001</td>\n",
       "      <td>None</td>\n",
       "    </tr>\n",
       "    <tr>\n",
       "      <th>3</th>\n",
       "      <td>102. 망원역 1번출구 앞</td>\n",
       "      <td></td>\n",
       "      <td>ST-4</td>\n",
       "      <td>126.91062927</td>\n",
       "      <td>37.55564880</td>\n",
       "      <td>22</td>\n",
       "      <td>1</td>\n",
       "      <td>6</td>\n",
       "      <td>0</td>\n",
       "      <td>RAK_001</td>\n",
       "      <td>None</td>\n",
       "    </tr>\n",
       "    <tr>\n",
       "      <th>4</th>\n",
       "      <td>103. 망원역 2번출구 앞</td>\n",
       "      <td></td>\n",
       "      <td>ST-5</td>\n",
       "      <td>126.91083527</td>\n",
       "      <td>37.55495071</td>\n",
       "      <td>16</td>\n",
       "      <td>3</td>\n",
       "      <td>6</td>\n",
       "      <td>0</td>\n",
       "      <td>RAK_001</td>\n",
       "      <td>None</td>\n",
       "    </tr>\n",
       "  </tbody>\n",
       "</table>\n",
       "</div>"
      ],
      "text/plain": [
       "        stationName stationImgFileName stationId stationLongitude  \\\n",
       "0               위트콤                       ST-484       0.00000000   \n",
       "1             위트콤공장                       ST-598       0.00000000   \n",
       "2  101. (구)합정동 주민센터                         ST-3     126.90575409   \n",
       "3   102. 망원역 1번출구 앞                         ST-4     126.91062927   \n",
       "4   103. 망원역 2번출구 앞                         ST-5     126.91083527   \n",
       "\n",
       "  stationLatitude rackTotCnt parkingBikeTotCnt parkingQRBikeCnt  \\\n",
       "0      0.00000000         16                 3             2291   \n",
       "1      0.00000000         68                 0                0   \n",
       "2     37.54956055          7                 0                4   \n",
       "3     37.55564880         22                 1                6   \n",
       "4     37.55495071         16                 3                6   \n",
       "\n",
       "  parkingELECBikeCnt stationSeCd  mode  \n",
       "0                  0     RAK_001  None  \n",
       "1                  0     RAK_001  None  \n",
       "2                  0     RAK_001  None  \n",
       "3                  0     RAK_001  None  \n",
       "4                  0     RAK_001  None  "
      ]
     },
     "execution_count": 7,
     "metadata": {},
     "output_type": "execute_result"
    }
   ],
   "source": [
    "df.head()"
   ]
  },
  {
   "cell_type": "code",
   "execution_count": 8,
   "metadata": {},
   "outputs": [],
   "source": [
    "df.to_csv(\"data/realtime_rent_station.csv\", index = False)"
   ]
  },
  {
   "cell_type": "code",
   "execution_count": 9,
   "metadata": {},
   "outputs": [
    {
     "data": {
      "text/html": [
       "<div>\n",
       "<style scoped>\n",
       "    .dataframe tbody tr th:only-of-type {\n",
       "        vertical-align: middle;\n",
       "    }\n",
       "\n",
       "    .dataframe tbody tr th {\n",
       "        vertical-align: top;\n",
       "    }\n",
       "\n",
       "    .dataframe thead th {\n",
       "        text-align: right;\n",
       "    }\n",
       "</style>\n",
       "<table border=\"1\" class=\"dataframe\">\n",
       "  <thead>\n",
       "    <tr style=\"text-align: right;\">\n",
       "      <th></th>\n",
       "      <th>stationName</th>\n",
       "      <th>stationImgFileName</th>\n",
       "      <th>stationId</th>\n",
       "      <th>stationLongitude</th>\n",
       "      <th>stationLatitude</th>\n",
       "      <th>rackTotCnt</th>\n",
       "      <th>parkingBikeTotCnt</th>\n",
       "      <th>parkingQRBikeCnt</th>\n",
       "      <th>parkingELECBikeCnt</th>\n",
       "      <th>stationSeCd</th>\n",
       "      <th>mode</th>\n",
       "    </tr>\n",
       "  </thead>\n",
       "  <tbody>\n",
       "    <tr>\n",
       "      <th>2035</th>\n",
       "      <td>3587.우성식품 앞</td>\n",
       "      <td>NaN</td>\n",
       "      <td>ST-2407</td>\n",
       "      <td>127.094231</td>\n",
       "      <td>37.542465</td>\n",
       "      <td>15</td>\n",
       "      <td>0</td>\n",
       "      <td>0</td>\n",
       "      <td>0</td>\n",
       "      <td>RAK_002</td>\n",
       "      <td>NaN</td>\n",
       "    </tr>\n",
       "    <tr>\n",
       "      <th>2036</th>\n",
       "      <td>3588.세종대학교(영실관)</td>\n",
       "      <td>NaN</td>\n",
       "      <td>ST-2408</td>\n",
       "      <td>127.073540</td>\n",
       "      <td>37.552372</td>\n",
       "      <td>10</td>\n",
       "      <td>0</td>\n",
       "      <td>1</td>\n",
       "      <td>0</td>\n",
       "      <td>RAK_002</td>\n",
       "      <td>NaN</td>\n",
       "    </tr>\n",
       "    <tr>\n",
       "      <th>2037</th>\n",
       "      <td>3600.사근빗물펌프장 건너편</td>\n",
       "      <td>NaN</td>\n",
       "      <td>ST-2420</td>\n",
       "      <td>127.049683</td>\n",
       "      <td>37.561192</td>\n",
       "      <td>8</td>\n",
       "      <td>0</td>\n",
       "      <td>3</td>\n",
       "      <td>0</td>\n",
       "      <td>RAK_002</td>\n",
       "      <td>NaN</td>\n",
       "    </tr>\n",
       "    <tr>\n",
       "      <th>2038</th>\n",
       "      <td>9996. 시설2</td>\n",
       "      <td>NaN</td>\n",
       "      <td>ST-1738</td>\n",
       "      <td>0.000000</td>\n",
       "      <td>0.000000</td>\n",
       "      <td>2</td>\n",
       "      <td>0</td>\n",
       "      <td>0</td>\n",
       "      <td>0</td>\n",
       "      <td>RAK_001</td>\n",
       "      <td>NaN</td>\n",
       "    </tr>\n",
       "    <tr>\n",
       "      <th>2039</th>\n",
       "      <td>99998. 상암단말정비</td>\n",
       "      <td>NaN</td>\n",
       "      <td>ST-34</td>\n",
       "      <td>51.316605</td>\n",
       "      <td>-87.394150</td>\n",
       "      <td>17</td>\n",
       "      <td>4</td>\n",
       "      <td>0</td>\n",
       "      <td>0</td>\n",
       "      <td>RAK_001</td>\n",
       "      <td>NaN</td>\n",
       "    </tr>\n",
       "  </tbody>\n",
       "</table>\n",
       "</div>"
      ],
      "text/plain": [
       "           stationName  stationImgFileName stationId  stationLongitude  \\\n",
       "2035       3587.우성식품 앞                 NaN   ST-2407        127.094231   \n",
       "2036   3588.세종대학교(영실관)                 NaN   ST-2408        127.073540   \n",
       "2037  3600.사근빗물펌프장 건너편                 NaN   ST-2420        127.049683   \n",
       "2038         9996. 시설2                 NaN   ST-1738          0.000000   \n",
       "2039     99998. 상암단말정비                 NaN     ST-34         51.316605   \n",
       "\n",
       "      stationLatitude  rackTotCnt  parkingBikeTotCnt  parkingQRBikeCnt  \\\n",
       "2035        37.542465          15                  0                 0   \n",
       "2036        37.552372          10                  0                 1   \n",
       "2037        37.561192           8                  0                 3   \n",
       "2038         0.000000           2                  0                 0   \n",
       "2039       -87.394150          17                  4                 0   \n",
       "\n",
       "      parkingELECBikeCnt stationSeCd  mode  \n",
       "2035                   0     RAK_002   NaN  \n",
       "2036                   0     RAK_002   NaN  \n",
       "2037                   0     RAK_002   NaN  \n",
       "2038                   0     RAK_001   NaN  \n",
       "2039                   0     RAK_001   NaN  "
      ]
     },
     "execution_count": 9,
     "metadata": {},
     "output_type": "execute_result"
    }
   ],
   "source": [
    "pd.read_csv(\"data/realtime_rent_station.csv\").tail()"
   ]
  },
  {
   "cell_type": "code",
   "execution_count": null,
   "metadata": {},
   "outputs": [],
   "source": []
  }
 ],
 "metadata": {
  "kernelspec": {
   "display_name": "Python 3",
   "language": "python",
   "name": "python3"
  },
  "language_info": {
   "codemirror_mode": {
    "name": "ipython",
    "version": 3
   },
   "file_extension": ".py",
   "mimetype": "text/x-python",
   "name": "python",
   "nbconvert_exporter": "python",
   "pygments_lexer": "ipython3",
   "version": "3.7.6"
  },
  "toc": {
   "base_numbering": 1,
   "nav_menu": {},
   "number_sections": true,
   "sideBar": true,
   "skip_h1_title": false,
   "title_cell": "Table of Contents",
   "title_sidebar": "Contents",
   "toc_cell": false,
   "toc_position": {},
   "toc_section_display": true,
   "toc_window_display": false
  },
  "varInspector": {
   "cols": {
    "lenName": 16,
    "lenType": 16,
    "lenVar": 40
   },
   "kernels_config": {
    "python": {
     "delete_cmd_postfix": "",
     "delete_cmd_prefix": "del ",
     "library": "var_list.py",
     "varRefreshCmd": "print(var_dic_list())"
    },
    "r": {
     "delete_cmd_postfix": ") ",
     "delete_cmd_prefix": "rm(",
     "library": "var_list.r",
     "varRefreshCmd": "cat(var_dic_list()) "
    }
   },
   "types_to_exclude": [
    "module",
    "function",
    "builtin_function_or_method",
    "instance",
    "_Feature"
   ],
   "window_display": false
  }
 },
 "nbformat": 4,
 "nbformat_minor": 2
}
