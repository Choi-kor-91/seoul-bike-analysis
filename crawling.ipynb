{
 "cells": [
  {
   "cell_type": "markdown",
   "metadata": {},
   "source": [
    "# 크롤링으로 위경도 가져오기\n",
    "* 따릉이 대여소 정보 가져오기"
   ]
  },
  {
   "cell_type": "code",
   "execution_count": 12,
   "metadata": {},
   "outputs": [],
   "source": [
    "import requests\n",
    "from bs4 import BeautifulSoup as bs\n",
    "import random\n",
    "import time\n",
    "from tqdm import tqdm, trange\n",
    "\n",
    "rent_stations = []\n",
    "base_url = 'https://www.bikeseoul.com/app/station/moveStationSearchView.do?currentPageNo='\n",
    "\n",
    "def crawling_rent_station(start, end):\n",
    "    for num in trange(start, end+1):\n",
    "        response = requests.get( base_url + str(num))\n",
    "        if response.status_code == 200:\n",
    "            # response 값을 전달해 각 대여소의 상세 정보를 받아온다.\n",
    "            info = station_info(response)\n",
    "            # 결과 값을 받아 리스트에 대여소를 추가한다.\n",
    "            rent_stations.append(info) \n",
    "        time.sleep(random.randint(1,2))\n",
    "    return rent_stations"
   ]
  },
  {
   "cell_type": "code",
   "execution_count": 13,
   "metadata": {},
   "outputs": [],
   "source": [
    "def station_info(response):\n",
    "    soup = bs(response.text, 'html.parser')\n",
    "    trs = soup.select('table.psboard1 > tbody')[0].find_all('tr')\n",
    "    for tr in trs:\n",
    "        # 대여소 정보를 담아준다.\n",
    "        info = []\n",
    "        # 대여소명\n",
    "        name = tr.select('td.pl10')[0].get_text(strip=True)\n",
    "        if '.' in name:\n",
    "            info.append(name.split('.')[-1].lstrip())\n",
    "        else:\n",
    "            info.append(name)\n",
    "        # 운영여부\n",
    "        info.append(tr.select('td.pl10')[1].get_text(strip=True))\n",
    "        # 주소\n",
    "        info.append(tr.select('td.mhid')[0].get_text(strip=True))\n",
    "        # 위도, 경도\n",
    "        geo = tr.find('a')['param-data'].split(',')\n",
    "        info.append(geo[0])\n",
    "        info.append(geo[1])\n",
    "    return info"
   ]
  },
  {
   "cell_type": "code",
   "execution_count": 14,
   "metadata": {},
   "outputs": [
    {
     "name": "stderr",
     "output_type": "stream",
     "text": [
      "100%|██████████| 2/2 [00:04<00:00,  2.23s/it]\n"
     ]
    }
   ],
   "source": [
    "# 처음엔 한 두 페이지정도를 크롤링해보고 정상으로 동작하면 전체를 크롤링한다.\n",
    "rent_stations = crawling_rent_station(1, 2)\n",
    "# rent_stations = crawling_rent_station(1, 293)"
   ]
  },
  {
   "cell_type": "code",
   "execution_count": 15,
   "metadata": {},
   "outputs": [
    {
     "data": {
      "text/plain": [
       "(2, 5)"
      ]
     },
     "execution_count": 15,
     "metadata": {},
     "output_type": "execute_result"
    }
   ],
   "source": [
    "import pandas as pd\n",
    "header = ['대여소','상태','주소','위도','경도']\n",
    "df = pd.DataFrame.from_records(rent_stations, columns = header)\n",
    "df.shape"
   ]
  },
  {
   "cell_type": "code",
   "execution_count": 16,
   "metadata": {},
   "outputs": [
    {
     "data": {
      "text/html": [
       "<div>\n",
       "<style scoped>\n",
       "    .dataframe tbody tr th:only-of-type {\n",
       "        vertical-align: middle;\n",
       "    }\n",
       "\n",
       "    .dataframe tbody tr th {\n",
       "        vertical-align: top;\n",
       "    }\n",
       "\n",
       "    .dataframe thead th {\n",
       "        text-align: right;\n",
       "    }\n",
       "</style>\n",
       "<table border=\"1\" class=\"dataframe\">\n",
       "  <thead>\n",
       "    <tr style=\"text-align: right;\">\n",
       "      <th></th>\n",
       "      <th>대여소</th>\n",
       "      <th>상태</th>\n",
       "      <th>주소</th>\n",
       "      <th>위도</th>\n",
       "      <th>경도</th>\n",
       "    </tr>\n",
       "  </thead>\n",
       "  <tbody>\n",
       "    <tr>\n",
       "      <th>0</th>\n",
       "      <td>롯데캐슬 115동앞</td>\n",
       "      <td>운영중</td>\n",
       "      <td>서울특별시 강동구 양재대로 1665 명일동 304</td>\n",
       "      <td>37.554920</td>\n",
       "      <td>127.142799</td>\n",
       "    </tr>\n",
       "    <tr>\n",
       "      <th>1</th>\n",
       "      <td>LIGA 아파트 앞</td>\n",
       "      <td>운영중</td>\n",
       "      <td>서울특별시 강동구 천호대로 1120 성내동 450-31</td>\n",
       "      <td>37.534771</td>\n",
       "      <td>127.135239</td>\n",
       "    </tr>\n",
       "  </tbody>\n",
       "</table>\n",
       "</div>"
      ],
      "text/plain": [
       "          대여소   상태                              주소         위도          경도\n",
       "0  롯데캐슬 115동앞  운영중     서울특별시 강동구 양재대로 1665 명일동 304  37.554920  127.142799\n",
       "1  LIGA 아파트 앞  운영중  서울특별시 강동구 천호대로 1120 성내동 450-31  37.534771  127.135239"
      ]
     },
     "execution_count": 16,
     "metadata": {},
     "output_type": "execute_result"
    }
   ],
   "source": [
    "df.head()"
   ]
  },
  {
   "cell_type": "code",
   "execution_count": 8,
   "metadata": {},
   "outputs": [],
   "source": [
    "df.to_csv('data/bike_rent_station.csv', index=False)"
   ]
  },
  {
   "cell_type": "code",
   "execution_count": 11,
   "metadata": {},
   "outputs": [
    {
     "name": "stdout",
     "output_type": "stream",
     "text": [
      "data/bike_rent_station.csv\n"
     ]
    }
   ],
   "source": [
    "# 파일이 제대로 생성되었는지 확인\n",
    "%ls data/bike_rent_station.csv"
   ]
  },
  {
   "cell_type": "code",
   "execution_count": null,
   "metadata": {},
   "outputs": [],
   "source": []
  }
 ],
 "metadata": {
  "kernelspec": {
   "display_name": "Python 3",
   "language": "python",
   "name": "python3"
  },
  "language_info": {
   "codemirror_mode": {
    "name": "ipython",
    "version": 3
   },
   "file_extension": ".py",
   "mimetype": "text/x-python",
   "name": "python",
   "nbconvert_exporter": "python",
   "pygments_lexer": "ipython3",
   "version": "3.6.1"
  }
 },
 "nbformat": 4,
 "nbformat_minor": 2
}
