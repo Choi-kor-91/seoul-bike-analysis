{
 "cells": [
  {
   "cell_type": "code",
   "execution_count": 1,
   "metadata": {},
   "outputs": [],
   "source": [
    "import pandas as pd"
   ]
  },
  {
   "cell_type": "code",
   "execution_count": 2,
   "metadata": {},
   "outputs": [
    {
     "name": "stdout",
     "output_type": "stream",
     "text": [
      "data/seoul-bike-2016.csv         data/seoul-bike-2018-reduce.csv\n",
      "data/seoul-bike-2017.csv         data/seoul-bike-2018.csv\n"
     ]
    }
   ],
   "source": [
    "%ls data/seoul-bike-*"
   ]
  },
  {
   "cell_type": "code",
   "execution_count": 3,
   "metadata": {},
   "outputs": [
    {
     "name": "stderr",
     "output_type": "stream",
     "text": [
      "<string>:2: DtypeWarning: Columns (2,6) have mixed types. Specify dtype option on import or set low_memory=False.\n"
     ]
    },
    {
     "name": "stdout",
     "output_type": "stream",
     "text": [
      "CPU times: user 22.5 s, sys: 2.46 s, total: 25 s\n",
      "Wall time: 26 s\n"
     ]
    },
    {
     "data": {
      "text/plain": [
       "(8441556, 11)"
      ]
     },
     "execution_count": 3,
     "metadata": {},
     "output_type": "execute_result"
    }
   ],
   "source": [
    "%time df_2018 = pd.read_csv(\"data/seoul-bike-2018.csv\")\n",
    "df_2018.shape"
   ]
  },
  {
   "cell_type": "code",
   "execution_count": 4,
   "metadata": {},
   "outputs": [
    {
     "data": {
      "text/plain": [
       "Index(['자전거번호', '대여일시', '대여대여소번호', '대여대여소명', '대여거치대', '반납일시', '반납대여소번호',\n",
       "       '반납대여소명', '반납거치대', '이용시간(분)', '이용거리(M)'],\n",
       "      dtype='object')"
      ]
     },
     "execution_count": 4,
     "metadata": {},
     "output_type": "execute_result"
    }
   ],
   "source": [
    "df_2018.columns"
   ]
  },
  {
   "cell_type": "code",
   "execution_count": 5,
   "metadata": {},
   "outputs": [
    {
     "name": "stdout",
     "output_type": "stream",
     "text": [
      "CPU times: user 4.51 s, sys: 229 ms, total: 4.74 s\n",
      "Wall time: 4.8 s\n"
     ]
    }
   ],
   "source": [
    "%time df_2018[\"자전거번호SPB\"] = df_2018[\"자전거번호\"].apply(lambda x : x.split(\"-\")[1])"
   ]
  },
  {
   "cell_type": "code",
   "execution_count": 6,
   "metadata": {},
   "outputs": [
    {
     "name": "stdout",
     "output_type": "stream",
     "text": [
      "<class 'pandas.core.frame.DataFrame'>\n",
      "RangeIndex: 8441556 entries, 0 to 8441555\n",
      "Data columns (total 12 columns):\n",
      "자전거번호       object\n",
      "대여일시        object\n",
      "대여대여소번호     object\n",
      "대여대여소명      object\n",
      "대여거치대       int64\n",
      "반납일시        object\n",
      "반납대여소번호     object\n",
      "반납대여소명      object\n",
      "반납거치대       int64\n",
      "이용시간(분)     int64\n",
      "이용거리(M)     int64\n",
      "자전거번호SPB    object\n",
      "dtypes: int64(4), object(8)\n",
      "memory usage: 772.8+ MB\n"
     ]
    }
   ],
   "source": [
    "df_2018.info()"
   ]
  },
  {
   "cell_type": "code",
   "execution_count": 7,
   "metadata": {},
   "outputs": [
    {
     "data": {
      "text/plain": [
       "(8441556, 9)"
      ]
     },
     "execution_count": 7,
     "metadata": {},
     "output_type": "execute_result"
    }
   ],
   "source": [
    "# 데이터가 너무 커서 로드하는데 시간이 오래 걸리거나 전처리에 시간이 오래 걸린다.\n",
    "# 자원을 효율적으로 사용하기 위해 용량이 큰 텍스트 데이터를 빼주고 나중에 join이나 merge를 통해 불러오도록 한다.\n",
    "df_reduce_2018 = df_2018[['자전거번호SPB', '대여일시', '대여대여소번호', '대여거치대', '반납일시', '반납대여소번호',\n",
    "       '반납거치대', '이용시간(분)', '이용거리(M)']]\n",
    "df_reduce_2018.shape"
   ]
  },
  {
   "cell_type": "code",
   "execution_count": 8,
   "metadata": {},
   "outputs": [
    {
     "name": "stdout",
     "output_type": "stream",
     "text": [
      "CPU times: user 59.4 s, sys: 1.63 s, total: 1min 1s\n",
      "Wall time: 1min 3s\n"
     ]
    }
   ],
   "source": [
    "%time df_reduce_2018.to_csv(\"data/seoul-bike-2018-reduce.csv\", index=False)"
   ]
  },
  {
   "cell_type": "code",
   "execution_count": 9,
   "metadata": {},
   "outputs": [
    {
     "name": "stderr",
     "output_type": "stream",
     "text": [
      "<string>:2: DtypeWarning: Columns (2,5) have mixed types. Specify dtype option on import or set low_memory=False.\n"
     ]
    },
    {
     "name": "stdout",
     "output_type": "stream",
     "text": [
      "CPU times: user 17 s, sys: 3.29 s, total: 20.3 s\n",
      "Wall time: 22.2 s\n"
     ]
    },
    {
     "data": {
      "text/plain": [
       "(8441556, 9)"
      ]
     },
     "execution_count": 9,
     "metadata": {},
     "output_type": "execute_result"
    }
   ],
   "source": [
    "%time df_reduce_2018_file = pd.read_csv(\"data/seoul-bike-2018-reduce.csv\")\n",
    "df_reduce_2018_file.shape"
   ]
  },
  {
   "cell_type": "code",
   "execution_count": 10,
   "metadata": {},
   "outputs": [
    {
     "name": "stdout",
     "output_type": "stream",
     "text": [
      "-rw-r--r--  1 corazzon  staff   176M Jan  7 13:54 data/seoul-bike-2016.csv\n",
      "-rw-r--r--  1 corazzon  staff   592M Jan  7 13:55 data/seoul-bike-2017.csv\n",
      "-rw-r--r--  1 corazzon  staff   540M Jan 13 06:56 data/seoul-bike-2018-reduce.csv\n",
      "-rw-rw-r--  1 corazzon  staff   1.0G Jan  7 13:56 data/seoul-bike-2018.csv\n"
     ]
    }
   ],
   "source": [
    "# 용량이 절반정도 줄어 들었다.\n",
    "%ls -lah data/seoul-bike-*"
   ]
  },
  {
   "cell_type": "code",
   "execution_count": null,
   "metadata": {},
   "outputs": [],
   "source": []
  }
 ],
 "metadata": {
  "kernelspec": {
   "display_name": "Python 3",
   "language": "python",
   "name": "python3"
  },
  "language_info": {
   "codemirror_mode": {
    "name": "ipython",
    "version": 3
   },
   "file_extension": ".py",
   "mimetype": "text/x-python",
   "name": "python",
   "nbconvert_exporter": "python",
   "pygments_lexer": "ipython3",
   "version": "3.6.1"
  }
 },
 "nbformat": 4,
 "nbformat_minor": 2
}
